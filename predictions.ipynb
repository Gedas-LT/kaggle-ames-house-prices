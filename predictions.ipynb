{
 "cells": [
  {
   "cell_type": "markdown",
   "source": [
    "# Description\r\n",
    "\r\n",
    "Ask a home buyer to describe their dream house, and they probably won't begin with the height of the basement ceiling or the proximity to an east-west railroad. But this dataset proves that much more influences price negotiations than the number of bedrooms or a white-picket fence.\r\n",
    "\r\n",
    "With 79 explanatory variables describing (almost) every aspect of residential homes in Ames, Iowa, this dataset from Kaggle competition challenges you to predict the final price of each home."
   ],
   "metadata": {}
  },
  {
   "cell_type": "markdown",
   "source": [
    "# Requirements\r\n",
    "\r\n",
    "- Train, validate (using a dedicated validation set) and submit a linear regression model.\r\n",
    "- Train, validate (using a dedicated validation set) and submit a random forest regressor model.\r\n",
    "- Achieve a score better than 0.14 on the public leaderboard."
   ],
   "metadata": {}
  },
  {
   "cell_type": "markdown",
   "source": [
    "# Evaluation criteria\r\n",
    "\r\n",
    "- Public leaderboard score\r\n",
    "- How simple is the model\r\n",
    "- Code quality"
   ],
   "metadata": {}
  },
  {
   "cell_type": "markdown",
   "source": [
    "# Data cleaning"
   ],
   "metadata": {}
  },
  {
   "cell_type": "code",
   "execution_count": 76,
   "source": [
    "import eli5\r\n",
    "import matplotlib.pyplot as plt\r\n",
    "import missingno as msno\r\n",
    "import numpy as np\r\n",
    "import pandas as pd\r\n",
    "pd.set_option(\"display.max_columns\", None)\r\n",
    "import seaborn as sns\r\n",
    "sns.set_theme()\r\n",
    "from eli5.sklearn import PermutationImportance\r\n",
    "from sklearn.ensemble import RandomForestRegressor\r\n",
    "from sklearn.linear_model import LinearRegression, Ridge, Lasso\r\n",
    "from sklearn.model_selection import cross_val_score, train_test_split, RandomizedSearchCV\r\n",
    "from sklearn.preprocessing import PolynomialFeatures\r\n",
    "\r\n",
    "from functions import unbalanced_features, feature_selector, alpha_selector"
   ],
   "outputs": [],
   "metadata": {}
  },
  {
   "cell_type": "code",
   "execution_count": 77,
   "source": [
    "train_data = pd.read_csv(\"data/train.csv\")\r\n",
    "test_data = pd.read_csv(\"data/test.csv\")"
   ],
   "outputs": [],
   "metadata": {}
  },
  {
   "cell_type": "code",
   "execution_count": 78,
   "source": [
    "msno.bar(train_data, labels=True, fontsize=12);"
   ],
   "outputs": [],
   "metadata": {}
  },
  {
   "cell_type": "code",
   "execution_count": 79,
   "source": [
    "msno.bar(test_data, labels=True, fontsize=12);"
   ],
   "outputs": [],
   "metadata": {}
  },
  {
   "cell_type": "markdown",
   "source": [
    "In the very beginning I have decided entirely to drop Alley, PoolQC, Fence and MiscFeature features because majority of values were missing."
   ],
   "metadata": {}
  },
  {
   "cell_type": "code",
   "execution_count": 80,
   "source": [
    "features_to_drop = [\"Id\", \"Alley\", \"PoolArea\", \"PoolQC\", \"Fence\", \"MiscFeature\"]\r\n",
    "cleaned_train_data = train_data.drop(columns=features_to_drop)\r\n",
    "cleaned_test_data = test_data.drop(columns=features_to_drop)"
   ],
   "outputs": [],
   "metadata": {}
  },
  {
   "cell_type": "markdown",
   "source": [
    "Assuming that majority of lot areas in one neighborhood are more or less similar, I have filled missing values in LotFrontage column by most frequent value of particular neighborhood. "
   ],
   "metadata": {}
  },
  {
   "cell_type": "code",
   "execution_count": 81,
   "source": [
    "fill_mode = lambda x: x.value_counts().index[0]\r\n",
    "\r\n",
    "cleaned_train_data[\"LotFrontage\"] = cleaned_train_data[\"LotFrontage\"].fillna(cleaned_train_data.groupby(\"Neighborhood\")[\"LotFrontage\"].transform(fill_mode))\r\n",
    "cleaned_test_data[\"LotFrontage\"] = cleaned_test_data[\"LotFrontage\"].fillna(cleaned_test_data.groupby(\"Neighborhood\")[\"LotFrontage\"].transform(fill_mode))"
   ],
   "outputs": [],
   "metadata": {}
  },
  {
   "cell_type": "code",
   "execution_count": 82,
   "source": [
    "print(\"Most frequent value in MasVnrType column:\", cleaned_train_data[\"MasVnrType\"].mode()[0])\r\n",
    "print(\"Most frequent value in MasVnrAre column:\", cleaned_train_data[\"MasVnrArea\"].mode()[0])"
   ],
   "outputs": [
    {
     "output_type": "stream",
     "name": "stdout",
     "text": [
      "Most frequent value in MasVnrType column: None\n",
      "Most frequent value in MasVnrAre column: 0.0\n"
     ]
    }
   ],
   "metadata": {}
  },
  {
   "cell_type": "code",
   "execution_count": 83,
   "source": [
    "print(\"Number of most frequent value in MasVnrType column:\", cleaned_train_data[cleaned_train_data[\"MasVnrType\"] == \"None\"].shape[0])\r\n",
    "print(\"Number of most frequent value in MasVnrAre column:\", cleaned_train_data[cleaned_train_data[\"MasVnrArea\"] == 0.0].shape[0])"
   ],
   "outputs": [
    {
     "output_type": "stream",
     "name": "stdout",
     "text": [
      "Number of most frequent value in MasVnrType column: 864\n",
      "Number of most frequent value in MasVnrAre column: 861\n"
     ]
    }
   ],
   "metadata": {}
  },
  {
   "cell_type": "markdown",
   "source": [
    "More than a half of values in both MasVnrType and MasVnrAre columns are None or 0.0 respectively. Also I made a technical assumption that masonry type depends on RoofStyle, RoofMatl and Exterior1st or vice versa. So the most frequent values of latter features, which also are values of coresponding rows with missing values in MasVnrType and MasVnrAre columns, are None and 0.0."
   ],
   "metadata": {}
  },
  {
   "cell_type": "code",
   "execution_count": 84,
   "source": [
    "cleaned_train_data[\"MasVnrType\"] = cleaned_train_data[\"MasVnrType\"].fillna(\"None\")\r\n",
    "cleaned_train_data[\"MasVnrArea\"] = cleaned_train_data[\"MasVnrArea\"].fillna(0.0)\r\n",
    "\r\n",
    "cleaned_test_data[\"MasVnrType\"] = cleaned_test_data[\"MasVnrType\"].fillna(\"None\")\r\n",
    "cleaned_test_data[\"MasVnrArea\"] = cleaned_test_data[\"MasVnrArea\"].fillna(0.0)"
   ],
   "outputs": [],
   "metadata": {}
  },
  {
   "cell_type": "markdown",
   "source": [
    "About 40 values are missing which are related to the features of basement and according to data the description file this means that the house has no basement, so I have changed these NA values to None."
   ],
   "metadata": {}
  },
  {
   "cell_type": "code",
   "execution_count": 85,
   "source": [
    "basement_features = [\"BsmtQual\", \"BsmtCond\", \"BsmtExposure\", \"BsmtFinType1\", \"BsmtFinType2\"]\r\n",
    "\r\n",
    "for feature in basement_features:\r\n",
    "    cleaned_train_data[feature] = cleaned_train_data[feature].fillna(\"None\")\r\n",
    "    cleaned_test_data[feature] = cleaned_test_data[feature].fillna(\"None\")"
   ],
   "outputs": [],
   "metadata": {}
  },
  {
   "cell_type": "markdown",
   "source": [
    "Electrical feature's column is missing just one value, so I have replaced it with most frequent value."
   ],
   "metadata": {}
  },
  {
   "cell_type": "code",
   "execution_count": 86,
   "source": [
    "cleaned_train_data[\"Electrical\"] = cleaned_train_data[\"Electrical\"].fillna(cleaned_train_data[\"Electrical\"].value_counts().index[0])"
   ],
   "outputs": [],
   "metadata": {}
  },
  {
   "cell_type": "markdown",
   "source": [
    "NA value in the FireplaceQu column means that house has no fireplace, so I have changed these NA values to None."
   ],
   "metadata": {}
  },
  {
   "cell_type": "code",
   "execution_count": 87,
   "source": [
    "cleaned_train_data[\"FireplaceQu\"] = cleaned_train_data[\"FireplaceQu\"].fillna(\"None\")\r\n",
    "cleaned_test_data[\"FireplaceQu\"] = cleaned_test_data[\"FireplaceQu\"].fillna(\"None\")"
   ],
   "outputs": [],
   "metadata": {}
  },
  {
   "cell_type": "markdown",
   "source": [
    "NA values in features which are related to garage also corresponds that house has no garage, so I have changed these NA values to None."
   ],
   "metadata": {}
  },
  {
   "cell_type": "code",
   "execution_count": 88,
   "source": [
    "garage_features = [\"GarageType\", \"GarageYrBlt\", \"GarageFinish\", \"GarageQual\", \"GarageCond\"]\r\n",
    "\r\n",
    "for feature in garage_features:\r\n",
    "    cleaned_train_data[feature] = cleaned_train_data[feature].fillna(\"None\")\r\n",
    "    cleaned_test_data[feature] = cleaned_test_data[feature].fillna(\"None\")"
   ],
   "outputs": [],
   "metadata": {}
  },
  {
   "cell_type": "markdown",
   "source": [
    "## Imbalanced features"
   ],
   "metadata": {}
  },
  {
   "cell_type": "code",
   "execution_count": 89,
   "source": [
    "frequent_train_values = unbalanced_features(cleaned_train_data)"
   ],
   "outputs": [],
   "metadata": {}
  },
  {
   "cell_type": "code",
   "execution_count": 90,
   "source": [
    "frequent_train_values.head()"
   ],
   "outputs": [
    {
     "output_type": "execute_result",
     "data": {
      "text/html": [
       "<div>\n",
       "<style scoped>\n",
       "    .dataframe tbody tr th:only-of-type {\n",
       "        vertical-align: middle;\n",
       "    }\n",
       "\n",
       "    .dataframe tbody tr th {\n",
       "        vertical-align: top;\n",
       "    }\n",
       "\n",
       "    .dataframe thead th {\n",
       "        text-align: right;\n",
       "    }\n",
       "</style>\n",
       "<table border=\"1\" class=\"dataframe\">\n",
       "  <thead>\n",
       "    <tr style=\"text-align: right;\">\n",
       "      <th></th>\n",
       "      <th>Feature Name</th>\n",
       "      <th>QTY of most freq. value</th>\n",
       "      <th>% of Total Values</th>\n",
       "    </tr>\n",
       "  </thead>\n",
       "  <tbody>\n",
       "    <tr>\n",
       "      <th>7</th>\n",
       "      <td>Utilities</td>\n",
       "      <td>1459</td>\n",
       "      <td>99.931507</td>\n",
       "    </tr>\n",
       "    <tr>\n",
       "      <th>4</th>\n",
       "      <td>Street</td>\n",
       "      <td>1454</td>\n",
       "      <td>99.589041</td>\n",
       "    </tr>\n",
       "    <tr>\n",
       "      <th>12</th>\n",
       "      <td>Condition2</td>\n",
       "      <td>1445</td>\n",
       "      <td>98.972603</td>\n",
       "    </tr>\n",
       "    <tr>\n",
       "      <th>67</th>\n",
       "      <td>3SsnPorch</td>\n",
       "      <td>1436</td>\n",
       "      <td>98.356164</td>\n",
       "    </tr>\n",
       "    <tr>\n",
       "      <th>43</th>\n",
       "      <td>LowQualFinSF</td>\n",
       "      <td>1434</td>\n",
       "      <td>98.219178</td>\n",
       "    </tr>\n",
       "  </tbody>\n",
       "</table>\n",
       "</div>"
      ],
      "text/plain": [
       "    Feature Name  QTY of most freq. value  % of Total Values\n",
       "7      Utilities                     1459          99.931507\n",
       "4         Street                     1454          99.589041\n",
       "12    Condition2                     1445          98.972603\n",
       "67     3SsnPorch                     1436          98.356164\n",
       "43  LowQualFinSF                     1434          98.219178"
      ]
     },
     "metadata": {},
     "execution_count": 90
    }
   ],
   "metadata": {}
  },
  {
   "cell_type": "markdown",
   "source": [
    "Some features have values which amounts to more than 95 percentage of total values. Such homogeneity is useless for the models so it is better to drop those columns."
   ],
   "metadata": {}
  },
  {
   "cell_type": "code",
   "execution_count": 91,
   "source": [
    "frequent_train_features = frequent_train_values[frequent_train_values[\"% of Total Values\"] > 95][\"Feature Name\"].to_list()\r\n",
    "\r\n",
    "cleaned_train_data = cleaned_train_data.drop(columns=frequent_train_features)\r\n",
    "cleaned_test_data = cleaned_test_data.drop(columns=frequent_train_features)"
   ],
   "outputs": [],
   "metadata": {}
  },
  {
   "cell_type": "code",
   "execution_count": 92,
   "source": [
    "msno.bar(cleaned_train_data, labels=True, fontsize=12);"
   ],
   "outputs": [],
   "metadata": {}
  },
  {
   "cell_type": "markdown",
   "source": [
    "## Missing values of test set "
   ],
   "metadata": {}
  },
  {
   "cell_type": "code",
   "execution_count": 93,
   "source": [
    "msno.bar(cleaned_test_data, labels=True, fontsize=12);"
   ],
   "outputs": [],
   "metadata": {}
  },
  {
   "cell_type": "markdown",
   "source": [
    "Some columns in test set are missing just one or two values, so I have simply filled these missing values with most frequent values in those columns."
   ],
   "metadata": {}
  },
  {
   "cell_type": "code",
   "execution_count": 94,
   "source": [
    "missing_test_features = [column for column in cleaned_test_data if cleaned_test_data[column].isna().any() == True]"
   ],
   "outputs": [],
   "metadata": {}
  },
  {
   "cell_type": "code",
   "execution_count": 95,
   "source": [
    "for feature in missing_test_features:\r\n",
    "    cleaned_test_data[feature] = cleaned_test_data[feature].fillna(cleaned_test_data[feature].value_counts().index[0])"
   ],
   "outputs": [],
   "metadata": {}
  },
  {
   "cell_type": "code",
   "execution_count": 96,
   "source": [
    "msno.bar(cleaned_test_data, labels=True, fontsize=12);"
   ],
   "outputs": [],
   "metadata": {}
  },
  {
   "cell_type": "markdown",
   "source": [
    "# Exploratory data analysis"
   ],
   "metadata": {}
  },
  {
   "cell_type": "code",
   "execution_count": 97,
   "source": [
    "fig, ax = plt.subplots(figsize=(7,5))\r\n",
    "sns.histplot(ax=ax, data=cleaned_train_data, x=\"SalePrice\")\r\n",
    "plt.title(\"Distribution of SalePrice feature\", fontsize=14, fontweight=\"bold\", pad=10);"
   ],
   "outputs": [
    {
     "output_type": "display_data",
     "data": {
      "image/png": "[encoded data removed]",
      "text/plain": [
       "<Figure size 504x360 with 1 Axes>"
      ]
     },
     "metadata": {}
    }
   ],
   "metadata": {}
  },
  {
   "cell_type": "markdown",
   "source": [
    "We can notice some SalePrice values which are more apart than most of the values, but it's not outliers as we can see in the scatterplot below. "
   ],
   "metadata": {}
  },
  {
   "cell_type": "code",
   "execution_count": 98,
   "source": [
    "fig, axes = plt.subplots(ncols=2, figsize=(14,5))\r\n",
    "sns.scatterplot(ax=axes[0], data=cleaned_train_data, x=\"GrLivArea\", y=\"SalePrice\")\r\n",
    "sns.scatterplot(ax=axes[1], data=cleaned_train_data, x=\"LotArea\", y=\"SalePrice\")\r\n",
    "fig.suptitle(\"Price relationship with ground living area and lot area\", y=0.95, fontsize=14, fontweight=\"bold\");"
   ],
   "outputs": [
    {
     "output_type": "display_data",
     "data": {
      "image/png": "[encoded data removed]",
      "text/plain": [
       "<Figure size 1008x360 with 2 Axes>"
      ]
     },
     "metadata": {}
    }
   ],
   "metadata": {}
  },
  {
   "cell_type": "markdown",
   "source": [
    "In GrLivArea vs. SalePrice graph are two not logic values where price is very low compared to GrLivArea value. Also in LotArea vs. SalePrice graph are obvious outliers above 100000 LotArea values. So I have decided to remove aforementioned values and after submission linear regression score was almost twice better but random forest score was slightly worse, but it is worth to leave this change due to improvement on linear regression model."
   ],
   "metadata": {}
  },
  {
   "cell_type": "code",
   "execution_count": 99,
   "source": [
    "cleaned_train_data.drop(cleaned_train_data[(cleaned_train_data[\"GrLivArea\"] > 4000) & (cleaned_train_data[\"SalePrice\"] < 200000)].index, inplace=True)"
   ],
   "outputs": [],
   "metadata": {}
  },
  {
   "cell_type": "code",
   "execution_count": 100,
   "source": [
    "cleaned_train_data.drop(cleaned_train_data[cleaned_train_data[\"LotArea\"] > 100000].index, inplace=True)"
   ],
   "outputs": [],
   "metadata": {}
  },
  {
   "cell_type": "code",
   "execution_count": 101,
   "source": [
    "cleaned_train_data = cleaned_train_data.reset_index().drop(columns=\"index\")"
   ],
   "outputs": [],
   "metadata": {}
  },
  {
   "cell_type": "code",
   "execution_count": 102,
   "source": [
    "fig, axes = plt.subplots(ncols=2, figsize=(14,5))\r\n",
    "sns.scatterplot(ax=axes[0], data=cleaned_train_data, x=\"GrLivArea\", y=\"SalePrice\")\r\n",
    "sns.scatterplot(ax=axes[1], data=cleaned_train_data, x=\"LotArea\", y=\"SalePrice\")\r\n",
    "fig.suptitle(\"Price relationship with ground living area and lot area\", y=0.95, fontsize=14, fontweight=\"bold\");"
   ],
   "outputs": [
    {
     "output_type": "display_data",
     "data": {
      "image/png": "[encoded data removed]",
      "text/plain": [
       "<Figure size 1008x360 with 2 Axes>"
      ]
     },
     "metadata": {}
    }
   ],
   "metadata": {}
  },
  {
   "cell_type": "markdown",
   "source": [
    "# Feature engineering"
   ],
   "metadata": {}
  },
  {
   "cell_type": "markdown",
   "source": [
    "## Feature encoding"
   ],
   "metadata": {}
  },
  {
   "cell_type": "markdown",
   "source": [
    "### Imbalanced features"
   ],
   "metadata": {}
  },
  {
   "cell_type": "code",
   "execution_count": 105,
   "source": [
    "train_encoded_data = cleaned_train_data.copy()\r\n",
    "test_encoded_data = cleaned_test_data.copy()"
   ],
   "outputs": [],
   "metadata": {}
  },
  {
   "cell_type": "markdown",
   "source": [
    "I have filtered and visualized so called imbalanced features where quantity of one value is very big - from 75 pct. to 95 pct. of all values. My idea was to see if I can to merge scarce variables. Some features had better impact to score and some not."
   ],
   "metadata": {}
  },
  {
   "cell_type": "code",
   "execution_count": 107,
   "source": [
    "train_unbalanced_table = unbalanced_features(train_encoded_data)\r\n",
    "frequent_train_features_over_75 = train_unbalanced_table[(train_unbalanced_table[\"% of Total Values\"] > 75) & (train_unbalanced_table[\"% of Total Values\"] < 95)][\"Feature Name\"].to_list()"
   ],
   "outputs": [],
   "metadata": {}
  },
  {
   "cell_type": "code",
   "execution_count": 108,
   "source": [
    "fig, axes = plt.subplots(5, 4, figsize=(25, 25))\r\n",
    "fig.suptitle(\"Distribution of variables\", y=0.9, fontsize=17)\r\n",
    "\r\n",
    "for feature, ax in zip(frequent_train_features_over_75, axes.flatten()):\r\n",
    "    sns.histplot(ax=ax, data=train_encoded_data, x=feature)"
   ],
   "outputs": [
    {
     "output_type": "display_data",
     "data": {
      "image/png": "[encoded data removed]",
      "text/plain": [
       "<Figure size 1800x1800 with 20 Axes>"
      ]
     },
     "metadata": {}
    }
   ],
   "metadata": {}
  },
  {
   "cell_type": "markdown",
   "source": [
    "Features that worked:\r\n",
    "- Functional\r\n",
    "- Electrical\r\n",
    "- LandContour\r\n",
    "- Condition1\r\n",
    "- Exterior1st\r\n",
    "- Exterior2nd\r\n",
    "- LotShape\r\n",
    "- SaleType\r\n",
    "\r\n",
    "Features that didn't work:\r\n",
    "- LandSlope\r\n",
    "- BsmtHalfBath\r\n",
    "- Convert ScreenPorch feature to binary Y/N format\r\n",
    "- MSZoning"
   ],
   "metadata": {}
  },
  {
   "cell_type": "code",
   "execution_count": 109,
   "source": [
    "combined_encoded = [train_encoded_data, test_encoded_data]\r\n",
    "\r\n",
    "for dataset in combined_encoded:\r\n",
    "    dataset[\"Functional\"] = dataset[\"Functional\"].replace([\"Min1\", \"Min2\"], \"Min\")\r\n",
    "    dataset[\"Functional\"] = dataset[\"Functional\"].replace([\"Maj1\", \"Maj2\"], \"Maj\")"
   ],
   "outputs": [],
   "metadata": {}
  },
  {
   "cell_type": "code",
   "execution_count": 110,
   "source": [
    "combined_encoded = [train_encoded_data, test_encoded_data]\r\n",
    "\r\n",
    "for dataset in combined_encoded:\r\n",
    "    dataset[\"Electrical\"] = dataset[\"Electrical\"].replace([\"FuseA\", \"FuseF\", \"FuseP\"], \"Fuse\")"
   ],
   "outputs": [],
   "metadata": {}
  },
  {
   "cell_type": "code",
   "execution_count": 111,
   "source": [
    "combined_encoded = [train_encoded_data, test_encoded_data]\r\n",
    "\r\n",
    "for dataset in combined_encoded:\r\n",
    "    dataset[\"LandContour\"] = dataset[\"LandContour\"].replace(\"Lvl\", \"Flat\")\r\n",
    "    dataset[\"LandContour\"] = dataset[\"LandContour\"].replace([\"Bnk\", \"HLS\", \"Low\"], \"NotFlat\")"
   ],
   "outputs": [],
   "metadata": {}
  },
  {
   "cell_type": "code",
   "execution_count": 112,
   "source": [
    "combined_encoded = [train_encoded_data, test_encoded_data]\r\n",
    "\r\n",
    "for dataset in combined_encoded:\r\n",
    "    dataset[\"Condition1\"] = dataset[\"Condition1\"].replace([\"RRAn\", \"RRAe\", \"RRNn\", \"RRNe\"], \"RR\")\r\n",
    "    dataset[\"Condition1\"] = dataset[\"Condition1\"].replace([\"PosN\", \"PosA\"], \"Pos\")\r\n",
    "    dataset[\"Condition1\"] = dataset[\"Condition1\"].replace([\"Feedr\", \"Artery\"], \"Street\")"
   ],
   "outputs": [],
   "metadata": {}
  },
  {
   "cell_type": "code",
   "execution_count": 113,
   "source": [
    "combined_encoded = [train_encoded_data, test_encoded_data]\r\n",
    "\r\n",
    "for dataset in combined_encoded:\r\n",
    "    dataset[\"Exterior1st\"] = dataset[\"Exterior1st\"].replace([\"VinylSd\", \"MetalSd\"], \"Sd\")\r\n",
    "    dataset[\"Exterior1st\"] = dataset[\"Exterior1st\"].replace([\"WdShing\", \"AsbShng\", \"AsphShn\"], \"Pos\")\r\n",
    "    dataset[\"Exterior1st\"] = dataset[\"Exterior1st\"].replace([\"CemntBd\", \"HdBoard\"], \"Board\")\r\n",
    "    dataset[\"Exterior1st\"] = dataset[\"Exterior1st\"].replace([\"BrkComm\", \"BrkFace\"], \"Brick\")"
   ],
   "outputs": [],
   "metadata": {}
  },
  {
   "cell_type": "code",
   "execution_count": 114,
   "source": [
    "combined_encoded = [train_encoded_data, test_encoded_data]\r\n",
    "\r\n",
    "for dataset in combined_encoded:\r\n",
    "    dataset[\"Exterior2nd\"] = dataset[\"Exterior2nd\"].replace([\"VinylSd\", \"MetalSd\", \"Wd Sdng\"], \"Sd\")\r\n",
    "    dataset[\"Exterior2nd\"] = dataset[\"Exterior2nd\"].replace([\"Wd Shing\", \"AsbShng\", \"AsphShn\"], \"Pos\")\r\n",
    "    dataset[\"Exterior2nd\"] = dataset[\"Exterior2nd\"].replace([\"CmentBd\", \"HdBoard\"], \"Board\")\r\n",
    "    dataset[\"Exterior2nd\"] = dataset[\"Exterior2nd\"].replace([\"BrkComm\", \"BrkFace\"], \"Brick\")"
   ],
   "outputs": [],
   "metadata": {}
  },
  {
   "cell_type": "code",
   "execution_count": 115,
   "source": [
    "combined_encoded = [train_encoded_data, test_encoded_data]\r\n",
    "\r\n",
    "for dataset in combined_encoded:\r\n",
    "    dataset[\"LotShape\"] = dataset[\"LotShape\"].replace([\"IR1\", \"IR2\", \"IR3\"], \"IR\")"
   ],
   "outputs": [],
   "metadata": {}
  },
  {
   "cell_type": "code",
   "execution_count": 116,
   "source": [
    "combined_encoded = [train_encoded_data, test_encoded_data]\r\n",
    "\r\n",
    "for dataset in combined_encoded:\r\n",
    "    dataset[\"SaleType\"] = dataset[\"SaleType\"].replace([\"CWD\", \"VWD\"], \"WD\")\r\n",
    "    dataset[\"SaleType\"] = dataset[\"SaleType\"].replace([\"ConLw\", \"ConLD\", \"ConLI\"], \"Con\")"
   ],
   "outputs": [],
   "metadata": {}
  },
  {
   "cell_type": "markdown",
   "source": [
    "### Mapping"
   ],
   "metadata": {}
  },
  {
   "cell_type": "markdown",
   "source": [
    "Some categorical features have clear order, therefore I have decided to map that values with numbers in sequence. "
   ],
   "metadata": {}
  },
  {
   "cell_type": "code",
   "execution_count": 117,
   "source": [
    "quality_mapping = {\"None\": 0, \"Po\": 1, \"Fa\": 2, \"TA\": 3, \"Gd\": 4, \"Ex\": 5}\r\n",
    "quality_features = [\"ExterQual\", \"ExterCond\", \"BsmtQual\", \"BsmtCond\", \"KitchenQual\", \"FireplaceQu\", \"GarageQual\", \"GarageCond\", \"HeatingQC\"]\r\n",
    "\r\n",
    "for feature in quality_features:\r\n",
    "    train_encoded_data[feature] = train_encoded_data[feature].map(quality_mapping)\r\n",
    "    test_encoded_data[feature] = test_encoded_data[feature].map(quality_mapping)"
   ],
   "outputs": [],
   "metadata": {}
  },
  {
   "cell_type": "code",
   "execution_count": 118,
   "source": [
    "basement_rating_mapping = {\"None\": 0, \"Unf\": 1, \"LwQ\": 2, \"Rec\": 3, \"BLQ\": 4, \"ALQ\": 5, \"GLQ\": 6}\r\n",
    "basement_rating_features = [\"BsmtFinType1\", \"BsmtFinType2\"]\r\n",
    "\r\n",
    "for feature in basement_rating_features:\r\n",
    "    train_encoded_data[feature] = train_encoded_data[feature].map(basement_rating_mapping)\r\n",
    "    test_encoded_data[feature] = test_encoded_data[feature].map(basement_rating_mapping)"
   ],
   "outputs": [],
   "metadata": {}
  },
  {
   "cell_type": "code",
   "execution_count": 119,
   "source": [
    "central_air_mapping = {\"N\": 0, \"Y\": 1}\r\n",
    "train_encoded_data[\"CentralAir\"] = train_encoded_data[\"CentralAir\"].map(central_air_mapping)\r\n",
    "test_encoded_data[\"CentralAir\"] = test_encoded_data[\"CentralAir\"].map(central_air_mapping)"
   ],
   "outputs": [],
   "metadata": {}
  },
  {
   "cell_type": "code",
   "execution_count": 120,
   "source": [
    "garage_finish_mapping = {\"None\": 0, \"Unf\": 1, \"RFn\": 2, \"Fin\": 3}\r\n",
    "train_encoded_data[\"GarageFinish\"] = train_encoded_data[\"GarageFinish\"].map(garage_finish_mapping)\r\n",
    "test_encoded_data[\"GarageFinish\"] = test_encoded_data[\"GarageFinish\"].map(garage_finish_mapping)"
   ],
   "outputs": [],
   "metadata": {}
  },
  {
   "cell_type": "code",
   "execution_count": 121,
   "source": [
    "ordinal_features = [\"SalePrice\", \"GarageFinish\", \"ExterQual\", \"ExterCond\", \"BsmtQual\", \"BsmtCond\", \"KitchenQual\", \"FireplaceQu\", \"GarageQual\", \"GarageCond\", \"HeatingQC\",\r\n",
    "                    \"BsmtFinType1\", \"BsmtFinType2\", \"CentralAir\"]\r\n",
    "\r\n",
    "ordinal_data = train_encoded_data[ordinal_features].copy()"
   ],
   "outputs": [],
   "metadata": {}
  },
  {
   "cell_type": "markdown",
   "source": [
    "After poor results of trying to improve score, I have decided closely to look at the mapped features. As I thought not all features which were related to quality correlated with price, that is to say better is not equal higher price, therefore I have to unmap those features. Also I have noticed that GarageQual is highly correlating with GarageCond, so I can delete one of those."
   ],
   "metadata": {}
  },
  {
   "cell_type": "code",
   "execution_count": 122,
   "source": [
    "corr = ordinal_data.corr()\r\n",
    "\r\n",
    "mask = np.triu(np.ones_like(corr, dtype=bool))\r\n",
    "f, ax = plt.subplots(figsize=(9, 7))\r\n",
    "sns.heatmap(corr, mask=mask, linewidths=.5);"
   ],
   "outputs": [
    {
     "output_type": "display_data",
     "data": {
      "image/png": "[encoded data removed]",
      "text/plain": [
       "<Figure size 648x504 with 2 Axes>"
      ]
     },
     "metadata": {}
    }
   ],
   "metadata": {}
  },
  {
   "cell_type": "code",
   "execution_count": 123,
   "source": [
    "quality_unmapping = {0: \"None\", 1: \"Po\", 2: \"Fa\", 3: \"TA\", 4: \"Gd\", 5: \"Ex\"}\r\n",
    "\r\n",
    "train_encoded_data[\"ExterCond\"] = train_encoded_data[\"ExterCond\"].map(quality_unmapping)\r\n",
    "test_encoded_data[\"ExterCond\"] = test_encoded_data[\"ExterCond\"].map(quality_unmapping)"
   ],
   "outputs": [],
   "metadata": {}
  },
  {
   "cell_type": "code",
   "execution_count": 124,
   "source": [
    "basement_rating_unmapping = {0: \"None\", 1: \"Unf\", 2: \"LwQ\", 3: \"Rec\", 4: \"BLQ\", 5: \"ALQ\", 6: \"GLQ\"}\r\n",
    "\r\n",
    "train_encoded_data[\"BsmtFinType2\"] = train_encoded_data[\"BsmtFinType2\"].map(basement_rating_unmapping)\r\n",
    "test_encoded_data[\"BsmtFinType2\"] = test_encoded_data[\"BsmtFinType2\"].map(basement_rating_unmapping)"
   ],
   "outputs": [],
   "metadata": {}
  },
  {
   "cell_type": "code",
   "execution_count": 125,
   "source": [
    "train_encoded_data = train_encoded_data.drop(columns=\"GarageQual\")\r\n",
    "test_encoded_data = test_encoded_data.drop(columns=\"GarageQual\")"
   ],
   "outputs": [],
   "metadata": {}
  },
  {
   "cell_type": "markdown",
   "source": [
    "## Artificial features"
   ],
   "metadata": {}
  },
  {
   "cell_type": "markdown",
   "source": [
    "The feature GarageYrBlt itself is not so usefull for modelling because it shouldn't be treated like mere number and it's better to use duration metric. I have also converted to duration YearBuilt feature."
   ],
   "metadata": {}
  },
  {
   "cell_type": "code",
   "execution_count": 126,
   "source": [
    "train_encoded_data[\"GarageYrBlt\"] = train_encoded_data[\"GarageYrBlt\"].replace(\"None\", 0)\r\n",
    "test_encoded_data[\"GarageYrBlt\"] = test_encoded_data[\"GarageYrBlt\"].replace(\"None\", 0)"
   ],
   "outputs": [],
   "metadata": {}
  },
  {
   "cell_type": "code",
   "execution_count": 127,
   "source": [
    "train_encoded_data[\"GarageAge\"] = train_encoded_data[\"YrSold\"] - train_encoded_data[\"GarageYrBlt\"].astype(\"int64\")\r\n",
    "test_encoded_data[\"GarageAge\"] = test_encoded_data[\"YrSold\"] - test_encoded_data[\"GarageYrBlt\"].astype(\"int64\")\r\n",
    "\r\n",
    "train_encoded_data = train_encoded_data.drop(columns=\"GarageYrBlt\")\r\n",
    "test_encoded_data = test_encoded_data.drop(columns=\"GarageYrBlt\")"
   ],
   "outputs": [],
   "metadata": {}
  },
  {
   "cell_type": "code",
   "execution_count": 128,
   "source": [
    "train_encoded_data[\"YearAge\"] = train_encoded_data[\"YrSold\"] - train_encoded_data[\"YearBuilt\"].astype(\"int64\")\r\n",
    "test_encoded_data[\"YearAge\"] = test_encoded_data[\"YrSold\"] - test_encoded_data[\"YearBuilt\"].astype(\"int64\")\r\n",
    "\r\n",
    "train_encoded_data = train_encoded_data.drop(columns=\"YearBuilt\")\r\n",
    "test_encoded_data = test_encoded_data.drop(columns=\"YearBuilt\")"
   ],
   "outputs": [],
   "metadata": {}
  },
  {
   "cell_type": "markdown",
   "source": [
    "The main ideas for artificial features came from ELI5 table with weights of features, where I could see the most important ones."
   ],
   "metadata": {}
  },
  {
   "cell_type": "markdown",
   "source": [
    "The quality and condition are rated from 1 to 10, so I have decided to sum these rates."
   ],
   "metadata": {}
  },
  {
   "cell_type": "code",
   "execution_count": 132,
   "source": [
    "train_encoded_data[\"OverallQualandCond\"] = train_encoded_data[\"OverallQual\"] + train_encoded_data[\"OverallCond\"]\r\n",
    "test_encoded_data[\"OverallQualandCond\"] = test_encoded_data[\"OverallQual\"] + test_encoded_data[\"OverallCond\"]"
   ],
   "outputs": [],
   "metadata": {}
  },
  {
   "cell_type": "markdown",
   "source": [
    "TotalHouseArea is a new feature which sums up all distinct part of the house."
   ],
   "metadata": {}
  },
  {
   "cell_type": "code",
   "execution_count": 133,
   "source": [
    "house_area_features = [\"TotalBsmtSF\", \"GrLivArea\", \"GarageArea\", \"WoodDeckSF\", \"OpenPorchSF\", \"EnclosedPorch\", \"ScreenPorch\"]\r\n",
    "combined_encoded = [train_encoded_data, test_encoded_data]\r\n",
    "\r\n",
    "for dataset in combined_encoded:\r\n",
    "    dataset[\"TotalHouseArea\"] = 0\r\n",
    "    for feature in house_area_features:\r\n",
    "        dataset[\"TotalHouseArea\"] += dataset[feature]\r\n"
   ],
   "outputs": [],
   "metadata": {}
  },
  {
   "cell_type": "markdown",
   "source": [
    "AreaQuality - it's metric which is related to the total area and overall quality of the house."
   ],
   "metadata": {}
  },
  {
   "cell_type": "code",
   "execution_count": 134,
   "source": [
    "train_encoded_data[\"AreaQuality\"] = train_encoded_data[\"TotalHouseArea\"] * train_encoded_data[\"OverallQual\"]\r\n",
    "test_encoded_data[\"AreaQuality\"] = test_encoded_data[\"TotalHouseArea\"] * test_encoded_data[\"OverallQual\"]"
   ],
   "outputs": [],
   "metadata": {}
  },
  {
   "cell_type": "markdown",
   "source": [
    "Another similar feature AreaAge is related to total area and house age."
   ],
   "metadata": {}
  },
  {
   "cell_type": "code",
   "execution_count": 135,
   "source": [
    "train_encoded_data[\"AreaAge\"] = train_encoded_data[\"TotalHouseArea\"] * train_encoded_data[\"YearAge\"]\r\n",
    "test_encoded_data[\"AreaAge\"] = test_encoded_data[\"TotalHouseArea\"] * test_encoded_data[\"YearAge\"]"
   ],
   "outputs": [],
   "metadata": {}
  },
  {
   "cell_type": "markdown",
   "source": [
    "And few last features were created by applying the square root to the features, which metrics are in square feet. "
   ],
   "metadata": {}
  },
  {
   "cell_type": "code",
   "execution_count": 136,
   "source": [
    "sqrt_features = [\"GrLivArea\", \"TotalBsmtSF\", \"LotArea\", \"1stFlrSF\", \"2ndFlrSF\", \"MasVnrArea\", \"TotalHouseArea\"]\r\n",
    "combined_encoded = [train_encoded_data, test_encoded_data]\r\n",
    "\r\n",
    "for dataset in combined_encoded:\r\n",
    "    for feature in sqrt_features:\r\n",
    "        dataset[f\"{feature}_Sqrt\"] = np.sqrt(dataset[feature])"
   ],
   "outputs": [],
   "metadata": {}
  },
  {
   "cell_type": "code",
   "execution_count": 129,
   "source": [
    "sns.relplot(y=\"SalePrice\", x=\"MoSold\", data=train_encoded_data);"
   ],
   "outputs": [
    {
     "output_type": "display_data",
     "data": {
      "image/png": "[encoded data removed]",
      "text/plain": [
       "<Figure size 360x360 with 1 Axes>"
      ]
     },
     "metadata": {}
    }
   ],
   "metadata": {}
  },
  {
   "cell_type": "code",
   "execution_count": 130,
   "source": [
    "train_encoded_data[[\"MoSold\", \"SalePrice\"]].corr()"
   ],
   "outputs": [
    {
     "output_type": "execute_result",
     "data": {
      "text/html": [
       "<div>\n",
       "<style scoped>\n",
       "    .dataframe tbody tr th:only-of-type {\n",
       "        vertical-align: middle;\n",
       "    }\n",
       "\n",
       "    .dataframe tbody tr th {\n",
       "        vertical-align: top;\n",
       "    }\n",
       "\n",
       "    .dataframe thead th {\n",
       "        text-align: right;\n",
       "    }\n",
       "</style>\n",
       "<table border=\"1\" class=\"dataframe\">\n",
       "  <thead>\n",
       "    <tr style=\"text-align: right;\">\n",
       "      <th></th>\n",
       "      <th>MoSold</th>\n",
       "      <th>SalePrice</th>\n",
       "    </tr>\n",
       "  </thead>\n",
       "  <tbody>\n",
       "    <tr>\n",
       "      <th>MoSold</th>\n",
       "      <td>1.000000</td>\n",
       "      <td>0.046459</td>\n",
       "    </tr>\n",
       "    <tr>\n",
       "      <th>SalePrice</th>\n",
       "      <td>0.046459</td>\n",
       "      <td>1.000000</td>\n",
       "    </tr>\n",
       "  </tbody>\n",
       "</table>\n",
       "</div>"
      ],
      "text/plain": [
       "             MoSold  SalePrice\n",
       "MoSold     1.000000   0.046459\n",
       "SalePrice  0.046459   1.000000"
      ]
     },
     "metadata": {},
     "execution_count": 130
    }
   ],
   "metadata": {}
  },
  {
   "cell_type": "markdown",
   "source": [
    "In the very end I have deleted MoSold column, because I have done the assumption that month is not relevant to the price, as you can see it in the graph and correlation table."
   ],
   "metadata": {}
  },
  {
   "cell_type": "code",
   "execution_count": 131,
   "source": [
    "train_encoded_data = train_encoded_data.drop(columns=\"MoSold\")\r\n",
    "test_encoded_data = test_encoded_data.drop(columns=\"MoSold\")"
   ],
   "outputs": [],
   "metadata": {}
  },
  {
   "cell_type": "markdown",
   "source": [
    "## Polynomial features"
   ],
   "metadata": {}
  },
  {
   "cell_type": "code",
   "execution_count": 137,
   "source": [
    "train_numerical_features = [column for column in train_encoded_data if (train_encoded_data[column].dtypes == \"int64\") or (train_encoded_data[column].dtypes == \"int64\")]\r\n",
    "test_numerical_features = [column for column in test_encoded_data if (test_encoded_data[column].dtypes == \"int64\") or (test_encoded_data[column].dtypes == \"int64\")]\r\n",
    "\r\n",
    "not_polynomial_features = [\"SalePrice\", \"AreaQuality\", \"AreaAge\"]\r\n",
    "\r\n",
    "for feature in not_polynomial_features:\r\n",
    "    train_numerical_features.remove(feature)"
   ],
   "outputs": [],
   "metadata": {}
  },
  {
   "cell_type": "code",
   "execution_count": 138,
   "source": [
    "train_polynomial = PolynomialFeatures(2, include_bias=False)\r\n",
    "test_polynomial = PolynomialFeatures(2, include_bias=False)"
   ],
   "outputs": [],
   "metadata": {}
  },
  {
   "cell_type": "code",
   "execution_count": 139,
   "source": [
    "train_polynomial_array = train_polynomial.fit_transform(train_encoded_data[train_numerical_features])\r\n",
    "test_polynomial_array = test_polynomial.fit_transform(test_encoded_data[test_numerical_features])\r\n",
    "\r\n",
    "train_polynomial_data = pd.DataFrame(train_polynomial_array, columns=train_polynomial.get_feature_names(train_numerical_features))\r\n",
    "test_polynomial_data = pd.DataFrame(test_polynomial_array, columns=test_polynomial.get_feature_names(test_numerical_features))"
   ],
   "outputs": [],
   "metadata": {}
  },
  {
   "cell_type": "code",
   "execution_count": 140,
   "source": [
    "train_features = [column for column in train_encoded_data]\r\n",
    "test_features = [column for column in test_encoded_data]\r\n",
    "\r\n",
    "train_polynomial_data = train_polynomial_data.drop(columns=train_features, errors=\"ignore\")\r\n",
    "test_polynomial_data = test_polynomial_data.drop(columns=test_features, errors=\"ignore\")"
   ],
   "outputs": [],
   "metadata": {}
  },
  {
   "cell_type": "code",
   "execution_count": 141,
   "source": [
    "train_encoded_polynomial_data = train_encoded_data.join(train_polynomial_data)\r\n",
    "test_encoded_polynomial_data = test_encoded_data.join(test_polynomial_data)"
   ],
   "outputs": [],
   "metadata": {}
  },
  {
   "cell_type": "markdown",
   "source": [
    "### One-hot encoding"
   ],
   "metadata": {}
  },
  {
   "cell_type": "code",
   "execution_count": 142,
   "source": [
    "categorical_train_features = [column for column in train_encoded_data if train_encoded_data[column].dtypes == \"object\"]\r\n",
    "categorical_test_features = [column for column in test_encoded_data if test_encoded_data[column].dtypes == \"object\"]\r\n",
    "\r\n",
    "train_oh_encoded_data = pd.get_dummies(train_encoded_data, columns=categorical_train_features)\r\n",
    "test_oh_encoded_data = pd.get_dummies(test_encoded_data, columns=categorical_test_features)"
   ],
   "outputs": [],
   "metadata": {}
  },
  {
   "cell_type": "code",
   "execution_count": 143,
   "source": [
    "print(\"Train set columns:\", train_oh_encoded_data.shape[1])\r\n",
    "print(\"Test set columns:\", test_oh_encoded_data.shape[1])"
   ],
   "outputs": [
    {
     "output_type": "stream",
     "name": "stdout",
     "text": [
      "Train set columns: 191\n",
      "Test set columns: 185\n"
     ]
    }
   ],
   "metadata": {}
  },
  {
   "cell_type": "markdown",
   "source": [
    "### One-hot ecoding with polynomial features"
   ],
   "metadata": {}
  },
  {
   "cell_type": "code",
   "execution_count": 144,
   "source": [
    "train_oh_encoded_polynomial_data = pd.get_dummies(train_encoded_polynomial_data, columns=categorical_train_features)\r\n",
    "test_oh_encoded_polynomial_data = pd.get_dummies(test_encoded_polynomial_data, columns=categorical_test_features)"
   ],
   "outputs": [],
   "metadata": {}
  },
  {
   "cell_type": "code",
   "execution_count": 145,
   "source": [
    "print(\"Columns of train set with polynomial features after one-hot encoding:\", train_oh_encoded_polynomial_data.shape[1])\r\n",
    "print(\"Columns of train set with polynomial features after one-hot encoding:\", test_oh_encoded_polynomial_data.shape[1])"
   ],
   "outputs": [
    {
     "output_type": "stream",
     "name": "stdout",
     "text": [
      "Columns of train set with polynomial features after one-hot encoding: 1011\n",
      "Columns of train set with polynomial features after one-hot encoding: 681\n"
     ]
    }
   ],
   "metadata": {}
  },
  {
   "cell_type": "markdown",
   "source": [
    "# Modelling"
   ],
   "metadata": {}
  },
  {
   "cell_type": "markdown",
   "source": [
    "## Standard models"
   ],
   "metadata": {}
  },
  {
   "cell_type": "markdown",
   "source": [
    "Kaggle submissions are evaluated on Root-Mean-Squared-Error (RMSE) between the logarithm of the predicted value and the logarithm of the observed sales price, so the corresponding column of train set used for cross-validation shuold be in the logarithmic scale too. I am using cross-validation for checking my models, because I don't want to split train set due to it's small size. "
   ],
   "metadata": {}
  },
  {
   "cell_type": "code",
   "execution_count": 146,
   "source": [
    "# Create sets for cross validation.\r\n",
    "train_evaluation_data = train_oh_encoded_data.copy()\r\n",
    "train_evaluation_data[\"SalePrice\"] = np.log(train_evaluation_data[\"SalePrice\"])"
   ],
   "outputs": [],
   "metadata": {}
  },
  {
   "cell_type": "markdown",
   "source": [
    "Test set has fewer columns after one-hot encoding due to unequal number of unique values in categorical features. To tackle this problem I have used pandas align function.  "
   ],
   "metadata": {}
  },
  {
   "cell_type": "code",
   "execution_count": 147,
   "source": [
    "final_train_data, final_test_data = train_oh_encoded_data.align(test_oh_encoded_data, join='inner', axis=1)\r\n",
    "\r\n",
    "print(\"Final train set columns:\", final_train_data.shape[1])\r\n",
    "print(\"Final test set columns:\", final_test_data.shape[1])"
   ],
   "outputs": [
    {
     "output_type": "stream",
     "name": "stdout",
     "text": [
      "Final train set columns: 185\n",
      "Final test set columns: 185\n"
     ]
    }
   ],
   "metadata": {}
  },
  {
   "cell_type": "code",
   "execution_count": 148,
   "source": [
    "target = \"SalePrice\"\r\n",
    "final_features = [column for column in final_train_data]\r\n",
    "\r\n",
    "# Data used for cross-validation.\r\n",
    "X_eval = train_evaluation_data[final_features]\r\n",
    "y_eval = train_evaluation_data[target]\r\n",
    "\r\n",
    "# Data used for model training.\r\n",
    "X_train = final_train_data[final_features]\r\n",
    "y_train = train_oh_encoded_data[target]"
   ],
   "outputs": [],
   "metadata": {}
  },
  {
   "cell_type": "code",
   "execution_count": 149,
   "source": [
    "# Set splitting for usage in ELI5 Permuation Importance method.\r\n",
    "train_X, val_X, train_y, val_y = train_test_split(X_eval, y_eval, random_state=42)"
   ],
   "outputs": [],
   "metadata": {}
  },
  {
   "cell_type": "markdown",
   "source": [
    "### Linear regression"
   ],
   "metadata": {}
  },
  {
   "cell_type": "code",
   "execution_count": 150,
   "source": [
    "linear_regression = LinearRegression()"
   ],
   "outputs": [],
   "metadata": {}
  },
  {
   "cell_type": "code",
   "execution_count": 151,
   "source": [
    "lin_reg_model = linear_regression.fit(train_X, train_y)\r\n",
    "\r\n",
    "lin_reg_perm = PermutationImportance(lin_reg_model, random_state=42).fit(val_X, val_y)\r\n",
    "lin_reg_weights_df = eli5.explain_weights_df(lin_reg_perm, feature_names=val_X.columns.tolist())\r\n",
    "eli5.show_weights(lin_reg_perm, feature_names=val_X.columns.tolist(), top=10)"
   ],
   "outputs": [
    {
     "output_type": "execute_result",
     "data": {
      "text/html": [
       "\n",
       "    <style>\n",
       "    table.eli5-weights tr:hover {\n",
       "        filter: brightness(85%);\n",
       "    }\n",
       "</style>\n",
       "\n",
       "\n",
       "\n",
       "    \n",
       "\n",
       "    \n",
       "\n",
       "    \n",
       "\n",
       "    \n",
       "\n",
       "    \n",
       "\n",
       "    \n",
       "\n",
       "\n",
       "    \n",
       "\n",
       "    \n",
       "\n",
       "    \n",
       "\n",
       "    \n",
       "\n",
       "    \n",
       "\n",
       "    \n",
       "\n",
       "\n",
       "    \n",
       "\n",
       "    \n",
       "\n",
       "    \n",
       "\n",
       "    \n",
       "\n",
       "    \n",
       "        <table class=\"eli5-weights eli5-feature-importances\" style=\"border-collapse: collapse; border: none; margin-top: 0em; table-layout: auto;\">\n",
       "    <thead>\n",
       "    <tr style=\"border: none;\">\n",
       "        <th style=\"padding: 0 1em 0 0.5em; text-align: right; border: none;\">Weight</th>\n",
       "        <th style=\"padding: 0 0.5em 0 0.5em; text-align: left; border: none;\">Feature</th>\n",
       "    </tr>\n",
       "    </thead>\n",
       "    <tbody>\n",
       "    \n",
       "        <tr style=\"background-color: hsl(120, 100.00%, 80.00%); border: none;\">\n",
       "            <td style=\"padding: 0 1em 0 0.5em; text-align: right; border: none;\">\n",
       "                1.1047\n",
       "                \n",
       "                    &plusmn; 0.0671\n",
       "                \n",
       "            </td>\n",
       "            <td style=\"padding: 0 0.5em 0 0.5em; text-align: left; border: none;\">\n",
       "                TotalHouseArea_Sqrt\n",
       "            </td>\n",
       "        </tr>\n",
       "    \n",
       "        <tr style=\"background-color: hsl(120, 100.00%, 86.09%); border: none;\">\n",
       "            <td style=\"padding: 0 1em 0 0.5em; text-align: right; border: none;\">\n",
       "                0.6573\n",
       "                \n",
       "                    &plusmn; 0.0735\n",
       "                \n",
       "            </td>\n",
       "            <td style=\"padding: 0 0.5em 0 0.5em; text-align: left; border: none;\">\n",
       "                TotalHouseArea\n",
       "            </td>\n",
       "        </tr>\n",
       "    \n",
       "        <tr style=\"background-color: hsl(120, 100.00%, 88.44%); border: none;\">\n",
       "            <td style=\"padding: 0 1em 0 0.5em; text-align: right; border: none;\">\n",
       "                0.5051\n",
       "                \n",
       "                    &plusmn; 0.0629\n",
       "                \n",
       "            </td>\n",
       "            <td style=\"padding: 0 0.5em 0 0.5em; text-align: left; border: none;\">\n",
       "                1stFlrSF\n",
       "            </td>\n",
       "        </tr>\n",
       "    \n",
       "        <tr style=\"background-color: hsl(120, 100.00%, 90.60%); border: none;\">\n",
       "            <td style=\"padding: 0 1em 0 0.5em; text-align: right; border: none;\">\n",
       "                0.3758\n",
       "                \n",
       "                    &plusmn; 0.0295\n",
       "                \n",
       "            </td>\n",
       "            <td style=\"padding: 0 0.5em 0 0.5em; text-align: left; border: none;\">\n",
       "                AreaQuality\n",
       "            </td>\n",
       "        </tr>\n",
       "    \n",
       "        <tr style=\"background-color: hsl(120, 100.00%, 90.95%); border: none;\">\n",
       "            <td style=\"padding: 0 1em 0 0.5em; text-align: right; border: none;\">\n",
       "                0.3559\n",
       "                \n",
       "                    &plusmn; 0.0393\n",
       "                \n",
       "            </td>\n",
       "            <td style=\"padding: 0 0.5em 0 0.5em; text-align: left; border: none;\">\n",
       "                1stFlrSF_Sqrt\n",
       "            </td>\n",
       "        </tr>\n",
       "    \n",
       "        <tr style=\"background-color: hsl(120, 100.00%, 94.91%); border: none;\">\n",
       "            <td style=\"padding: 0 1em 0 0.5em; text-align: right; border: none;\">\n",
       "                0.1563\n",
       "                \n",
       "                    &plusmn; 0.0202\n",
       "                \n",
       "            </td>\n",
       "            <td style=\"padding: 0 0.5em 0 0.5em; text-align: left; border: none;\">\n",
       "                TotalBsmtSF_Sqrt\n",
       "            </td>\n",
       "        </tr>\n",
       "    \n",
       "        <tr style=\"background-color: hsl(120, 100.00%, 96.67%); border: none;\">\n",
       "            <td style=\"padding: 0 1em 0 0.5em; text-align: right; border: none;\">\n",
       "                0.0854\n",
       "                \n",
       "                    &plusmn; 0.0106\n",
       "                \n",
       "            </td>\n",
       "            <td style=\"padding: 0 0.5em 0 0.5em; text-align: left; border: none;\">\n",
       "                YearAge\n",
       "            </td>\n",
       "        </tr>\n",
       "    \n",
       "        <tr style=\"background-color: hsl(120, 100.00%, 98.02%); border: none;\">\n",
       "            <td style=\"padding: 0 1em 0 0.5em; text-align: right; border: none;\">\n",
       "                0.0407\n",
       "                \n",
       "                    &plusmn; 0.0060\n",
       "                \n",
       "            </td>\n",
       "            <td style=\"padding: 0 0.5em 0 0.5em; text-align: left; border: none;\">\n",
       "                MasVnrArea_Sqrt\n",
       "            </td>\n",
       "        </tr>\n",
       "    \n",
       "        <tr style=\"background-color: hsl(120, 100.00%, 98.02%); border: none;\">\n",
       "            <td style=\"padding: 0 1em 0 0.5em; text-align: right; border: none;\">\n",
       "                0.0407\n",
       "                \n",
       "                    &plusmn; 0.0046\n",
       "                \n",
       "            </td>\n",
       "            <td style=\"padding: 0 0.5em 0 0.5em; text-align: left; border: none;\">\n",
       "                Exterior1st_Sd\n",
       "            </td>\n",
       "        </tr>\n",
       "    \n",
       "        <tr style=\"background-color: hsl(120, 100.00%, 98.11%); border: none;\">\n",
       "            <td style=\"padding: 0 1em 0 0.5em; text-align: right; border: none;\">\n",
       "                0.0381\n",
       "                \n",
       "                    &plusmn; 0.0039\n",
       "                \n",
       "            </td>\n",
       "            <td style=\"padding: 0 0.5em 0 0.5em; text-align: left; border: none;\">\n",
       "                TotalBsmtSF\n",
       "            </td>\n",
       "        </tr>\n",
       "    \n",
       "    \n",
       "        \n",
       "            <tr style=\"background-color: hsl(120, 100.00%, 98.11%); border: none;\">\n",
       "                <td colspan=\"2\" style=\"padding: 0 0.5em 0 0.5em; text-align: center; border: none; white-space: nowrap;\">\n",
       "                    <i>&hellip; 175 more &hellip;</i>\n",
       "                </td>\n",
       "            </tr>\n",
       "        \n",
       "    \n",
       "    </tbody>\n",
       "</table>\n",
       "    \n",
       "\n",
       "    \n",
       "\n",
       "\n",
       "    \n",
       "\n",
       "    \n",
       "\n",
       "    \n",
       "\n",
       "    \n",
       "\n",
       "    \n",
       "\n",
       "    \n",
       "\n",
       "\n",
       "\n"
      ],
      "text/plain": [
       "<IPython.core.display.HTML object>"
      ]
     },
     "metadata": {},
     "execution_count": 151
    }
   ],
   "metadata": {}
  },
  {
   "cell_type": "code",
   "execution_count": 152,
   "source": [
    "# Evaluation\r\n",
    "lin_reg_scores = cross_val_score(linear_regression, X_eval, y_eval, scoring=\"neg_root_mean_squared_error\")\r\n",
    "print(\"Linear regression RMSE:\", lin_reg_scores.mean())"
   ],
   "outputs": [
    {
     "output_type": "stream",
     "name": "stdout",
     "text": [
      "Linear regression RMSE: -0.1122059673796186\n"
     ]
    }
   ],
   "metadata": {}
  },
  {
   "cell_type": "code",
   "execution_count": 153,
   "source": [
    "lin_reg_selected_features = feature_selector(lin_reg_weights_df, 0.11239, linear_regression, train_evaluation_data, \"SalePrice\")"
   ],
   "outputs": [
    {
     "output_type": "stream",
     "name": "stdout",
     "text": [
      "The score was improved by 0.00452\n",
      "The best score: 0.10787\n"
     ]
    }
   ],
   "metadata": {}
  },
  {
   "cell_type": "code",
   "execution_count": 76,
   "source": [
    "X_train_selected = final_train_data[lin_reg_selected_features]\r\n",
    "final_test_selected_data = final_test_data[lin_reg_selected_features]\r\n",
    "\r\n",
    "linear_regression.fit(X_train_selected, y_train)\r\n",
    "linear_predictions = linear_regression.predict(final_test_selected_data)\r\n",
    "\r\n",
    "output = pd.DataFrame({\"Id\": test_data[\"Id\"], \"SalePrice\": linear_predictions})\r\n",
    "output.to_csv(\"submissions/linear_predictions.csv\", index=False)"
   ],
   "outputs": [],
   "metadata": {}
  },
  {
   "cell_type": "markdown",
   "source": [
    "### Ridge regression"
   ],
   "metadata": {}
  },
  {
   "cell_type": "code",
   "execution_count": 154,
   "source": [
    "optimal_alpha = alpha_selector(\"Ridge\", X_eval, y_eval)"
   ],
   "outputs": [
    {
     "output_type": "stream",
     "name": "stdout",
     "text": [
      "The lowest reached score: 0.10878\n",
      "Optimal alpha: 7.2\n"
     ]
    }
   ],
   "metadata": {}
  },
  {
   "cell_type": "code",
   "execution_count": 155,
   "source": [
    "ridge_regression = Ridge(alpha=optimal_alpha)"
   ],
   "outputs": [],
   "metadata": {}
  },
  {
   "cell_type": "code",
   "execution_count": 156,
   "source": [
    "ridge_model = ridge_regression.fit(train_X, train_y)\r\n",
    "\r\n",
    "ridge_perm = PermutationImportance(ridge_model, random_state=42).fit(val_X, val_y)\r\n",
    "ridge_weights_df = eli5.explain_weights_df(ridge_perm, feature_names=val_X.columns.tolist())\r\n",
    "eli5.show_weights(ridge_perm, feature_names = val_X.columns.tolist(), top=10)"
   ],
   "outputs": [
    {
     "output_type": "execute_result",
     "data": {
      "text/html": [
       "\n",
       "    <style>\n",
       "    table.eli5-weights tr:hover {\n",
       "        filter: brightness(85%);\n",
       "    }\n",
       "</style>\n",
       "\n",
       "\n",
       "\n",
       "    \n",
       "\n",
       "    \n",
       "\n",
       "    \n",
       "\n",
       "    \n",
       "\n",
       "    \n",
       "\n",
       "    \n",
       "\n",
       "\n",
       "    \n",
       "\n",
       "    \n",
       "\n",
       "    \n",
       "\n",
       "    \n",
       "\n",
       "    \n",
       "\n",
       "    \n",
       "\n",
       "\n",
       "    \n",
       "\n",
       "    \n",
       "\n",
       "    \n",
       "\n",
       "    \n",
       "\n",
       "    \n",
       "        <table class=\"eli5-weights eli5-feature-importances\" style=\"border-collapse: collapse; border: none; margin-top: 0em; table-layout: auto;\">\n",
       "    <thead>\n",
       "    <tr style=\"border: none;\">\n",
       "        <th style=\"padding: 0 1em 0 0.5em; text-align: right; border: none;\">Weight</th>\n",
       "        <th style=\"padding: 0 0.5em 0 0.5em; text-align: left; border: none;\">Feature</th>\n",
       "    </tr>\n",
       "    </thead>\n",
       "    <tbody>\n",
       "    \n",
       "        <tr style=\"background-color: hsl(120, 100.00%, 80.00%); border: none;\">\n",
       "            <td style=\"padding: 0 1em 0 0.5em; text-align: right; border: none;\">\n",
       "                0.6650\n",
       "                \n",
       "                    &plusmn; 0.0465\n",
       "                \n",
       "            </td>\n",
       "            <td style=\"padding: 0 0.5em 0 0.5em; text-align: left; border: none;\">\n",
       "                TotalHouseArea_Sqrt\n",
       "            </td>\n",
       "        </tr>\n",
       "    \n",
       "        <tr style=\"background-color: hsl(120, 100.00%, 83.06%); border: none;\">\n",
       "            <td style=\"padding: 0 1em 0 0.5em; text-align: right; border: none;\">\n",
       "                0.5247\n",
       "                \n",
       "                    &plusmn; 0.0578\n",
       "                \n",
       "            </td>\n",
       "            <td style=\"padding: 0 0.5em 0 0.5em; text-align: left; border: none;\">\n",
       "                TotalHouseArea\n",
       "            </td>\n",
       "        </tr>\n",
       "    \n",
       "        <tr style=\"background-color: hsl(120, 100.00%, 87.90%); border: none;\">\n",
       "            <td style=\"padding: 0 1em 0 0.5em; text-align: right; border: none;\">\n",
       "                0.3243\n",
       "                \n",
       "                    &plusmn; 0.0235\n",
       "                \n",
       "            </td>\n",
       "            <td style=\"padding: 0 0.5em 0 0.5em; text-align: left; border: none;\">\n",
       "                AreaQuality\n",
       "            </td>\n",
       "        </tr>\n",
       "    \n",
       "        <tr style=\"background-color: hsl(120, 100.00%, 92.11%); border: none;\">\n",
       "            <td style=\"padding: 0 1em 0 0.5em; text-align: right; border: none;\">\n",
       "                0.1761\n",
       "                \n",
       "                    &plusmn; 0.0201\n",
       "                \n",
       "            </td>\n",
       "            <td style=\"padding: 0 0.5em 0 0.5em; text-align: left; border: none;\">\n",
       "                1stFlrSF_Sqrt\n",
       "            </td>\n",
       "        </tr>\n",
       "    \n",
       "        <tr style=\"background-color: hsl(120, 100.00%, 93.43%); border: none;\">\n",
       "            <td style=\"padding: 0 1em 0 0.5em; text-align: right; border: none;\">\n",
       "                0.1357\n",
       "                \n",
       "                    &plusmn; 0.0105\n",
       "                \n",
       "            </td>\n",
       "            <td style=\"padding: 0 0.5em 0 0.5em; text-align: left; border: none;\">\n",
       "                GrLivArea_Sqrt\n",
       "            </td>\n",
       "        </tr>\n",
       "    \n",
       "        <tr style=\"background-color: hsl(120, 100.00%, 93.47%); border: none;\">\n",
       "            <td style=\"padding: 0 1em 0 0.5em; text-align: right; border: none;\">\n",
       "                0.1344\n",
       "                \n",
       "                    &plusmn; 0.0226\n",
       "                \n",
       "            </td>\n",
       "            <td style=\"padding: 0 0.5em 0 0.5em; text-align: left; border: none;\">\n",
       "                1stFlrSF\n",
       "            </td>\n",
       "        </tr>\n",
       "    \n",
       "        <tr style=\"background-color: hsl(120, 100.00%, 95.63%); border: none;\">\n",
       "            <td style=\"padding: 0 1em 0 0.5em; text-align: right; border: none;\">\n",
       "                0.0756\n",
       "                \n",
       "                    &plusmn; 0.0097\n",
       "                \n",
       "            </td>\n",
       "            <td style=\"padding: 0 0.5em 0 0.5em; text-align: left; border: none;\">\n",
       "                YearAge\n",
       "            </td>\n",
       "        </tr>\n",
       "    \n",
       "        <tr style=\"background-color: hsl(120, 100.00%, 96.49%); border: none;\">\n",
       "            <td style=\"padding: 0 1em 0 0.5em; text-align: right; border: none;\">\n",
       "                0.0554\n",
       "                \n",
       "                    &plusmn; 0.0158\n",
       "                \n",
       "            </td>\n",
       "            <td style=\"padding: 0 0.5em 0 0.5em; text-align: left; border: none;\">\n",
       "                GrLivArea\n",
       "            </td>\n",
       "        </tr>\n",
       "    \n",
       "        <tr style=\"background-color: hsl(120, 100.00%, 98.02%); border: none;\">\n",
       "            <td style=\"padding: 0 1em 0 0.5em; text-align: right; border: none;\">\n",
       "                0.0245\n",
       "                \n",
       "                    &plusmn; 0.0031\n",
       "                \n",
       "            </td>\n",
       "            <td style=\"padding: 0 0.5em 0 0.5em; text-align: left; border: none;\">\n",
       "                LotArea_Sqrt\n",
       "            </td>\n",
       "        </tr>\n",
       "    \n",
       "        <tr style=\"background-color: hsl(120, 100.00%, 98.04%); border: none;\">\n",
       "            <td style=\"padding: 0 1em 0 0.5em; text-align: right; border: none;\">\n",
       "                0.0240\n",
       "                \n",
       "                    &plusmn; 0.0067\n",
       "                \n",
       "            </td>\n",
       "            <td style=\"padding: 0 0.5em 0 0.5em; text-align: left; border: none;\">\n",
       "                TotalBsmtSF_Sqrt\n",
       "            </td>\n",
       "        </tr>\n",
       "    \n",
       "    \n",
       "        \n",
       "            <tr style=\"background-color: hsl(120, 100.00%, 98.04%); border: none;\">\n",
       "                <td colspan=\"2\" style=\"padding: 0 0.5em 0 0.5em; text-align: center; border: none; white-space: nowrap;\">\n",
       "                    <i>&hellip; 175 more &hellip;</i>\n",
       "                </td>\n",
       "            </tr>\n",
       "        \n",
       "    \n",
       "    </tbody>\n",
       "</table>\n",
       "    \n",
       "\n",
       "    \n",
       "\n",
       "\n",
       "    \n",
       "\n",
       "    \n",
       "\n",
       "    \n",
       "\n",
       "    \n",
       "\n",
       "    \n",
       "\n",
       "    \n",
       "\n",
       "\n",
       "\n"
      ],
      "text/plain": [
       "<IPython.core.display.HTML object>"
      ]
     },
     "metadata": {},
     "execution_count": 156
    }
   ],
   "metadata": {}
  },
  {
   "cell_type": "code",
   "execution_count": 157,
   "source": [
    "ridge_selected_features = feature_selector(ridge_weights_df, 0.10889, ridge_regression, train_evaluation_data, \"SalePrice\")"
   ],
   "outputs": [
    {
     "output_type": "stream",
     "name": "stdout",
     "text": [
      "The score was improved by 0.00031\n",
      "The best score: 0.10858\n"
     ]
    }
   ],
   "metadata": {}
  },
  {
   "cell_type": "code",
   "execution_count": 81,
   "source": [
    "X_train_selected = final_train_data[ridge_selected_features]\r\n",
    "final_test_selected_data = final_test_data[ridge_selected_features]\r\n",
    "\r\n",
    "ridge_regression.fit(X_train_selected, y_train)\r\n",
    "ridge_predictions = ridge_regression.predict(final_test_selected_data)\r\n",
    "\r\n",
    "output = pd.DataFrame({\"Id\": test_data[\"Id\"], \"SalePrice\": ridge_predictions})\r\n",
    "output.to_csv(\"submissions/ridge_predictions.csv\", index=False)"
   ],
   "outputs": [],
   "metadata": {}
  },
  {
   "cell_type": "markdown",
   "source": [
    "### Lasso regression"
   ],
   "metadata": {}
  },
  {
   "cell_type": "code",
   "execution_count": 158,
   "source": [
    "optimal_alpha = alpha_selector(\"Lasso\", X_eval, y_eval)"
   ],
   "outputs": [
    {
     "output_type": "stream",
     "name": "stdout",
     "text": [
      "The lowest reached score: 0.14168\n",
      "Optimal alpha: 0.1\n"
     ]
    }
   ],
   "metadata": {}
  },
  {
   "cell_type": "code",
   "execution_count": 159,
   "source": [
    "lasso_regression = Lasso(alpha=optimal_alpha, max_iter=3000)"
   ],
   "outputs": [],
   "metadata": {}
  },
  {
   "cell_type": "code",
   "execution_count": 160,
   "source": [
    "lasso_model = lasso_regression.fit(train_X, train_y)\r\n",
    "\r\n",
    "lasso_perm = PermutationImportance(lasso_model, random_state=42).fit(val_X, val_y)\r\n",
    "lasso_weights_df = eli5.explain_weights_df(lasso_perm, feature_names=val_X.columns.tolist())\r\n",
    "eli5.show_weights(lasso_perm, feature_names = val_X.columns.tolist(), top=10)"
   ],
   "outputs": [
    {
     "output_type": "execute_result",
     "data": {
      "text/html": [
       "\n",
       "    <style>\n",
       "    table.eli5-weights tr:hover {\n",
       "        filter: brightness(85%);\n",
       "    }\n",
       "</style>\n",
       "\n",
       "\n",
       "\n",
       "    \n",
       "\n",
       "    \n",
       "\n",
       "    \n",
       "\n",
       "    \n",
       "\n",
       "    \n",
       "\n",
       "    \n",
       "\n",
       "\n",
       "    \n",
       "\n",
       "    \n",
       "\n",
       "    \n",
       "\n",
       "    \n",
       "\n",
       "    \n",
       "\n",
       "    \n",
       "\n",
       "\n",
       "    \n",
       "\n",
       "    \n",
       "\n",
       "    \n",
       "\n",
       "    \n",
       "\n",
       "    \n",
       "        <table class=\"eli5-weights eli5-feature-importances\" style=\"border-collapse: collapse; border: none; margin-top: 0em; table-layout: auto;\">\n",
       "    <thead>\n",
       "    <tr style=\"border: none;\">\n",
       "        <th style=\"padding: 0 1em 0 0.5em; text-align: right; border: none;\">Weight</th>\n",
       "        <th style=\"padding: 0 0.5em 0 0.5em; text-align: left; border: none;\">Feature</th>\n",
       "    </tr>\n",
       "    </thead>\n",
       "    <tbody>\n",
       "    \n",
       "        <tr style=\"background-color: hsl(120, 100.00%, 80.00%); border: none;\">\n",
       "            <td style=\"padding: 0 1em 0 0.5em; text-align: right; border: none;\">\n",
       "                0.5317\n",
       "                \n",
       "                    &plusmn; 0.0355\n",
       "                \n",
       "            </td>\n",
       "            <td style=\"padding: 0 0.5em 0 0.5em; text-align: left; border: none;\">\n",
       "                AreaQuality\n",
       "            </td>\n",
       "        </tr>\n",
       "    \n",
       "        <tr style=\"background-color: hsl(120, 100.00%, 96.21%); border: none;\">\n",
       "            <td style=\"padding: 0 1em 0 0.5em; text-align: right; border: none;\">\n",
       "                0.0494\n",
       "                \n",
       "                    &plusmn; 0.0105\n",
       "                \n",
       "            </td>\n",
       "            <td style=\"padding: 0 0.5em 0 0.5em; text-align: left; border: none;\">\n",
       "                YearAge\n",
       "            </td>\n",
       "        </tr>\n",
       "    \n",
       "        <tr style=\"background-color: hsl(120, 100.00%, 96.63%); border: none;\">\n",
       "            <td style=\"padding: 0 1em 0 0.5em; text-align: right; border: none;\">\n",
       "                0.0418\n",
       "                \n",
       "                    &plusmn; 0.0138\n",
       "                \n",
       "            </td>\n",
       "            <td style=\"padding: 0 0.5em 0 0.5em; text-align: left; border: none;\">\n",
       "                YearRemodAdd\n",
       "            </td>\n",
       "        </tr>\n",
       "    \n",
       "        <tr style=\"background-color: hsl(120, 100.00%, 97.64%); border: none;\">\n",
       "            <td style=\"padding: 0 1em 0 0.5em; text-align: right; border: none;\">\n",
       "                0.0251\n",
       "                \n",
       "                    &plusmn; 0.0107\n",
       "                \n",
       "            </td>\n",
       "            <td style=\"padding: 0 0.5em 0 0.5em; text-align: left; border: none;\">\n",
       "                2ndFlrSF\n",
       "            </td>\n",
       "        </tr>\n",
       "    \n",
       "        <tr style=\"background-color: hsl(120, 100.00%, 98.01%); border: none;\">\n",
       "            <td style=\"padding: 0 1em 0 0.5em; text-align: right; border: none;\">\n",
       "                0.0197\n",
       "                \n",
       "                    &plusmn; 0.0058\n",
       "                \n",
       "            </td>\n",
       "            <td style=\"padding: 0 0.5em 0 0.5em; text-align: left; border: none;\">\n",
       "                GarageAge\n",
       "            </td>\n",
       "        </tr>\n",
       "    \n",
       "        <tr style=\"background-color: hsl(120, 100.00%, 98.16%); border: none;\">\n",
       "            <td style=\"padding: 0 1em 0 0.5em; text-align: right; border: none;\">\n",
       "                0.0176\n",
       "                \n",
       "                    &plusmn; 0.0061\n",
       "                \n",
       "            </td>\n",
       "            <td style=\"padding: 0 0.5em 0 0.5em; text-align: left; border: none;\">\n",
       "                1stFlrSF\n",
       "            </td>\n",
       "        </tr>\n",
       "    \n",
       "        <tr style=\"background-color: hsl(120, 100.00%, 98.36%); border: none;\">\n",
       "            <td style=\"padding: 0 1em 0 0.5em; text-align: right; border: none;\">\n",
       "                0.0149\n",
       "                \n",
       "                    &plusmn; 0.0073\n",
       "                \n",
       "            </td>\n",
       "            <td style=\"padding: 0 0.5em 0 0.5em; text-align: left; border: none;\">\n",
       "                BsmtFinSF1\n",
       "            </td>\n",
       "        </tr>\n",
       "    \n",
       "        <tr style=\"background-color: hsl(120, 100.00%, 98.76%); border: none;\">\n",
       "            <td style=\"padding: 0 1em 0 0.5em; text-align: right; border: none;\">\n",
       "                0.0101\n",
       "                \n",
       "                    &plusmn; 0.0031\n",
       "                \n",
       "            </td>\n",
       "            <td style=\"padding: 0 0.5em 0 0.5em; text-align: left; border: none;\">\n",
       "                LotArea\n",
       "            </td>\n",
       "        </tr>\n",
       "    \n",
       "        <tr style=\"background-color: hsl(120, 100.00%, 99.01%); border: none;\">\n",
       "            <td style=\"padding: 0 1em 0 0.5em; text-align: right; border: none;\">\n",
       "                0.0073\n",
       "                \n",
       "                    &plusmn; 0.0053\n",
       "                \n",
       "            </td>\n",
       "            <td style=\"padding: 0 0.5em 0 0.5em; text-align: left; border: none;\">\n",
       "                GrLivArea\n",
       "            </td>\n",
       "        </tr>\n",
       "    \n",
       "        <tr style=\"background-color: hsl(120, 100.00%, 99.64%); border: none;\">\n",
       "            <td style=\"padding: 0 1em 0 0.5em; text-align: right; border: none;\">\n",
       "                0.0017\n",
       "                \n",
       "                    &plusmn; 0.0009\n",
       "                \n",
       "            </td>\n",
       "            <td style=\"padding: 0 0.5em 0 0.5em; text-align: left; border: none;\">\n",
       "                ScreenPorch\n",
       "            </td>\n",
       "        </tr>\n",
       "    \n",
       "    \n",
       "        \n",
       "            <tr style=\"background-color: hsl(120, 100.00%, 99.64%); border: none;\">\n",
       "                <td colspan=\"2\" style=\"padding: 0 0.5em 0 0.5em; text-align: center; border: none; white-space: nowrap;\">\n",
       "                    <i>&hellip; 175 more &hellip;</i>\n",
       "                </td>\n",
       "            </tr>\n",
       "        \n",
       "    \n",
       "    </tbody>\n",
       "</table>\n",
       "    \n",
       "\n",
       "    \n",
       "\n",
       "\n",
       "    \n",
       "\n",
       "    \n",
       "\n",
       "    \n",
       "\n",
       "    \n",
       "\n",
       "    \n",
       "\n",
       "    \n",
       "\n",
       "\n",
       "\n"
      ],
      "text/plain": [
       "<IPython.core.display.HTML object>"
      ]
     },
     "metadata": {},
     "execution_count": 160
    }
   ],
   "metadata": {}
  },
  {
   "cell_type": "code",
   "execution_count": 161,
   "source": [
    "lasso_selected_features = feature_selector(lasso_weights_df, 0.14168, lasso_regression, train_evaluation_data, \"SalePrice\")"
   ],
   "outputs": [
    {
     "output_type": "stream",
     "name": "stdout",
     "text": [
      "The score was improved by 0.00044\n",
      "The best score: 0.14124\n"
     ]
    }
   ],
   "metadata": {}
  },
  {
   "cell_type": "code",
   "execution_count": 86,
   "source": [
    "X_train_selected = final_train_data[lasso_selected_features]\r\n",
    "final_test_selected_data = final_test_data[lasso_selected_features]\r\n",
    "\r\n",
    "lasso_regression.fit(X_train_selected, y_train)\r\n",
    "lasso_predictions = lasso_regression.predict(final_test_selected_data)\r\n",
    "\r\n",
    "output = pd.DataFrame({\"Id\": test_data[\"Id\"], \"SalePrice\": lasso_predictions})\r\n",
    "output.to_csv(\"submissions/lasso_predictions.csv\", index=False)"
   ],
   "outputs": [],
   "metadata": {}
  },
  {
   "cell_type": "markdown",
   "source": [
    "### Random forest regressor"
   ],
   "metadata": {}
  },
  {
   "cell_type": "code",
   "execution_count": 162,
   "source": [
    "random_forest = RandomForestRegressor(random_state=42)"
   ],
   "outputs": [],
   "metadata": {}
  },
  {
   "cell_type": "code",
   "execution_count": 163,
   "source": [
    "random_forest_model = random_forest.fit(train_X, train_y)\r\n",
    "\r\n",
    "random_forest_perm = PermutationImportance(random_forest_model, random_state=42).fit(val_X, val_y)\r\n",
    "random_forest_weights_df = eli5.explain_weights_df(random_forest_perm, feature_names=val_X.columns.tolist())\r\n",
    "eli5.show_weights(random_forest_perm, feature_names = val_X.columns.tolist(), top=10)"
   ],
   "outputs": [
    {
     "output_type": "execute_result",
     "data": {
      "text/html": [
       "\n",
       "    <style>\n",
       "    table.eli5-weights tr:hover {\n",
       "        filter: brightness(85%);\n",
       "    }\n",
       "</style>\n",
       "\n",
       "\n",
       "\n",
       "    \n",
       "\n",
       "    \n",
       "\n",
       "    \n",
       "\n",
       "    \n",
       "\n",
       "    \n",
       "\n",
       "    \n",
       "\n",
       "\n",
       "    \n",
       "\n",
       "    \n",
       "\n",
       "    \n",
       "\n",
       "    \n",
       "\n",
       "    \n",
       "\n",
       "    \n",
       "\n",
       "\n",
       "    \n",
       "\n",
       "    \n",
       "\n",
       "    \n",
       "\n",
       "    \n",
       "\n",
       "    \n",
       "        <table class=\"eli5-weights eli5-feature-importances\" style=\"border-collapse: collapse; border: none; margin-top: 0em; table-layout: auto;\">\n",
       "    <thead>\n",
       "    <tr style=\"border: none;\">\n",
       "        <th style=\"padding: 0 1em 0 0.5em; text-align: right; border: none;\">Weight</th>\n",
       "        <th style=\"padding: 0 0.5em 0 0.5em; text-align: left; border: none;\">Feature</th>\n",
       "    </tr>\n",
       "    </thead>\n",
       "    <tbody>\n",
       "    \n",
       "        <tr style=\"background-color: hsl(120, 100.00%, 80.00%); border: none;\">\n",
       "            <td style=\"padding: 0 1em 0 0.5em; text-align: right; border: none;\">\n",
       "                1.2489\n",
       "                \n",
       "                    &plusmn; 0.0732\n",
       "                \n",
       "            </td>\n",
       "            <td style=\"padding: 0 0.5em 0 0.5em; text-align: left; border: none;\">\n",
       "                AreaQuality\n",
       "            </td>\n",
       "        </tr>\n",
       "    \n",
       "        <tr style=\"background-color: hsl(120, 100.00%, 99.34%); border: none;\">\n",
       "            <td style=\"padding: 0 1em 0 0.5em; text-align: right; border: none;\">\n",
       "                0.0095\n",
       "                \n",
       "                    &plusmn; 0.0016\n",
       "                \n",
       "            </td>\n",
       "            <td style=\"padding: 0 0.5em 0 0.5em; text-align: left; border: none;\">\n",
       "                YearAge\n",
       "            </td>\n",
       "        </tr>\n",
       "    \n",
       "        <tr style=\"background-color: hsl(120, 100.00%, 99.43%); border: none;\">\n",
       "            <td style=\"padding: 0 1em 0 0.5em; text-align: right; border: none;\">\n",
       "                0.0077\n",
       "                \n",
       "                    &plusmn; 0.0022\n",
       "                \n",
       "            </td>\n",
       "            <td style=\"padding: 0 0.5em 0 0.5em; text-align: left; border: none;\">\n",
       "                YearRemodAdd\n",
       "            </td>\n",
       "        </tr>\n",
       "    \n",
       "        <tr style=\"background-color: hsl(120, 100.00%, 99.57%); border: none;\">\n",
       "            <td style=\"padding: 0 1em 0 0.5em; text-align: right; border: none;\">\n",
       "                0.0051\n",
       "                \n",
       "                    &plusmn; 0.0012\n",
       "                \n",
       "            </td>\n",
       "            <td style=\"padding: 0 0.5em 0 0.5em; text-align: left; border: none;\">\n",
       "                OverallCond\n",
       "            </td>\n",
       "        </tr>\n",
       "    \n",
       "        <tr style=\"background-color: hsl(120, 100.00%, 99.66%); border: none;\">\n",
       "            <td style=\"padding: 0 1em 0 0.5em; text-align: right; border: none;\">\n",
       "                0.0036\n",
       "                \n",
       "                    &plusmn; 0.0007\n",
       "                \n",
       "            </td>\n",
       "            <td style=\"padding: 0 0.5em 0 0.5em; text-align: left; border: none;\">\n",
       "                MSZoning_RM\n",
       "            </td>\n",
       "        </tr>\n",
       "    \n",
       "        <tr style=\"background-color: hsl(120, 100.00%, 99.70%); border: none;\">\n",
       "            <td style=\"padding: 0 1em 0 0.5em; text-align: right; border: none;\">\n",
       "                0.0030\n",
       "                \n",
       "                    &plusmn; 0.0013\n",
       "                \n",
       "            </td>\n",
       "            <td style=\"padding: 0 0.5em 0 0.5em; text-align: left; border: none;\">\n",
       "                CentralAir\n",
       "            </td>\n",
       "        </tr>\n",
       "    \n",
       "        <tr style=\"background-color: hsl(120, 100.00%, 99.71%); border: none;\">\n",
       "            <td style=\"padding: 0 1em 0 0.5em; text-align: right; border: none;\">\n",
       "                0.0029\n",
       "                \n",
       "                    &plusmn; 0.0012\n",
       "                \n",
       "            </td>\n",
       "            <td style=\"padding: 0 0.5em 0 0.5em; text-align: left; border: none;\">\n",
       "                MSZoning_RL\n",
       "            </td>\n",
       "        </tr>\n",
       "    \n",
       "        <tr style=\"background-color: hsl(120, 100.00%, 99.72%); border: none;\">\n",
       "            <td style=\"padding: 0 1em 0 0.5em; text-align: right; border: none;\">\n",
       "                0.0028\n",
       "                \n",
       "                    &plusmn; 0.0000\n",
       "                \n",
       "            </td>\n",
       "            <td style=\"padding: 0 0.5em 0 0.5em; text-align: left; border: none;\">\n",
       "                MSZoning_C (all)\n",
       "            </td>\n",
       "        </tr>\n",
       "    \n",
       "        <tr style=\"background-color: hsl(120, 100.00%, 99.73%); border: none;\">\n",
       "            <td style=\"padding: 0 1em 0 0.5em; text-align: right; border: none;\">\n",
       "                0.0026\n",
       "                \n",
       "                    &plusmn; 0.0011\n",
       "                \n",
       "            </td>\n",
       "            <td style=\"padding: 0 0.5em 0 0.5em; text-align: left; border: none;\">\n",
       "                TotalHouseArea\n",
       "            </td>\n",
       "        </tr>\n",
       "    \n",
       "        <tr style=\"background-color: hsl(120, 100.00%, 99.76%); border: none;\">\n",
       "            <td style=\"padding: 0 1em 0 0.5em; text-align: right; border: none;\">\n",
       "                0.0022\n",
       "                \n",
       "                    &plusmn; 0.0011\n",
       "                \n",
       "            </td>\n",
       "            <td style=\"padding: 0 0.5em 0 0.5em; text-align: left; border: none;\">\n",
       "                LotArea_Sqrt\n",
       "            </td>\n",
       "        </tr>\n",
       "    \n",
       "    \n",
       "        \n",
       "            <tr style=\"background-color: hsl(120, 100.00%, 99.76%); border: none;\">\n",
       "                <td colspan=\"2\" style=\"padding: 0 0.5em 0 0.5em; text-align: center; border: none; white-space: nowrap;\">\n",
       "                    <i>&hellip; 175 more &hellip;</i>\n",
       "                </td>\n",
       "            </tr>\n",
       "        \n",
       "    \n",
       "    </tbody>\n",
       "</table>\n",
       "    \n",
       "\n",
       "    \n",
       "\n",
       "\n",
       "    \n",
       "\n",
       "    \n",
       "\n",
       "    \n",
       "\n",
       "    \n",
       "\n",
       "    \n",
       "\n",
       "    \n",
       "\n",
       "\n",
       "\n"
      ],
      "text/plain": [
       "<IPython.core.display.HTML object>"
      ]
     },
     "metadata": {},
     "execution_count": 163
    }
   ],
   "metadata": {}
  },
  {
   "cell_type": "code",
   "execution_count": 164,
   "source": [
    "# Dict of various parameters to use in RandomizedSearchCV.\r\n",
    "params = {'bootstrap': [True, False],\r\n",
    "              \"max_depth\": [5, 10, 20, 30, 40, 50, None],\r\n",
    "              \"max_features\": [\"auto\", \"sqrt\"],\r\n",
    "              \"min_samples_leaf\": [1, 2, 4],\r\n",
    "              \"min_samples_split\": [2, 5, 10],\r\n",
    "              \"n_estimators\": [200, 400, 600, 800, 1000]}"
   ],
   "outputs": [],
   "metadata": {}
  },
  {
   "cell_type": "code",
   "execution_count": 90,
   "source": [
    "#randomized_search = RandomizedSearchCV(estimator=random_forest, param_distributions=params, n_iter=100, scoring=\"neg_root_mean_squared_error\")\r\n",
    "#randomized_search.fit(X_eval, y_eval)"
   ],
   "outputs": [],
   "metadata": {}
  },
  {
   "cell_type": "code",
   "execution_count": 91,
   "source": [
    "#best_params = randomized_search.best_params_"
   ],
   "outputs": [],
   "metadata": {}
  },
  {
   "cell_type": "code",
   "execution_count": 165,
   "source": [
    "# Dict of the best parameters for Random forest model according to RandomizedSearchCV.\r\n",
    "best_params = {\"n_estimators\": 1000,\r\n",
    "               \"min_samples_split\": 2,\r\n",
    "               \"min_samples_leaf\": 1,\r\n",
    "               \"max_features\": \"sqrt\",\r\n",
    "               \"max_depth\": None,\r\n",
    "               \"bootstrap\": False}"
   ],
   "outputs": [],
   "metadata": {}
  },
  {
   "cell_type": "code",
   "execution_count": 166,
   "source": [
    "tuned_random_forest = RandomForestRegressor(n_estimators=best_params[\"n_estimators\"], min_samples_split=best_params[\"min_samples_split\"],\r\n",
    "                                            min_samples_leaf=best_params[\"min_samples_leaf\"], max_features=best_params[\"max_features\"],\r\n",
    "                                            max_depth=best_params[\"max_depth\"], bootstrap=best_params[\"bootstrap\"])"
   ],
   "outputs": [],
   "metadata": {}
  },
  {
   "cell_type": "code",
   "execution_count": 167,
   "source": [
    "tuned_random_forest_model = tuned_random_forest.fit(train_X, train_y)\r\n",
    "\r\n",
    "tuned_random_forest_perm = PermutationImportance(tuned_random_forest_model, random_state=42).fit(val_X, val_y)\r\n",
    "tuned_random_forest_weights_df = eli5.explain_weights_df(tuned_random_forest_perm, feature_names=val_X.columns.tolist())\r\n",
    "eli5.show_weights(tuned_random_forest_perm, feature_names = val_X.columns.tolist(), top=10)"
   ],
   "outputs": [
    {
     "output_type": "execute_result",
     "data": {
      "text/html": [
       "\n",
       "    <style>\n",
       "    table.eli5-weights tr:hover {\n",
       "        filter: brightness(85%);\n",
       "    }\n",
       "</style>\n",
       "\n",
       "\n",
       "\n",
       "    \n",
       "\n",
       "    \n",
       "\n",
       "    \n",
       "\n",
       "    \n",
       "\n",
       "    \n",
       "\n",
       "    \n",
       "\n",
       "\n",
       "    \n",
       "\n",
       "    \n",
       "\n",
       "    \n",
       "\n",
       "    \n",
       "\n",
       "    \n",
       "\n",
       "    \n",
       "\n",
       "\n",
       "    \n",
       "\n",
       "    \n",
       "\n",
       "    \n",
       "\n",
       "    \n",
       "\n",
       "    \n",
       "        <table class=\"eli5-weights eli5-feature-importances\" style=\"border-collapse: collapse; border: none; margin-top: 0em; table-layout: auto;\">\n",
       "    <thead>\n",
       "    <tr style=\"border: none;\">\n",
       "        <th style=\"padding: 0 1em 0 0.5em; text-align: right; border: none;\">Weight</th>\n",
       "        <th style=\"padding: 0 0.5em 0 0.5em; text-align: left; border: none;\">Feature</th>\n",
       "    </tr>\n",
       "    </thead>\n",
       "    <tbody>\n",
       "    \n",
       "        <tr style=\"background-color: hsl(120, 100.00%, 80.00%); border: none;\">\n",
       "            <td style=\"padding: 0 1em 0 0.5em; text-align: right; border: none;\">\n",
       "                0.0396\n",
       "                \n",
       "                    &plusmn; 0.0032\n",
       "                \n",
       "            </td>\n",
       "            <td style=\"padding: 0 0.5em 0 0.5em; text-align: left; border: none;\">\n",
       "                AreaQuality\n",
       "            </td>\n",
       "        </tr>\n",
       "    \n",
       "        <tr style=\"background-color: hsl(120, 100.00%, 87.44%); border: none;\">\n",
       "            <td style=\"padding: 0 1em 0 0.5em; text-align: right; border: none;\">\n",
       "                0.0204\n",
       "                \n",
       "                    &plusmn; 0.0084\n",
       "                \n",
       "            </td>\n",
       "            <td style=\"padding: 0 0.5em 0 0.5em; text-align: left; border: none;\">\n",
       "                TotalHouseArea\n",
       "            </td>\n",
       "        </tr>\n",
       "    \n",
       "        <tr style=\"background-color: hsl(120, 100.00%, 87.55%); border: none;\">\n",
       "            <td style=\"padding: 0 1em 0 0.5em; text-align: right; border: none;\">\n",
       "                0.0201\n",
       "                \n",
       "                    &plusmn; 0.0056\n",
       "                \n",
       "            </td>\n",
       "            <td style=\"padding: 0 0.5em 0 0.5em; text-align: left; border: none;\">\n",
       "                TotalHouseArea_Sqrt\n",
       "            </td>\n",
       "        </tr>\n",
       "    \n",
       "        <tr style=\"background-color: hsl(120, 100.00%, 90.61%); border: none;\">\n",
       "            <td style=\"padding: 0 1em 0 0.5em; text-align: right; border: none;\">\n",
       "                0.0135\n",
       "                \n",
       "                    &plusmn; 0.0026\n",
       "                \n",
       "            </td>\n",
       "            <td style=\"padding: 0 0.5em 0 0.5em; text-align: left; border: none;\">\n",
       "                OverallQualandCond\n",
       "            </td>\n",
       "        </tr>\n",
       "    \n",
       "        <tr style=\"background-color: hsl(120, 100.00%, 90.91%); border: none;\">\n",
       "            <td style=\"padding: 0 1em 0 0.5em; text-align: right; border: none;\">\n",
       "                0.0128\n",
       "                \n",
       "                    &plusmn; 0.0037\n",
       "                \n",
       "            </td>\n",
       "            <td style=\"padding: 0 0.5em 0 0.5em; text-align: left; border: none;\">\n",
       "                OverallQual\n",
       "            </td>\n",
       "        </tr>\n",
       "    \n",
       "        <tr style=\"background-color: hsl(120, 100.00%, 91.60%); border: none;\">\n",
       "            <td style=\"padding: 0 1em 0 0.5em; text-align: right; border: none;\">\n",
       "                0.0115\n",
       "                \n",
       "                    &plusmn; 0.0046\n",
       "                \n",
       "            </td>\n",
       "            <td style=\"padding: 0 0.5em 0 0.5em; text-align: left; border: none;\">\n",
       "                GrLivArea\n",
       "            </td>\n",
       "        </tr>\n",
       "    \n",
       "        <tr style=\"background-color: hsl(120, 100.00%, 92.21%); border: none;\">\n",
       "            <td style=\"padding: 0 1em 0 0.5em; text-align: right; border: none;\">\n",
       "                0.0103\n",
       "                \n",
       "                    &plusmn; 0.0035\n",
       "                \n",
       "            </td>\n",
       "            <td style=\"padding: 0 0.5em 0 0.5em; text-align: left; border: none;\">\n",
       "                GrLivArea_Sqrt\n",
       "            </td>\n",
       "        </tr>\n",
       "    \n",
       "        <tr style=\"background-color: hsl(120, 100.00%, 93.64%); border: none;\">\n",
       "            <td style=\"padding: 0 1em 0 0.5em; text-align: right; border: none;\">\n",
       "                0.0077\n",
       "                \n",
       "                    &plusmn; 0.0040\n",
       "                \n",
       "            </td>\n",
       "            <td style=\"padding: 0 0.5em 0 0.5em; text-align: left; border: none;\">\n",
       "                YearAge\n",
       "            </td>\n",
       "        </tr>\n",
       "    \n",
       "        <tr style=\"background-color: hsl(120, 100.00%, 94.78%); border: none;\">\n",
       "            <td style=\"padding: 0 1em 0 0.5em; text-align: right; border: none;\">\n",
       "                0.0058\n",
       "                \n",
       "                    &plusmn; 0.0017\n",
       "                \n",
       "            </td>\n",
       "            <td style=\"padding: 0 0.5em 0 0.5em; text-align: left; border: none;\">\n",
       "                KitchenQual\n",
       "            </td>\n",
       "        </tr>\n",
       "    \n",
       "        <tr style=\"background-color: hsl(120, 100.00%, 95.06%); border: none;\">\n",
       "            <td style=\"padding: 0 1em 0 0.5em; text-align: right; border: none;\">\n",
       "                0.0054\n",
       "                \n",
       "                    &plusmn; 0.0024\n",
       "                \n",
       "            </td>\n",
       "            <td style=\"padding: 0 0.5em 0 0.5em; text-align: left; border: none;\">\n",
       "                YearRemodAdd\n",
       "            </td>\n",
       "        </tr>\n",
       "    \n",
       "    \n",
       "        \n",
       "            <tr style=\"background-color: hsl(120, 100.00%, 95.06%); border: none;\">\n",
       "                <td colspan=\"2\" style=\"padding: 0 0.5em 0 0.5em; text-align: center; border: none; white-space: nowrap;\">\n",
       "                    <i>&hellip; 175 more &hellip;</i>\n",
       "                </td>\n",
       "            </tr>\n",
       "        \n",
       "    \n",
       "    </tbody>\n",
       "</table>\n",
       "    \n",
       "\n",
       "    \n",
       "\n",
       "\n",
       "    \n",
       "\n",
       "    \n",
       "\n",
       "    \n",
       "\n",
       "    \n",
       "\n",
       "    \n",
       "\n",
       "    \n",
       "\n",
       "\n",
       "\n"
      ],
      "text/plain": [
       "<IPython.core.display.HTML object>"
      ]
     },
     "metadata": {},
     "execution_count": 167
    }
   ],
   "metadata": {}
  },
  {
   "cell_type": "code",
   "execution_count": 168,
   "source": [
    "random_forest_scores = cross_val_score(random_forest, X_eval, y_eval, scoring=\"neg_root_mean_squared_error\")\r\n",
    "print(\"Random forest regressor RMSE:\", random_forest_scores.mean())"
   ],
   "outputs": [
    {
     "output_type": "stream",
     "name": "stdout",
     "text": [
      "Random forest regressor RMSE: -0.12978374300525464\n"
     ]
    }
   ],
   "metadata": {}
  },
  {
   "cell_type": "code",
   "execution_count": 169,
   "source": [
    "tuned_random_forest_scores = cross_val_score(tuned_random_forest, X_eval, y_eval, scoring=\"neg_root_mean_squared_error\")\r\n",
    "print(\"Tuned Random forest regressor RMSE:\", tuned_random_forest_scores.mean())"
   ],
   "outputs": [
    {
     "output_type": "stream",
     "name": "stdout",
     "text": [
      "Tuned Random forest regressor RMSE: -0.12573182711427097\n"
     ]
    }
   ],
   "metadata": {}
  },
  {
   "cell_type": "code",
   "execution_count": 170,
   "source": [
    "random_forest_selected_features = feature_selector(tuned_random_forest_weights_df, 0.12535, tuned_random_forest, train_evaluation_data, \"SalePrice\")"
   ],
   "outputs": [
    {
     "output_type": "stream",
     "name": "stdout",
     "text": [
      "The score was improved by 0.00142\n",
      "The best score: 0.12393\n"
     ]
    }
   ],
   "metadata": {}
  },
  {
   "cell_type": "code",
   "execution_count": 171,
   "source": [
    "X_train_selected = final_train_data[random_forest_selected_features]\r\n",
    "final_test_selected_data = final_test_data[random_forest_selected_features]\r\n",
    "\r\n",
    "tuned_random_forest.fit(X_train_selected, y_train)\r\n",
    "random_forest_predictions = tuned_random_forest.predict(final_test_selected_data)\r\n",
    "\r\n",
    "output = pd.DataFrame({\"Id\": test_data[\"Id\"], \"SalePrice\": random_forest_predictions})\r\n",
    "output.to_csv(\"submissions/random_forest_predictions.csv\", index=False)"
   ],
   "outputs": [],
   "metadata": {}
  },
  {
   "cell_type": "markdown",
   "source": [
    "## Models with polynomial features"
   ],
   "metadata": {}
  },
  {
   "cell_type": "markdown",
   "source": [
    "Another thing which I did and which had better impact to final Kaggle score was sklearn PolynomialFeatures transformer."
   ],
   "metadata": {}
  },
  {
   "cell_type": "code",
   "execution_count": 172,
   "source": [
    "# Create sets for cross-validation.\r\n",
    "train_poly_eval_data = train_oh_encoded_polynomial_data.copy()\r\n",
    "train_poly_eval_data[\"SalePrice\"] = np.log(train_poly_eval_data[\"SalePrice\"])"
   ],
   "outputs": [],
   "metadata": {}
  },
  {
   "cell_type": "code",
   "execution_count": 173,
   "source": [
    "final_train_poly_data, final_test_poly_data = train_oh_encoded_polynomial_data.align(test_oh_encoded_polynomial_data, join='inner', axis=1)\r\n",
    "\r\n",
    "print(\"Columns of final train set with polynomial features:\", final_train_poly_data.shape[1])\r\n",
    "print(\"Columns of final test set with polynomial features:\", final_test_poly_data.shape[1])"
   ],
   "outputs": [
    {
     "output_type": "stream",
     "name": "stdout",
     "text": [
      "Columns of final train set with polynomial features: 681\n",
      "Columns of final test set with polynomial features: 681\n"
     ]
    }
   ],
   "metadata": {}
  },
  {
   "cell_type": "code",
   "execution_count": 174,
   "source": [
    "target = \"SalePrice\"\r\n",
    "final_poly_features = [column for column in final_train_poly_data]\r\n",
    "\r\n",
    "# Sets for cross-validation.\r\n",
    "X_poly_eval = train_poly_eval_data[final_poly_features]\r\n",
    "y_poly_eval = train_poly_eval_data[target]\r\n",
    "\r\n",
    "# Sets for training.\r\n",
    "X_poly_train = final_train_poly_data[final_poly_features]\r\n",
    "y_poly_train = train_oh_encoded_polynomial_data[target]"
   ],
   "outputs": [],
   "metadata": {}
  },
  {
   "cell_type": "code",
   "execution_count": 175,
   "source": [
    "# Set splitting for usage in ELI5 Permuation Importance method.\r\n",
    "train_poly_X, val_poly_X, train_poly_y, val_poly_y = train_test_split(X_poly_eval, y_poly_eval, random_state=42)"
   ],
   "outputs": [],
   "metadata": {}
  },
  {
   "cell_type": "markdown",
   "source": [
    "### Linear regression"
   ],
   "metadata": {}
  },
  {
   "cell_type": "code",
   "execution_count": 176,
   "source": [
    "lin_reg_poly = LinearRegression(normalize=True)"
   ],
   "outputs": [],
   "metadata": {}
  },
  {
   "cell_type": "code",
   "execution_count": 177,
   "source": [
    "lin_reg_poly_model = lin_reg_poly.fit(train_poly_X, train_poly_y)\r\n",
    "\r\n",
    "lin_reg_poly_perm = PermutationImportance(lin_reg_poly_model, random_state=1).fit(val_poly_X, val_poly_y)\r\n",
    "lin_reg_poly_weights_df = eli5.explain_weights_df(lin_reg_poly_perm, feature_names=val_poly_X.columns.tolist())\r\n",
    "eli5.show_weights(lin_reg_poly_perm, feature_names=val_poly_X.columns.tolist(), top=10)"
   ],
   "outputs": [
    {
     "output_type": "execute_result",
     "data": {
      "text/html": [
       "\n",
       "    <style>\n",
       "    table.eli5-weights tr:hover {\n",
       "        filter: brightness(85%);\n",
       "    }\n",
       "</style>\n",
       "\n",
       "\n",
       "\n",
       "    \n",
       "\n",
       "    \n",
       "\n",
       "    \n",
       "\n",
       "    \n",
       "\n",
       "    \n",
       "\n",
       "    \n",
       "\n",
       "\n",
       "    \n",
       "\n",
       "    \n",
       "\n",
       "    \n",
       "\n",
       "    \n",
       "\n",
       "    \n",
       "\n",
       "    \n",
       "\n",
       "\n",
       "    \n",
       "\n",
       "    \n",
       "\n",
       "    \n",
       "\n",
       "    \n",
       "\n",
       "    \n",
       "        <table class=\"eli5-weights eli5-feature-importances\" style=\"border-collapse: collapse; border: none; margin-top: 0em; table-layout: auto;\">\n",
       "    <thead>\n",
       "    <tr style=\"border: none;\">\n",
       "        <th style=\"padding: 0 1em 0 0.5em; text-align: right; border: none;\">Weight</th>\n",
       "        <th style=\"padding: 0 0.5em 0 0.5em; text-align: left; border: none;\">Feature</th>\n",
       "    </tr>\n",
       "    </thead>\n",
       "    <tbody>\n",
       "    \n",
       "        <tr style=\"background-color: hsl(120, 100.00%, 80.00%); border: none;\">\n",
       "            <td style=\"padding: 0 1em 0 0.5em; text-align: right; border: none;\">\n",
       "                129636.5585\n",
       "                \n",
       "                    &plusmn; 11164.4394\n",
       "                \n",
       "            </td>\n",
       "            <td style=\"padding: 0 0.5em 0 0.5em; text-align: left; border: none;\">\n",
       "                GarageCond\n",
       "            </td>\n",
       "        </tr>\n",
       "    \n",
       "        <tr style=\"background-color: hsl(120, 100.00%, 80.17%); border: none;\">\n",
       "            <td style=\"padding: 0 1em 0 0.5em; text-align: right; border: none;\">\n",
       "                128063.8281\n",
       "                \n",
       "                    &plusmn; 15366.5127\n",
       "                \n",
       "            </td>\n",
       "            <td style=\"padding: 0 0.5em 0 0.5em; text-align: left; border: none;\">\n",
       "                GarageCond YrSold\n",
       "            </td>\n",
       "        </tr>\n",
       "    \n",
       "        <tr style=\"background-color: hsl(120, 100.00%, 94.80%); border: none;\">\n",
       "            <td style=\"padding: 0 1em 0 0.5em; text-align: right; border: none;\">\n",
       "                18914.1740\n",
       "                \n",
       "                    &plusmn; 1396.5669\n",
       "                \n",
       "            </td>\n",
       "            <td style=\"padding: 0 0.5em 0 0.5em; text-align: left; border: none;\">\n",
       "                YrSold YearAge\n",
       "            </td>\n",
       "        </tr>\n",
       "    \n",
       "        <tr style=\"background-color: hsl(120, 100.00%, 94.86%); border: none;\">\n",
       "            <td style=\"padding: 0 1em 0 0.5em; text-align: right; border: none;\">\n",
       "                18632.2512\n",
       "                \n",
       "                    &plusmn; 2561.0987\n",
       "                \n",
       "            </td>\n",
       "            <td style=\"padding: 0 0.5em 0 0.5em; text-align: left; border: none;\">\n",
       "                YearAge\n",
       "            </td>\n",
       "        </tr>\n",
       "    \n",
       "        <tr style=\"background-color: hsl(120, 100.00%, 95.62%); border: none;\">\n",
       "            <td style=\"padding: 0 1em 0 0.5em; text-align: right; border: none;\">\n",
       "                14793.6443\n",
       "                \n",
       "                    &plusmn; 1443.3778\n",
       "                \n",
       "            </td>\n",
       "            <td style=\"padding: 0 0.5em 0 0.5em; text-align: left; border: none;\">\n",
       "                YrSold GarageAge\n",
       "            </td>\n",
       "        </tr>\n",
       "    \n",
       "        <tr style=\"background-color: hsl(120, 100.00%, 95.65%); border: none;\">\n",
       "            <td style=\"padding: 0 1em 0 0.5em; text-align: right; border: none;\">\n",
       "                14680.2671\n",
       "                \n",
       "                    &plusmn; 614.2692\n",
       "                \n",
       "            </td>\n",
       "            <td style=\"padding: 0 0.5em 0 0.5em; text-align: left; border: none;\">\n",
       "                GarageAge\n",
       "            </td>\n",
       "        </tr>\n",
       "    \n",
       "        <tr style=\"background-color: hsl(120, 100.00%, 96.57%); border: none;\">\n",
       "            <td style=\"padding: 0 1em 0 0.5em; text-align: right; border: none;\">\n",
       "                10452.2328\n",
       "                \n",
       "                    &plusmn; 897.3659\n",
       "                \n",
       "            </td>\n",
       "            <td style=\"padding: 0 0.5em 0 0.5em; text-align: left; border: none;\">\n",
       "                FireplaceQu YrSold\n",
       "            </td>\n",
       "        </tr>\n",
       "    \n",
       "        <tr style=\"background-color: hsl(120, 100.00%, 96.63%); border: none;\">\n",
       "            <td style=\"padding: 0 1em 0 0.5em; text-align: right; border: none;\">\n",
       "                10163.2971\n",
       "                \n",
       "                    &plusmn; 1682.3762\n",
       "                \n",
       "            </td>\n",
       "            <td style=\"padding: 0 0.5em 0 0.5em; text-align: left; border: none;\">\n",
       "                FireplaceQu\n",
       "            </td>\n",
       "        </tr>\n",
       "    \n",
       "        <tr style=\"background-color: hsl(120, 100.00%, 96.79%); border: none;\">\n",
       "            <td style=\"padding: 0 1em 0 0.5em; text-align: right; border: none;\">\n",
       "                9493.5318\n",
       "                \n",
       "                    &plusmn; 638.3891\n",
       "                \n",
       "            </td>\n",
       "            <td style=\"padding: 0 0.5em 0 0.5em; text-align: left; border: none;\">\n",
       "                GarageAge^2\n",
       "            </td>\n",
       "        </tr>\n",
       "    \n",
       "        <tr style=\"background-color: hsl(120, 100.00%, 96.93%); border: none;\">\n",
       "            <td style=\"padding: 0 1em 0 0.5em; text-align: right; border: none;\">\n",
       "                8913.5754\n",
       "                \n",
       "                    &plusmn; 1056.6632\n",
       "                \n",
       "            </td>\n",
       "            <td style=\"padding: 0 0.5em 0 0.5em; text-align: left; border: none;\">\n",
       "                GarageType_None\n",
       "            </td>\n",
       "        </tr>\n",
       "    \n",
       "    \n",
       "        \n",
       "            <tr style=\"background-color: hsl(120, 100.00%, 96.93%); border: none;\">\n",
       "                <td colspan=\"2\" style=\"padding: 0 0.5em 0 0.5em; text-align: center; border: none; white-space: nowrap;\">\n",
       "                    <i>&hellip; 671 more &hellip;</i>\n",
       "                </td>\n",
       "            </tr>\n",
       "        \n",
       "    \n",
       "    </tbody>\n",
       "</table>\n",
       "    \n",
       "\n",
       "    \n",
       "\n",
       "\n",
       "    \n",
       "\n",
       "    \n",
       "\n",
       "    \n",
       "\n",
       "    \n",
       "\n",
       "    \n",
       "\n",
       "    \n",
       "\n",
       "\n",
       "\n"
      ],
      "text/plain": [
       "<IPython.core.display.HTML object>"
      ]
     },
     "metadata": {},
     "execution_count": 177
    }
   ],
   "metadata": {}
  },
  {
   "cell_type": "code",
   "execution_count": 178,
   "source": [
    "\r\n",
    "# Evaluation\r\n",
    "lin_reg_poly_scores = cross_val_score(lin_reg_poly, X_poly_eval, y_poly_eval, scoring=\"neg_root_mean_squared_error\")\r\n",
    "print(\"RMSE of linear regression with polynomial features:\", lin_reg_poly_scores.mean())"
   ],
   "outputs": [
    {
     "output_type": "stream",
     "name": "stdout",
     "text": [
      "RMSE of linear regression with polynomial features: -0.3680568574364\n"
     ]
    }
   ],
   "metadata": {}
  },
  {
   "cell_type": "code",
   "execution_count": 180,
   "source": [
    "lin_reg_selected_poly_features = feature_selector(lin_reg_poly_weights_df, 0.36805, lin_reg_poly, train_poly_eval_data, \"SalePrice\", divider=10000)"
   ],
   "outputs": [
    {
     "output_type": "stream",
     "name": "stdout",
     "text": [
      "The score was not improved.\n",
      "The lowest achieved score: 160419904.36953\n"
     ]
    }
   ],
   "metadata": {}
  },
  {
   "cell_type": "code",
   "execution_count": null,
   "source": [
    "X_train_selected_poly = final_train_poly_data[lin_reg_selected_poly_features]\r\n",
    "final_test_selected_data = final_test_poly_data[lin_reg_selected_poly_features]\r\n",
    "\r\n",
    "lin_reg_poly.fit(X_train_selected_poly, y_train)\r\n",
    "lin_reg_poly_selected_predictions = lin_reg_poly.predict(final_test_selected_data)\r\n",
    "\r\n",
    "output = pd.DataFrame({\"Id\": test_data[\"Id\"], \"SalePrice\": lin_reg_poly_selected_predictions})\r\n",
    "output.to_csv(\"submissions/linear_poly_predictions.csv\", index=False)"
   ],
   "outputs": [],
   "metadata": {}
  },
  {
   "cell_type": "markdown",
   "source": [
    "### Ridge regression"
   ],
   "metadata": {}
  },
  {
   "cell_type": "code",
   "execution_count": 182,
   "source": [
    "optimal_alpha = alpha_selector(\"Ridge\", X_poly_eval, y_poly_eval, normalize=True)"
   ],
   "outputs": [
    {
     "output_type": "stream",
     "name": "stdout",
     "text": [
      "The lowest reached score: 0.11055\n",
      "Optimal alpha: 0.30000000000000004\n"
     ]
    }
   ],
   "metadata": {}
  },
  {
   "cell_type": "code",
   "execution_count": 183,
   "source": [
    "ridge_poly = Ridge(alpha=0.3, normalize=True)"
   ],
   "outputs": [],
   "metadata": {}
  },
  {
   "cell_type": "code",
   "execution_count": 185,
   "source": [
    "ridge_poly_model = ridge_poly.fit(train_poly_X, train_poly_y)\r\n",
    "\r\n",
    "ridge_poly_perm = PermutationImportance(ridge_poly_model, random_state=1).fit(val_poly_X, val_poly_y)\r\n",
    "ridge_poly_weights_df = eli5.explain_weights_df(ridge_poly_perm, feature_names=val_poly_X.columns.tolist())\r\n",
    "eli5.show_weights(ridge_poly_perm, feature_names = val_poly_X.columns.tolist(), top=10)"
   ],
   "outputs": [
    {
     "output_type": "execute_result",
     "data": {
      "text/html": [
       "\n",
       "    <style>\n",
       "    table.eli5-weights tr:hover {\n",
       "        filter: brightness(85%);\n",
       "    }\n",
       "</style>\n",
       "\n",
       "\n",
       "\n",
       "    \n",
       "\n",
       "    \n",
       "\n",
       "    \n",
       "\n",
       "    \n",
       "\n",
       "    \n",
       "\n",
       "    \n",
       "\n",
       "\n",
       "    \n",
       "\n",
       "    \n",
       "\n",
       "    \n",
       "\n",
       "    \n",
       "\n",
       "    \n",
       "\n",
       "    \n",
       "\n",
       "\n",
       "    \n",
       "\n",
       "    \n",
       "\n",
       "    \n",
       "\n",
       "    \n",
       "\n",
       "    \n",
       "        <table class=\"eli5-weights eli5-feature-importances\" style=\"border-collapse: collapse; border: none; margin-top: 0em; table-layout: auto;\">\n",
       "    <thead>\n",
       "    <tr style=\"border: none;\">\n",
       "        <th style=\"padding: 0 1em 0 0.5em; text-align: right; border: none;\">Weight</th>\n",
       "        <th style=\"padding: 0 0.5em 0 0.5em; text-align: left; border: none;\">Feature</th>\n",
       "    </tr>\n",
       "    </thead>\n",
       "    <tbody>\n",
       "    \n",
       "        <tr style=\"background-color: hsl(120, 100.00%, 80.00%); border: none;\">\n",
       "            <td style=\"padding: 0 1em 0 0.5em; text-align: right; border: none;\">\n",
       "                0.0115\n",
       "                \n",
       "                    &plusmn; 0.0033\n",
       "                \n",
       "            </td>\n",
       "            <td style=\"padding: 0 0.5em 0 0.5em; text-align: left; border: none;\">\n",
       "                MSZoning_C (all)\n",
       "            </td>\n",
       "        </tr>\n",
       "    \n",
       "        <tr style=\"background-color: hsl(120, 100.00%, 90.73%); border: none;\">\n",
       "            <td style=\"padding: 0 1em 0 0.5em; text-align: right; border: none;\">\n",
       "                0.0038\n",
       "                \n",
       "                    &plusmn; 0.0024\n",
       "                \n",
       "            </td>\n",
       "            <td style=\"padding: 0 0.5em 0 0.5em; text-align: left; border: none;\">\n",
       "                Neighborhood_Crawfor\n",
       "            </td>\n",
       "        </tr>\n",
       "    \n",
       "        <tr style=\"background-color: hsl(120, 100.00%, 93.52%); border: none;\">\n",
       "            <td style=\"padding: 0 1em 0 0.5em; text-align: right; border: none;\">\n",
       "                0.0023\n",
       "                \n",
       "                    &plusmn; 0.0004\n",
       "                \n",
       "            </td>\n",
       "            <td style=\"padding: 0 0.5em 0 0.5em; text-align: left; border: none;\">\n",
       "                Neighborhood_MeadowV\n",
       "            </td>\n",
       "        </tr>\n",
       "    \n",
       "        <tr style=\"background-color: hsl(120, 100.00%, 94.31%); border: none;\">\n",
       "            <td style=\"padding: 0 1em 0 0.5em; text-align: right; border: none;\">\n",
       "                0.0019\n",
       "                \n",
       "                    &plusmn; 0.0008\n",
       "                \n",
       "            </td>\n",
       "            <td style=\"padding: 0 0.5em 0 0.5em; text-align: left; border: none;\">\n",
       "                BsmtFinSF1\n",
       "            </td>\n",
       "        </tr>\n",
       "    \n",
       "        <tr style=\"background-color: hsl(120, 100.00%, 94.64%); border: none;\">\n",
       "            <td style=\"padding: 0 1em 0 0.5em; text-align: right; border: none;\">\n",
       "                0.0017\n",
       "                \n",
       "                    &plusmn; 0.0006\n",
       "                \n",
       "            </td>\n",
       "            <td style=\"padding: 0 0.5em 0 0.5em; text-align: left; border: none;\">\n",
       "                TotalBsmtSF\n",
       "            </td>\n",
       "        </tr>\n",
       "    \n",
       "        <tr style=\"background-color: hsl(120, 100.00%, 94.78%); border: none;\">\n",
       "            <td style=\"padding: 0 1em 0 0.5em; text-align: right; border: none;\">\n",
       "                0.0017\n",
       "                \n",
       "                    &plusmn; 0.0020\n",
       "                \n",
       "            </td>\n",
       "            <td style=\"padding: 0 0.5em 0 0.5em; text-align: left; border: none;\">\n",
       "                TotalHouseArea_Sqrt\n",
       "            </td>\n",
       "        </tr>\n",
       "    \n",
       "        <tr style=\"background-color: hsl(120, 100.00%, 94.82%); border: none;\">\n",
       "            <td style=\"padding: 0 1em 0 0.5em; text-align: right; border: none;\">\n",
       "                0.0017\n",
       "                \n",
       "                    &plusmn; 0.0005\n",
       "                \n",
       "            </td>\n",
       "            <td style=\"padding: 0 0.5em 0 0.5em; text-align: left; border: none;\">\n",
       "                Functional_Maj\n",
       "            </td>\n",
       "        </tr>\n",
       "    \n",
       "        <tr style=\"background-color: hsl(120, 100.00%, 94.82%); border: none;\">\n",
       "            <td style=\"padding: 0 1em 0 0.5em; text-align: right; border: none;\">\n",
       "                0.0017\n",
       "                \n",
       "                    &plusmn; 0.0018\n",
       "                \n",
       "            </td>\n",
       "            <td style=\"padding: 0 0.5em 0 0.5em; text-align: left; border: none;\">\n",
       "                TotalBsmtSF_Sqrt\n",
       "            </td>\n",
       "        </tr>\n",
       "    \n",
       "        <tr style=\"background-color: hsl(120, 100.00%, 94.90%); border: none;\">\n",
       "            <td style=\"padding: 0 1em 0 0.5em; text-align: right; border: none;\">\n",
       "                0.0016\n",
       "                \n",
       "                    &plusmn; 0.0017\n",
       "                \n",
       "            </td>\n",
       "            <td style=\"padding: 0 0.5em 0 0.5em; text-align: left; border: none;\">\n",
       "                Neighborhood_StoneBr\n",
       "            </td>\n",
       "        </tr>\n",
       "    \n",
       "        <tr style=\"background-color: hsl(120, 100.00%, 95.22%); border: none;\">\n",
       "            <td style=\"padding: 0 1em 0 0.5em; text-align: right; border: none;\">\n",
       "                0.0015\n",
       "                \n",
       "                    &plusmn; 0.0016\n",
       "                \n",
       "            </td>\n",
       "            <td style=\"padding: 0 0.5em 0 0.5em; text-align: left; border: none;\">\n",
       "                Functional_Typ\n",
       "            </td>\n",
       "        </tr>\n",
       "    \n",
       "    \n",
       "        \n",
       "            <tr style=\"background-color: hsl(120, 100.00%, 95.22%); border: none;\">\n",
       "                <td colspan=\"2\" style=\"padding: 0 0.5em 0 0.5em; text-align: center; border: none; white-space: nowrap;\">\n",
       "                    <i>&hellip; 671 more &hellip;</i>\n",
       "                </td>\n",
       "            </tr>\n",
       "        \n",
       "    \n",
       "    </tbody>\n",
       "</table>\n",
       "    \n",
       "\n",
       "    \n",
       "\n",
       "\n",
       "    \n",
       "\n",
       "    \n",
       "\n",
       "    \n",
       "\n",
       "    \n",
       "\n",
       "    \n",
       "\n",
       "    \n",
       "\n",
       "\n",
       "\n"
      ],
      "text/plain": [
       "<IPython.core.display.HTML object>"
      ]
     },
     "metadata": {},
     "execution_count": 185
    }
   ],
   "metadata": {}
  },
  {
   "cell_type": "code",
   "execution_count": 186,
   "source": [
    "# Evaluation\r\n",
    "ridge_poly_scores = cross_val_score(ridge_poly, X_poly_eval, y_poly_eval, scoring=\"neg_root_mean_squared_error\")\r\n",
    "print(\"RMSE of Ridge regression with polynomial features:\", ridge_poly_scores.mean())"
   ],
   "outputs": [
    {
     "output_type": "stream",
     "name": "stdout",
     "text": [
      "RMSE of Ridge regression with polynomial features: -0.11054724647581451\n"
     ]
    }
   ],
   "metadata": {}
  },
  {
   "cell_type": "code",
   "execution_count": 187,
   "source": [
    "ridge_selected_poly_features = feature_selector(ridge_poly_weights_df, 0.11078, ridge_poly, train_poly_eval_data, \"SalePrice\", divider=100000)"
   ],
   "outputs": [
    {
     "output_type": "stream",
     "name": "stdout",
     "text": [
      "The score was improved by 0.00041\n",
      "The best score: 0.11037\n"
     ]
    }
   ],
   "metadata": {}
  },
  {
   "cell_type": "code",
   "execution_count": 188,
   "source": [
    "X_train_selected_poly = final_train_poly_data[ridge_selected_poly_features]\r\n",
    "final_test_selected_data = final_test_poly_data[ridge_selected_poly_features]\r\n",
    "\r\n",
    "ridge_poly.fit(X_train_selected_poly, y_train)\r\n",
    "ridge_poly_selected_predictions = ridge_poly.predict(final_test_selected_data)\r\n",
    "\r\n",
    "output = pd.DataFrame({\"Id\": test_data[\"Id\"], \"SalePrice\": ridge_poly_selected_predictions})\r\n",
    "output.to_csv(\"submissions/ridge_poly_predictions.csv\", index=False)"
   ],
   "outputs": [],
   "metadata": {}
  },
  {
   "cell_type": "markdown",
   "source": [
    "### Lasso regression"
   ],
   "metadata": {}
  },
  {
   "cell_type": "code",
   "execution_count": null,
   "source": [
    "optimal_alpha = alpha_selector(\"Lasso\", X_poly_eval, y_poly_eval)"
   ],
   "outputs": [],
   "metadata": {}
  },
  {
   "cell_type": "code",
   "execution_count": 115,
   "source": [
    "lasso_poly = Lasso(alpha=2.7)"
   ],
   "outputs": [],
   "metadata": {}
  },
  {
   "cell_type": "code",
   "execution_count": 116,
   "source": [
    "lasso_poly_model = lasso_poly.fit(train_poly_X, train_poly_y)\r\n",
    "\r\n",
    "lasso_poly_perm = PermutationImportance(lasso_poly_model, random_state=1).fit(val_poly_X, val_poly_y)\r\n",
    "lasso_poly_weights_df = eli5.explain_weights_df(lasso_poly_perm, feature_names=val_poly_X.columns.tolist())\r\n",
    "eli5.show_weights(lasso_poly_perm, feature_names = val_poly_X.columns.tolist(), top=10)"
   ],
   "outputs": [
    {
     "output_type": "stream",
     "name": "stderr",
     "text": [
      "C:\\Users\\Gediminas\\anaconda3\\lib\\site-packages\\sklearn\\linear_model\\_coordinate_descent.py:530: ConvergenceWarning: Objective did not converge. You might want to increase the number of iterations. Duality gap: 7.415904240264086, tolerance: 0.01746066425995421\n",
      "  model = cd_fast.enet_coordinate_descent(\n"
     ]
    },
    {
     "output_type": "execute_result",
     "data": {
      "text/html": [
       "\n",
       "    <style>\n",
       "    table.eli5-weights tr:hover {\n",
       "        filter: brightness(85%);\n",
       "    }\n",
       "</style>\n",
       "\n",
       "\n",
       "\n",
       "    \n",
       "\n",
       "    \n",
       "\n",
       "    \n",
       "\n",
       "    \n",
       "\n",
       "    \n",
       "\n",
       "    \n",
       "\n",
       "\n",
       "    \n",
       "\n",
       "    \n",
       "\n",
       "    \n",
       "\n",
       "    \n",
       "\n",
       "    \n",
       "\n",
       "    \n",
       "\n",
       "\n",
       "    \n",
       "\n",
       "    \n",
       "\n",
       "    \n",
       "\n",
       "    \n",
       "\n",
       "    \n",
       "        <table class=\"eli5-weights eli5-feature-importances\" style=\"border-collapse: collapse; border: none; margin-top: 0em; table-layout: auto;\">\n",
       "    <thead>\n",
       "    <tr style=\"border: none;\">\n",
       "        <th style=\"padding: 0 1em 0 0.5em; text-align: right; border: none;\">Weight</th>\n",
       "        <th style=\"padding: 0 0.5em 0 0.5em; text-align: left; border: none;\">Feature</th>\n",
       "    </tr>\n",
       "    </thead>\n",
       "    <tbody>\n",
       "    \n",
       "        <tr style=\"background-color: hsl(120, 100.00%, 80.00%); border: none;\">\n",
       "            <td style=\"padding: 0 1em 0 0.5em; text-align: right; border: none;\">\n",
       "                0.2537\n",
       "                \n",
       "                    &plusmn; 0.0255\n",
       "                \n",
       "            </td>\n",
       "            <td style=\"padding: 0 0.5em 0 0.5em; text-align: left; border: none;\">\n",
       "                AreaQuality\n",
       "            </td>\n",
       "        </tr>\n",
       "    \n",
       "        <tr style=\"background-color: hsl(120, 100.00%, 84.77%); border: none;\">\n",
       "            <td style=\"padding: 0 1em 0 0.5em; text-align: right; border: none;\">\n",
       "                0.1720\n",
       "                \n",
       "                    &plusmn; 0.0178\n",
       "                \n",
       "            </td>\n",
       "            <td style=\"padding: 0 0.5em 0 0.5em; text-align: left; border: none;\">\n",
       "                2ndFlrSF GrLivArea\n",
       "            </td>\n",
       "        </tr>\n",
       "    \n",
       "        <tr style=\"background-color: hsl(120, 100.00%, 86.11%); border: none;\">\n",
       "            <td style=\"padding: 0 1em 0 0.5em; text-align: right; border: none;\">\n",
       "                0.1507\n",
       "                \n",
       "                    &plusmn; 0.0248\n",
       "                \n",
       "            </td>\n",
       "            <td style=\"padding: 0 0.5em 0 0.5em; text-align: left; border: none;\">\n",
       "                YearRemodAdd YearAge\n",
       "            </td>\n",
       "        </tr>\n",
       "    \n",
       "        <tr style=\"background-color: hsl(120, 100.00%, 86.40%); border: none;\">\n",
       "            <td style=\"padding: 0 1em 0 0.5em; text-align: right; border: none;\">\n",
       "                0.1462\n",
       "                \n",
       "                    &plusmn; 0.0070\n",
       "                \n",
       "            </td>\n",
       "            <td style=\"padding: 0 0.5em 0 0.5em; text-align: left; border: none;\">\n",
       "                1stFlrSF^2\n",
       "            </td>\n",
       "        </tr>\n",
       "    \n",
       "        <tr style=\"background-color: hsl(120, 100.00%, 86.87%); border: none;\">\n",
       "            <td style=\"padding: 0 1em 0 0.5em; text-align: right; border: none;\">\n",
       "                0.1391\n",
       "                \n",
       "                    &plusmn; 0.0091\n",
       "                \n",
       "            </td>\n",
       "            <td style=\"padding: 0 0.5em 0 0.5em; text-align: left; border: none;\">\n",
       "                LotArea YrSold\n",
       "            </td>\n",
       "        </tr>\n",
       "    \n",
       "        <tr style=\"background-color: hsl(120, 100.00%, 91.06%); border: none;\">\n",
       "            <td style=\"padding: 0 1em 0 0.5em; text-align: right; border: none;\">\n",
       "                0.0803\n",
       "                \n",
       "                    &plusmn; 0.0107\n",
       "                \n",
       "            </td>\n",
       "            <td style=\"padding: 0 0.5em 0 0.5em; text-align: left; border: none;\">\n",
       "                LotArea GrLivArea\n",
       "            </td>\n",
       "        </tr>\n",
       "    \n",
       "        <tr style=\"background-color: hsl(120, 100.00%, 91.14%); border: none;\">\n",
       "            <td style=\"padding: 0 1em 0 0.5em; text-align: right; border: none;\">\n",
       "                0.0794\n",
       "                \n",
       "                    &plusmn; 0.0096\n",
       "                \n",
       "            </td>\n",
       "            <td style=\"padding: 0 0.5em 0 0.5em; text-align: left; border: none;\">\n",
       "                2ndFlrSF YrSold\n",
       "            </td>\n",
       "        </tr>\n",
       "    \n",
       "        <tr style=\"background-color: hsl(120, 100.00%, 92.14%); border: none;\">\n",
       "            <td style=\"padding: 0 1em 0 0.5em; text-align: right; border: none;\">\n",
       "                0.0669\n",
       "                \n",
       "                    &plusmn; 0.0098\n",
       "                \n",
       "            </td>\n",
       "            <td style=\"padding: 0 0.5em 0 0.5em; text-align: left; border: none;\">\n",
       "                YearRemodAdd 2ndFlrSF\n",
       "            </td>\n",
       "        </tr>\n",
       "    \n",
       "        <tr style=\"background-color: hsl(120, 100.00%, 92.49%); border: none;\">\n",
       "            <td style=\"padding: 0 1em 0 0.5em; text-align: right; border: none;\">\n",
       "                0.0626\n",
       "                \n",
       "                    &plusmn; 0.0159\n",
       "                \n",
       "            </td>\n",
       "            <td style=\"padding: 0 0.5em 0 0.5em; text-align: left; border: none;\">\n",
       "                YearRemodAdd 1stFlrSF\n",
       "            </td>\n",
       "        </tr>\n",
       "    \n",
       "        <tr style=\"background-color: hsl(120, 100.00%, 93.04%); border: none;\">\n",
       "            <td style=\"padding: 0 1em 0 0.5em; text-align: right; border: none;\">\n",
       "                0.0562\n",
       "                \n",
       "                    &plusmn; 0.0103\n",
       "                \n",
       "            </td>\n",
       "            <td style=\"padding: 0 0.5em 0 0.5em; text-align: left; border: none;\">\n",
       "                2ndFlrSF^2\n",
       "            </td>\n",
       "        </tr>\n",
       "    \n",
       "    \n",
       "        \n",
       "            <tr style=\"background-color: hsl(120, 100.00%, 93.04%); border: none;\">\n",
       "                <td colspan=\"2\" style=\"padding: 0 0.5em 0 0.5em; text-align: center; border: none; white-space: nowrap;\">\n",
       "                    <i>&hellip; 675 more &hellip;</i>\n",
       "                </td>\n",
       "            </tr>\n",
       "        \n",
       "    \n",
       "    </tbody>\n",
       "</table>\n",
       "    \n",
       "\n",
       "    \n",
       "\n",
       "\n",
       "    \n",
       "\n",
       "    \n",
       "\n",
       "    \n",
       "\n",
       "    \n",
       "\n",
       "    \n",
       "\n",
       "    \n",
       "\n",
       "\n",
       "\n"
      ],
      "text/plain": [
       "<IPython.core.display.HTML object>"
      ]
     },
     "metadata": {},
     "execution_count": 116
    }
   ],
   "metadata": {}
  },
  {
   "cell_type": "code",
   "execution_count": 117,
   "source": [
    "# Evaluation\r\n",
    "lasso_poly_scores = cross_val_score(lasso_poly, X_poly_eval, y_poly_eval, scoring=\"neg_root_mean_squared_error\")"
   ],
   "outputs": [
    {
     "output_type": "stream",
     "name": "stderr",
     "text": [
      "C:\\Users\\Gediminas\\anaconda3\\lib\\site-packages\\sklearn\\linear_model\\_coordinate_descent.py:530: ConvergenceWarning: Objective did not converge. You might want to increase the number of iterations. Duality gap: 8.00224183994553, tolerance: 0.0187993164380746\n",
      "  model = cd_fast.enet_coordinate_descent(\n",
      "C:\\Users\\Gediminas\\anaconda3\\lib\\site-packages\\sklearn\\linear_model\\_coordinate_descent.py:530: ConvergenceWarning: Objective did not converge. You might want to increase the number of iterations. Duality gap: 7.936327493981565, tolerance: 0.017872078179915183\n",
      "  model = cd_fast.enet_coordinate_descent(\n",
      "C:\\Users\\Gediminas\\anaconda3\\lib\\site-packages\\sklearn\\linear_model\\_coordinate_descent.py:530: ConvergenceWarning: Objective did not converge. You might want to increase the number of iterations. Duality gap: 7.40589020308736, tolerance: 0.018277994102588176\n",
      "  model = cd_fast.enet_coordinate_descent(\n",
      "C:\\Users\\Gediminas\\anaconda3\\lib\\site-packages\\sklearn\\linear_model\\_coordinate_descent.py:530: ConvergenceWarning: Objective did not converge. You might want to increase the number of iterations. Duality gap: 7.964070639380813, tolerance: 0.018922199547190703\n",
      "  model = cd_fast.enet_coordinate_descent(\n",
      "C:\\Users\\Gediminas\\anaconda3\\lib\\site-packages\\sklearn\\linear_model\\_coordinate_descent.py:530: ConvergenceWarning: Objective did not converge. You might want to increase the number of iterations. Duality gap: 7.87721756445222, tolerance: 0.01868353340488893\n",
      "  model = cd_fast.enet_coordinate_descent(\n"
     ]
    }
   ],
   "metadata": {}
  },
  {
   "cell_type": "code",
   "execution_count": 118,
   "source": [
    "print(\"RMSE of Lasso regression with polynomial features:\", lasso_poly_scores.mean())"
   ],
   "outputs": [
    {
     "output_type": "stream",
     "name": "stdout",
     "text": [
      "RMSE of Lasso regression with polynomial features: -0.13209257655031686\n"
     ]
    }
   ],
   "metadata": {}
  },
  {
   "cell_type": "code",
   "execution_count": null,
   "source": [
    "lasso_selected_poly_features = feature_selector(lasso_poly_weights_df, 0.13209, lasso_poly, train_poly_eval_data, \"SalePrice\")"
   ],
   "outputs": [],
   "metadata": {}
  },
  {
   "cell_type": "code",
   "execution_count": null,
   "source": [
    "X_train_selected_poly = final_train_poly_data[lasso_selected_poly_features]\r\n",
    "final_test_selected_data = final_test_poly_data[lasso_selected_poly_features]\r\n",
    "\r\n",
    "lasso_poly.fit(X_train_selected_poly, y_train)\r\n",
    "lasso_poly_selected_predictions = lasso_poly.predict(final_test_selected_data)\r\n",
    "\r\n",
    "output = pd.DataFrame({\"Id\": test_data[\"Id\"], \"SalePrice\": lasso_poly_selected_predictions})\r\n",
    "output.to_csv(\"submissions/lasso_poly_predictions.csv\", index=False)"
   ],
   "outputs": [],
   "metadata": {}
  },
  {
   "cell_type": "markdown",
   "source": [
    "### Random forest regressor"
   ],
   "metadata": {}
  },
  {
   "cell_type": "code",
   "execution_count": 121,
   "source": [
    "random_forest_poly = RandomForestRegressor(random_state=42)"
   ],
   "outputs": [],
   "metadata": {}
  },
  {
   "cell_type": "code",
   "execution_count": 122,
   "source": [
    "random_forest_poly_model = random_forest_poly.fit(train_poly_X, train_poly_y)\r\n",
    "\r\n",
    "random_forest_poly_perm = PermutationImportance(random_forest_poly_model, random_state=42).fit(val_poly_X, val_poly_y)\r\n",
    "random_forest_poly_weights_df = eli5.explain_weights_df(random_forest_poly_perm, feature_names=val_poly_X.columns.tolist())\r\n",
    "eli5.show_weights(random_forest_poly_perm, feature_names = val_poly_X.columns.tolist(), top=10)"
   ],
   "outputs": [
    {
     "output_type": "execute_result",
     "data": {
      "text/html": [
       "\n",
       "    <style>\n",
       "    table.eli5-weights tr:hover {\n",
       "        filter: brightness(85%);\n",
       "    }\n",
       "</style>\n",
       "\n",
       "\n",
       "\n",
       "    \n",
       "\n",
       "    \n",
       "\n",
       "    \n",
       "\n",
       "    \n",
       "\n",
       "    \n",
       "\n",
       "    \n",
       "\n",
       "\n",
       "    \n",
       "\n",
       "    \n",
       "\n",
       "    \n",
       "\n",
       "    \n",
       "\n",
       "    \n",
       "\n",
       "    \n",
       "\n",
       "\n",
       "    \n",
       "\n",
       "    \n",
       "\n",
       "    \n",
       "\n",
       "    \n",
       "\n",
       "    \n",
       "        <table class=\"eli5-weights eli5-feature-importances\" style=\"border-collapse: collapse; border: none; margin-top: 0em; table-layout: auto;\">\n",
       "    <thead>\n",
       "    <tr style=\"border: none;\">\n",
       "        <th style=\"padding: 0 1em 0 0.5em; text-align: right; border: none;\">Weight</th>\n",
       "        <th style=\"padding: 0 0.5em 0 0.5em; text-align: left; border: none;\">Feature</th>\n",
       "    </tr>\n",
       "    </thead>\n",
       "    <tbody>\n",
       "    \n",
       "        <tr style=\"background-color: hsl(120, 100.00%, 80.00%); border: none;\">\n",
       "            <td style=\"padding: 0 1em 0 0.5em; text-align: right; border: none;\">\n",
       "                0.8652\n",
       "                \n",
       "                    &plusmn; 0.1124\n",
       "                \n",
       "            </td>\n",
       "            <td style=\"padding: 0 0.5em 0 0.5em; text-align: left; border: none;\">\n",
       "                AreaQuality\n",
       "            </td>\n",
       "        </tr>\n",
       "    \n",
       "        <tr style=\"background-color: hsl(120, 100.00%, 99.56%); border: none;\">\n",
       "            <td style=\"padding: 0 1em 0 0.5em; text-align: right; border: none;\">\n",
       "                0.0037\n",
       "                \n",
       "                    &plusmn; 0.0028\n",
       "                \n",
       "            </td>\n",
       "            <td style=\"padding: 0 0.5em 0 0.5em; text-align: left; border: none;\">\n",
       "                LotArea GarageFinish\n",
       "            </td>\n",
       "        </tr>\n",
       "    \n",
       "        <tr style=\"background-color: hsl(120, 100.00%, 99.58%); border: none;\">\n",
       "            <td style=\"padding: 0 1em 0 0.5em; text-align: right; border: none;\">\n",
       "                0.0035\n",
       "                \n",
       "                    &plusmn; 0.0012\n",
       "                \n",
       "            </td>\n",
       "            <td style=\"padding: 0 0.5em 0 0.5em; text-align: left; border: none;\">\n",
       "                OverallCond 1stFlrSF\n",
       "            </td>\n",
       "        </tr>\n",
       "    \n",
       "        <tr style=\"background-color: hsl(120, 100.00%, 99.62%); border: none;\">\n",
       "            <td style=\"padding: 0 1em 0 0.5em; text-align: right; border: none;\">\n",
       "                0.0030\n",
       "                \n",
       "                    &plusmn; 0.0019\n",
       "                \n",
       "            </td>\n",
       "            <td style=\"padding: 0 0.5em 0 0.5em; text-align: left; border: none;\">\n",
       "                LotArea BsmtFinType1\n",
       "            </td>\n",
       "        </tr>\n",
       "    \n",
       "        <tr style=\"background-color: hsl(120, 100.00%, 99.63%); border: none;\">\n",
       "            <td style=\"padding: 0 1em 0 0.5em; text-align: right; border: none;\">\n",
       "                0.0028\n",
       "                \n",
       "                    &plusmn; 0.0010\n",
       "                \n",
       "            </td>\n",
       "            <td style=\"padding: 0 0.5em 0 0.5em; text-align: left; border: none;\">\n",
       "                OverallCond YearRemodAdd\n",
       "            </td>\n",
       "        </tr>\n",
       "    \n",
       "        <tr style=\"background-color: hsl(120, 100.00%, 99.68%); border: none;\">\n",
       "            <td style=\"padding: 0 1em 0 0.5em; text-align: right; border: none;\">\n",
       "                0.0024\n",
       "                \n",
       "                    &plusmn; 0.0007\n",
       "                \n",
       "            </td>\n",
       "            <td style=\"padding: 0 0.5em 0 0.5em; text-align: left; border: none;\">\n",
       "                OverallCond GrLivArea\n",
       "            </td>\n",
       "        </tr>\n",
       "    \n",
       "        <tr style=\"background-color: hsl(120, 100.00%, 99.72%); border: none;\">\n",
       "            <td style=\"padding: 0 1em 0 0.5em; text-align: right; border: none;\">\n",
       "                0.0020\n",
       "                \n",
       "                    &plusmn; 0.0006\n",
       "                \n",
       "            </td>\n",
       "            <td style=\"padding: 0 0.5em 0 0.5em; text-align: left; border: none;\">\n",
       "                GrLivArea OverallQualandCond\n",
       "            </td>\n",
       "        </tr>\n",
       "    \n",
       "        <tr style=\"background-color: hsl(120, 100.00%, 99.72%); border: none;\">\n",
       "            <td style=\"padding: 0 1em 0 0.5em; text-align: right; border: none;\">\n",
       "                0.0020\n",
       "                \n",
       "                    &plusmn; 0.0018\n",
       "                \n",
       "            </td>\n",
       "            <td style=\"padding: 0 0.5em 0 0.5em; text-align: left; border: none;\">\n",
       "                OverallCond BsmtQual\n",
       "            </td>\n",
       "        </tr>\n",
       "    \n",
       "        <tr style=\"background-color: hsl(120, 100.00%, 99.75%); border: none;\">\n",
       "            <td style=\"padding: 0 1em 0 0.5em; text-align: right; border: none;\">\n",
       "                0.0017\n",
       "                \n",
       "                    &plusmn; 0.0019\n",
       "                \n",
       "            </td>\n",
       "            <td style=\"padding: 0 0.5em 0 0.5em; text-align: left; border: none;\">\n",
       "                1stFlrSF OverallQualandCond\n",
       "            </td>\n",
       "        </tr>\n",
       "    \n",
       "        <tr style=\"background-color: hsl(120, 100.00%, 99.75%); border: none;\">\n",
       "            <td style=\"padding: 0 1em 0 0.5em; text-align: right; border: none;\">\n",
       "                0.0016\n",
       "                \n",
       "                    &plusmn; 0.0001\n",
       "                \n",
       "            </td>\n",
       "            <td style=\"padding: 0 0.5em 0 0.5em; text-align: left; border: none;\">\n",
       "                OverallQual 1stFlrSF\n",
       "            </td>\n",
       "        </tr>\n",
       "    \n",
       "    \n",
       "        \n",
       "            <tr style=\"background-color: hsl(120, 100.00%, 99.75%); border: none;\">\n",
       "                <td colspan=\"2\" style=\"padding: 0 0.5em 0 0.5em; text-align: center; border: none; white-space: nowrap;\">\n",
       "                    <i>&hellip; 675 more &hellip;</i>\n",
       "                </td>\n",
       "            </tr>\n",
       "        \n",
       "    \n",
       "    </tbody>\n",
       "</table>\n",
       "    \n",
       "\n",
       "    \n",
       "\n",
       "\n",
       "    \n",
       "\n",
       "    \n",
       "\n",
       "    \n",
       "\n",
       "    \n",
       "\n",
       "    \n",
       "\n",
       "    \n",
       "\n",
       "\n",
       "\n"
      ],
      "text/plain": [
       "<IPython.core.display.HTML object>"
      ]
     },
     "metadata": {},
     "execution_count": 122
    }
   ],
   "metadata": {}
  },
  {
   "cell_type": "code",
   "execution_count": 123,
   "source": [
    "random_forest_poly_scores = cross_val_score(random_forest_poly, X_poly_eval, y_poly_eval, scoring=\"neg_root_mean_squared_error\")\r\n",
    "print(\"RMSE of Random forest with polynomial features:\", random_forest_poly_scores.mean())"
   ],
   "outputs": [
    {
     "output_type": "stream",
     "name": "stdout",
     "text": [
      "RMSE of Random forest with polynomial features: -0.12763879340427237\n"
     ]
    }
   ],
   "metadata": {}
  },
  {
   "cell_type": "code",
   "execution_count": 124,
   "source": [
    "#randomized_poly_search = RandomizedSearchCV(estimator=random_forest_poly, param_distributions=params, n_iter=100, scoring=\"neg_root_mean_squared_error\")\r\n",
    "#randomized_poly_search.fit(X_poly_eval, y_poly_eval)"
   ],
   "outputs": [],
   "metadata": {}
  },
  {
   "cell_type": "code",
   "execution_count": 125,
   "source": [
    "#best_poly_params = randomized_poly_search.best_params_"
   ],
   "outputs": [],
   "metadata": {}
  },
  {
   "cell_type": "code",
   "execution_count": 126,
   "source": [
    "best_poly_params = {\"n_estimators\": 600,\r\n",
    "               \"min_samples_split\": 5,\r\n",
    "               \"min_samples_leaf\": 1,\r\n",
    "               \"max_features\": \"sqrt\",\r\n",
    "               \"max_depth\": 40,\r\n",
    "               \"bootstrap\": False}"
   ],
   "outputs": [],
   "metadata": {}
  },
  {
   "cell_type": "code",
   "execution_count": 127,
   "source": [
    "tuned_random_forest_poly = RandomForestRegressor(n_estimators=best_poly_params[\"n_estimators\"], min_samples_split=best_poly_params[\"min_samples_split\"],\r\n",
    "                                            min_samples_leaf=best_poly_params[\"min_samples_leaf\"], max_features=best_poly_params[\"max_features\"],\r\n",
    "                                            max_depth=best_poly_params[\"max_depth\"], bootstrap=best_poly_params[\"bootstrap\"])"
   ],
   "outputs": [],
   "metadata": {}
  },
  {
   "cell_type": "code",
   "execution_count": 128,
   "source": [
    "tuned_random_forest_poly_scores = cross_val_score(tuned_random_forest_poly, X_poly_eval, y_poly_eval, scoring=\"neg_root_mean_squared_error\")\r\n",
    "print(\"RMSE of tuned Random forest with polynomial features:\", tuned_random_forest_poly_scores.mean())"
   ],
   "outputs": [
    {
     "output_type": "stream",
     "name": "stdout",
     "text": [
      "RMSE of tuned Random forest with polynomial features: -0.12370369915496666\n"
     ]
    }
   ],
   "metadata": {}
  },
  {
   "cell_type": "code",
   "execution_count": 129,
   "source": [
    "tuned_random_forest_poly_model = tuned_random_forest_poly.fit(train_poly_X, train_poly_y)\r\n",
    "\r\n",
    "tuned_random_forest_poly_perm = PermutationImportance(tuned_random_forest_poly_model, random_state=42).fit(val_poly_X, val_poly_y)\r\n",
    "tuned_random_forest_poly_weights_df = eli5.explain_weights_df(tuned_random_forest_poly_perm, feature_names=val_poly_X.columns.tolist())\r\n",
    "eli5.show_weights(tuned_random_forest_poly_perm, feature_names=val_poly_X.columns.tolist(), top=10)"
   ],
   "outputs": [
    {
     "output_type": "execute_result",
     "data": {
      "text/html": [
       "\n",
       "    <style>\n",
       "    table.eli5-weights tr:hover {\n",
       "        filter: brightness(85%);\n",
       "    }\n",
       "</style>\n",
       "\n",
       "\n",
       "\n",
       "    \n",
       "\n",
       "    \n",
       "\n",
       "    \n",
       "\n",
       "    \n",
       "\n",
       "    \n",
       "\n",
       "    \n",
       "\n",
       "\n",
       "    \n",
       "\n",
       "    \n",
       "\n",
       "    \n",
       "\n",
       "    \n",
       "\n",
       "    \n",
       "\n",
       "    \n",
       "\n",
       "\n",
       "    \n",
       "\n",
       "    \n",
       "\n",
       "    \n",
       "\n",
       "    \n",
       "\n",
       "    \n",
       "        <table class=\"eli5-weights eli5-feature-importances\" style=\"border-collapse: collapse; border: none; margin-top: 0em; table-layout: auto;\">\n",
       "    <thead>\n",
       "    <tr style=\"border: none;\">\n",
       "        <th style=\"padding: 0 1em 0 0.5em; text-align: right; border: none;\">Weight</th>\n",
       "        <th style=\"padding: 0 0.5em 0 0.5em; text-align: left; border: none;\">Feature</th>\n",
       "    </tr>\n",
       "    </thead>\n",
       "    <tbody>\n",
       "    \n",
       "        <tr style=\"background-color: hsl(120, 100.00%, 80.00%); border: none;\">\n",
       "            <td style=\"padding: 0 1em 0 0.5em; text-align: right; border: none;\">\n",
       "                0.0080\n",
       "                \n",
       "                    &plusmn; 0.0027\n",
       "                \n",
       "            </td>\n",
       "            <td style=\"padding: 0 0.5em 0 0.5em; text-align: left; border: none;\">\n",
       "                AreaQuality\n",
       "            </td>\n",
       "        </tr>\n",
       "    \n",
       "        <tr style=\"background-color: hsl(120, 100.00%, 86.47%); border: none;\">\n",
       "            <td style=\"padding: 0 1em 0 0.5em; text-align: right; border: none;\">\n",
       "                0.0046\n",
       "                \n",
       "                    &plusmn; 0.0011\n",
       "                \n",
       "            </td>\n",
       "            <td style=\"padding: 0 0.5em 0 0.5em; text-align: left; border: none;\">\n",
       "                TotalHouseArea_Sqrt\n",
       "            </td>\n",
       "        </tr>\n",
       "    \n",
       "        <tr style=\"background-color: hsl(120, 100.00%, 88.41%); border: none;\">\n",
       "            <td style=\"padding: 0 1em 0 0.5em; text-align: right; border: none;\">\n",
       "                0.0037\n",
       "                \n",
       "                    &plusmn; 0.0016\n",
       "                \n",
       "            </td>\n",
       "            <td style=\"padding: 0 0.5em 0 0.5em; text-align: left; border: none;\">\n",
       "                TotalHouseArea\n",
       "            </td>\n",
       "        </tr>\n",
       "    \n",
       "        <tr style=\"background-color: hsl(120, 100.00%, 91.51%); border: none;\">\n",
       "            <td style=\"padding: 0 1em 0 0.5em; text-align: right; border: none;\">\n",
       "                0.0024\n",
       "                \n",
       "                    &plusmn; 0.0008\n",
       "                \n",
       "            </td>\n",
       "            <td style=\"padding: 0 0.5em 0 0.5em; text-align: left; border: none;\">\n",
       "                OverallQual GrLivArea\n",
       "            </td>\n",
       "        </tr>\n",
       "    \n",
       "        <tr style=\"background-color: hsl(120, 100.00%, 91.92%); border: none;\">\n",
       "            <td style=\"padding: 0 1em 0 0.5em; text-align: right; border: none;\">\n",
       "                0.0022\n",
       "                \n",
       "                    &plusmn; 0.0013\n",
       "                \n",
       "            </td>\n",
       "            <td style=\"padding: 0 0.5em 0 0.5em; text-align: left; border: none;\">\n",
       "                1stFlrSF OverallQualandCond\n",
       "            </td>\n",
       "        </tr>\n",
       "    \n",
       "        <tr style=\"background-color: hsl(120, 100.00%, 92.00%); border: none;\">\n",
       "            <td style=\"padding: 0 1em 0 0.5em; text-align: right; border: none;\">\n",
       "                0.0022\n",
       "                \n",
       "                    &plusmn; 0.0012\n",
       "                \n",
       "            </td>\n",
       "            <td style=\"padding: 0 0.5em 0 0.5em; text-align: left; border: none;\">\n",
       "                OverallQual YearRemodAdd\n",
       "            </td>\n",
       "        </tr>\n",
       "    \n",
       "        <tr style=\"background-color: hsl(120, 100.00%, 93.89%); border: none;\">\n",
       "            <td style=\"padding: 0 1em 0 0.5em; text-align: right; border: none;\">\n",
       "                0.0015\n",
       "                \n",
       "                    &plusmn; 0.0007\n",
       "                \n",
       "            </td>\n",
       "            <td style=\"padding: 0 0.5em 0 0.5em; text-align: left; border: none;\">\n",
       "                OverallQual^2\n",
       "            </td>\n",
       "        </tr>\n",
       "    \n",
       "        <tr style=\"background-color: hsl(120, 100.00%, 94.15%); border: none;\">\n",
       "            <td style=\"padding: 0 1em 0 0.5em; text-align: right; border: none;\">\n",
       "                0.0014\n",
       "                \n",
       "                    &plusmn; 0.0014\n",
       "                \n",
       "            </td>\n",
       "            <td style=\"padding: 0 0.5em 0 0.5em; text-align: left; border: none;\">\n",
       "                OverallQual CentralAir\n",
       "            </td>\n",
       "        </tr>\n",
       "    \n",
       "        <tr style=\"background-color: hsl(120, 100.00%, 94.24%); border: none;\">\n",
       "            <td style=\"padding: 0 1em 0 0.5em; text-align: right; border: none;\">\n",
       "                0.0014\n",
       "                \n",
       "                    &plusmn; 0.0004\n",
       "                \n",
       "            </td>\n",
       "            <td style=\"padding: 0 0.5em 0 0.5em; text-align: left; border: none;\">\n",
       "                OverallCond 1stFlrSF\n",
       "            </td>\n",
       "        </tr>\n",
       "    \n",
       "        <tr style=\"background-color: hsl(120, 100.00%, 94.53%); border: none;\">\n",
       "            <td style=\"padding: 0 1em 0 0.5em; text-align: right; border: none;\">\n",
       "                0.0013\n",
       "                \n",
       "                    &plusmn; 0.0010\n",
       "                \n",
       "            </td>\n",
       "            <td style=\"padding: 0 0.5em 0 0.5em; text-align: left; border: none;\">\n",
       "                1stFlrSF GrLivArea\n",
       "            </td>\n",
       "        </tr>\n",
       "    \n",
       "    \n",
       "        \n",
       "            <tr style=\"background-color: hsl(120, 100.00%, 94.53%); border: none;\">\n",
       "                <td colspan=\"2\" style=\"padding: 0 0.5em 0 0.5em; text-align: center; border: none; white-space: nowrap;\">\n",
       "                    <i>&hellip; 675 more &hellip;</i>\n",
       "                </td>\n",
       "            </tr>\n",
       "        \n",
       "    \n",
       "    </tbody>\n",
       "</table>\n",
       "    \n",
       "\n",
       "    \n",
       "\n",
       "\n",
       "    \n",
       "\n",
       "    \n",
       "\n",
       "    \n",
       "\n",
       "    \n",
       "\n",
       "    \n",
       "\n",
       "    \n",
       "\n",
       "\n",
       "\n"
      ],
      "text/plain": [
       "<IPython.core.display.HTML object>"
      ]
     },
     "metadata": {},
     "execution_count": 129
    }
   ],
   "metadata": {}
  },
  {
   "cell_type": "code",
   "execution_count": 130,
   "source": [
    "forest_selected_poly_features = feature_selector(tuned_random_forest_poly_weights_df, 0.12405, tuned_random_forest_poly, train_poly_eval_data, \"SalePrice\")"
   ],
   "outputs": [
    {
     "output_type": "stream",
     "name": "stdout",
     "text": [
      "The score was improved by 0.00121\n",
      "The best score: 0.12284\n"
     ]
    }
   ],
   "metadata": {}
  },
  {
   "cell_type": "code",
   "execution_count": 131,
   "source": [
    "X_train_selected_poly = final_train_poly_data[forest_selected_poly_features]\r\n",
    "final_test_selected_data = final_test_poly_data[forest_selected_poly_features]\r\n",
    "\r\n",
    "tuned_random_forest_poly.fit(X_train_selected_poly, y_train)\r\n",
    "forest_poly_selected_predictions = tuned_random_forest_poly.predict(final_test_selected_data)\r\n",
    "\r\n",
    "output = pd.DataFrame({\"Id\": test_data[\"Id\"], \"SalePrice\": forest_poly_selected_predictions})\r\n",
    "output.to_csv(\"submissions/forest_poly_predictions.csv\", index=False)"
   ],
   "outputs": [],
   "metadata": {}
  },
  {
   "cell_type": "markdown",
   "source": [
    "# Final results"
   ],
   "metadata": {}
  },
  {
   "cell_type": "code",
   "execution_count": 132,
   "source": [
    "lin_reg_score = 0.10754\r\n",
    "ridge_score = 0.10881\r\n",
    "lasso_score = 0.14119\r\n",
    "forest_score = 0.12428\r\n",
    "\r\n",
    "poly_lin_reg_score = 0.24110\r\n",
    "poly_ridge_score = 0.10917\r\n",
    "poly_lasso_score = 0.12581\r\n",
    "poly_forest_score = 0.12263\r\n",
    "\r\n",
    "kaggle_lin_reg_score = 0.15495\r\n",
    "kaggle_ridge_score = 0.14502\r\n",
    "kaggle_lasso_score = 0.15627\r\n",
    "kaggle_forest_score = 0.13829\r\n",
    "\r\n",
    "kaggle_poly_lin_reg_score = 0.96906\r\n",
    "kaggle_poly_ridge_score = 0.13870\r\n",
    "kaggle_lasso_score = 0.15034\r\n",
    "kaggle_poly_forest_score = 0.13427\r\n",
    "\r\n",
    "\r\n",
    "\r\n",
    "scores_table = pd.DataFrame({\"Score\": [lin_reg_score, ridge_score, lasso_score, forest_score],\r\n",
    "                             \"Poly Score\": [poly_lin_reg_score, poly_ridge_score, poly_lasso_score, poly_forest_score],\r\n",
    "                             \"Kaggle Score\": [kaggle_lin_reg_score, kaggle_ridge_score, kaggle_lasso_score, kaggle_forest_score],\r\n",
    "                             \"Kaggle Poly Score\": [kaggle_poly_lin_reg_score, kaggle_poly_ridge_score, kaggle_lasso_score, kaggle_poly_forest_score]}).set_axis(\r\n",
    "                                 [\"Linear regression\", \"Ridge regression\", \"Lasso regression\", \"Random forest regressor\"], axis=\"index\"\r\n",
    "                             )"
   ],
   "outputs": [],
   "metadata": {}
  },
  {
   "cell_type": "code",
   "execution_count": 133,
   "source": [
    "scores_table"
   ],
   "outputs": [
    {
     "output_type": "execute_result",
     "data": {
      "text/html": [
       "<div>\n",
       "<style scoped>\n",
       "    .dataframe tbody tr th:only-of-type {\n",
       "        vertical-align: middle;\n",
       "    }\n",
       "\n",
       "    .dataframe tbody tr th {\n",
       "        vertical-align: top;\n",
       "    }\n",
       "\n",
       "    .dataframe thead th {\n",
       "        text-align: right;\n",
       "    }\n",
       "</style>\n",
       "<table border=\"1\" class=\"dataframe\">\n",
       "  <thead>\n",
       "    <tr style=\"text-align: right;\">\n",
       "      <th></th>\n",
       "      <th>Score</th>\n",
       "      <th>Poly Score</th>\n",
       "      <th>Kaggle Score</th>\n",
       "      <th>Kaggle Poly Score</th>\n",
       "    </tr>\n",
       "  </thead>\n",
       "  <tbody>\n",
       "    <tr>\n",
       "      <th>Linear regression</th>\n",
       "      <td>0.10754</td>\n",
       "      <td>0.24110</td>\n",
       "      <td>0.15495</td>\n",
       "      <td>0.96906</td>\n",
       "    </tr>\n",
       "    <tr>\n",
       "      <th>Ridge regression</th>\n",
       "      <td>0.10881</td>\n",
       "      <td>0.10917</td>\n",
       "      <td>0.14502</td>\n",
       "      <td>0.13870</td>\n",
       "    </tr>\n",
       "    <tr>\n",
       "      <th>Lasso regression</th>\n",
       "      <td>0.14119</td>\n",
       "      <td>0.12581</td>\n",
       "      <td>0.15034</td>\n",
       "      <td>0.15034</td>\n",
       "    </tr>\n",
       "    <tr>\n",
       "      <th>Random forest regressor</th>\n",
       "      <td>0.12428</td>\n",
       "      <td>0.12263</td>\n",
       "      <td>0.13829</td>\n",
       "      <td>0.13427</td>\n",
       "    </tr>\n",
       "  </tbody>\n",
       "</table>\n",
       "</div>"
      ],
      "text/plain": [
       "                           Score  Poly Score  Kaggle Score  Kaggle Poly Score\n",
       "Linear regression        0.10754     0.24110       0.15495            0.96906\n",
       "Ridge regression         0.10881     0.10917       0.14502            0.13870\n",
       "Lasso regression         0.14119     0.12581       0.15034            0.15034\n",
       "Random forest regressor  0.12428     0.12263       0.13829            0.13427"
      ]
     },
     "metadata": {},
     "execution_count": 133
    }
   ],
   "metadata": {}
  },
  {
   "cell_type": "markdown",
   "source": [
    "The best (lowest) scores were achieved with Random forest model and both with standard features and added polynomial features, respectively 0.13829 and 0.13427.\\\r\n",
    "Ridge regression is another and the last one model with which I have reached better result than 0.14 - 0.13870.\\\r\n",
    "Linear regression showed the best result in cross-validation but very poor result in Kaggle submittion."
   ],
   "metadata": {}
  },
  {
   "cell_type": "markdown",
   "source": [
    "# Fails"
   ],
   "metadata": {}
  },
  {
   "cell_type": "markdown",
   "source": [
    "### Things which didn't have any improvements to final score."
   ],
   "metadata": {}
  },
  {
   "cell_type": "markdown",
   "source": [
    "- Data shuffling - shuffling data before cross validation doesn't improve score.\r\n",
    "- train_test_split - score is slightly worse than with cross validation.\r\n",
    "- Dealing with outliers - simply removing outliers had better impact for linear regression score and slightly worse result for random forest score.\r\n",
    "- Both scaling and normalizing had very poor results for score."
   ],
   "metadata": {}
  }
 ],
 "metadata": {
  "interpreter": {
   "hash": "9c73145fe1f8ba769fdf9edcb512a81fe38bcab3cb253b8e7a65c7a64ff93c59"
  },
  "kernelspec": {
   "name": "python3",
   "display_name": "Python 3.8.10 64-bit ('base': conda)"
  },
  "language_info": {
   "codemirror_mode": {
    "name": "ipython",
    "version": 3
   },
   "file_extension": ".py",
   "mimetype": "text/x-python",
   "name": "python",
   "nbconvert_exporter": "python",
   "pygments_lexer": "ipython3",
   "version": "3.8.10"
  },
  "orig_nbformat": 4
 },
 "nbformat": 4,
 "nbformat_minor": 2
}