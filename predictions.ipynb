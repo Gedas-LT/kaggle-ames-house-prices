{
 "cells": [
  {
   "cell_type": "markdown",
   "source": [
    "# Description\r\n",
    "\r\n",
    "Ask a home buyer to describe their dream house, and they probably won't begin with the height of the basement ceiling or the proximity to an east-west railroad. But this dataset proves that much more influences price negotiations than the number of bedrooms or a white-picket fence.\r\n",
    "\r\n",
    "With 79 explanatory variables describing (almost) every aspect of residential homes in Ames, Iowa, this dataset from Kaggle competition challenges you to predict the final price of each home."
   ],
   "metadata": {}
  },
  {
   "cell_type": "markdown",
   "source": [
    "# Requirements\r\n",
    "\r\n",
    "- Train, validate (using a dedicated validation set) and submit a linear regression model.\r\n",
    "- Train, validate (using a dedicated validation set) and submit a random forest regressor model.\r\n",
    "- Achieve a score better than 0.14 on the public leaderboard."
   ],
   "metadata": {}
  },
  {
   "cell_type": "markdown",
   "source": [
    "# Evaluation criteria\r\n",
    "\r\n",
    "- Public leaderboard score\r\n",
    "- How simple is the model\r\n",
    "- Code quality"
   ],
   "metadata": {}
  },
  {
   "cell_type": "markdown",
   "source": [
    "# Data cleaning"
   ],
   "metadata": {}
  },
  {
   "cell_type": "code",
   "execution_count": 31,
   "source": [
    "import missingno as msno\r\n",
    "import numpy as np\r\n",
    "import pandas as pd\r\n",
    "pd.set_option(\"display.max_columns\", None)\r\n",
    "pd.set_option(\"display.max_rows\", 20)\r\n",
    "import seaborn as sns\r\n",
    "sns.set_theme()\r\n",
    "from sklearn.linear_model import LinearRegression\r\n",
    "from sklearn.model_selection import cross_val_score"
   ],
   "outputs": [],
   "metadata": {}
  },
  {
   "cell_type": "code",
   "execution_count": 2,
   "source": [
    "data = pd.read_csv(\"data/train.csv\")"
   ],
   "outputs": [],
   "metadata": {}
  },
  {
   "cell_type": "code",
   "execution_count": null,
   "source": [
    "msno.bar(data, labels=True, fontsize=12);"
   ],
   "outputs": [],
   "metadata": {}
  },
  {
   "cell_type": "markdown",
   "source": [
    "In the very beginning I have decided entirely drop Alley, PoolQC, Fence and MiscFeature features because majority of values are missing."
   ],
   "metadata": {}
  },
  {
   "cell_type": "code",
   "execution_count": 4,
   "source": [
    "features_to_drop = [\"Alley\", \"PoolQC\", \"Fence\", \"MiscFeature\"]\r\n",
    "cleaned_data = data.drop(columns=features_to_drop)"
   ],
   "outputs": [],
   "metadata": {}
  },
  {
   "cell_type": "markdown",
   "source": [
    "Assuming that majority of lot areas in one neighborhood are more or less similar, I have filled missing values in LotFrontage column by most frequent value of particular neighborhood. "
   ],
   "metadata": {}
  },
  {
   "cell_type": "code",
   "execution_count": 5,
   "source": [
    "cleaned_data[\"LotFrontage\"] = cleaned_data[\"LotFrontage\"].fillna(cleaned_data.groupby(\"Neighborhood\")[\"LotFrontage\"].transform(lambda x: x.value_counts().index[0]))"
   ],
   "outputs": [],
   "metadata": {}
  },
  {
   "cell_type": "code",
   "execution_count": 6,
   "source": [
    "print(\"Most frequent value in MasVnrType column:\", cleaned_data[\"MasVnrType\"].mode()[0])\r\n",
    "print(\"Most frequent value in MasVnrAre column:\", cleaned_data[\"MasVnrArea\"].mode()[0])"
   ],
   "outputs": [
    {
     "output_type": "stream",
     "name": "stdout",
     "text": [
      "Most frequent value in MasVnrType column: None\n",
      "Most frequent value in MasVnrAre column: 0.0\n"
     ]
    }
   ],
   "metadata": {}
  },
  {
   "cell_type": "code",
   "execution_count": 7,
   "source": [
    "print(\"Number of most frequent value in MasVnrType column:\", cleaned_data[cleaned_data[\"MasVnrType\"] == \"None\"].shape[0])\r\n",
    "print(\"Number of most frequent value in MasVnrAre column:\", cleaned_data[cleaned_data[\"MasVnrArea\"] == 0.0].shape[0])"
   ],
   "outputs": [
    {
     "output_type": "stream",
     "name": "stdout",
     "text": [
      "Number of most frequent value in MasVnrType column: 864\n",
      "Number of most frequent value in MasVnrAre column: 861\n"
     ]
    }
   ],
   "metadata": {}
  },
  {
   "cell_type": "markdown",
   "source": [
    "More than a half of values in both MasVnrType and MasVnrAre columns are None or 0.0 respectively. Also I made a technical assumption that masonry type depends on RoofStyle, RoofMatl and Exterior1st or vice versa. So the most frequent values of latter features, which also are values of coresponding rows with missing values in MasVnrType and MasVnrAre columns, are None and 0.0."
   ],
   "metadata": {}
  },
  {
   "cell_type": "code",
   "execution_count": 8,
   "source": [
    "cleaned_data[\"MasVnrType\"] = cleaned_data[\"MasVnrType\"].fillna(\"None\")\r\n",
    "cleaned_data[\"MasVnrArea\"] = cleaned_data[\"MasVnrArea\"].fillna(0.0)"
   ],
   "outputs": [],
   "metadata": {}
  },
  {
   "cell_type": "markdown",
   "source": [
    "About 40 values are missing which are related to the features of basement and according to data description file this means that the house has no basement, so I have changed these NA values to None."
   ],
   "metadata": {}
  },
  {
   "cell_type": "code",
   "execution_count": 9,
   "source": [
    "basement_features = [\"BsmtQual\", \"BsmtCond\", \"BsmtExposure\", \"BsmtFinType1\", \"BsmtFinType2\"]\r\n",
    "\r\n",
    "for feature in basement_features:\r\n",
    "    cleaned_data[feature] = cleaned_data[feature].fillna(\"None\")"
   ],
   "outputs": [],
   "metadata": {}
  },
  {
   "cell_type": "markdown",
   "source": [
    "NA value in the FireplaceQu column means that house has no fireplace so I have changed these NA values to None."
   ],
   "metadata": {}
  },
  {
   "cell_type": "code",
   "execution_count": 10,
   "source": [
    "cleaned_data[\"FireplaceQu\"] = cleaned_data[\"FireplaceQu\"].fillna(\"None\")"
   ],
   "outputs": [],
   "metadata": {}
  },
  {
   "cell_type": "markdown",
   "source": [
    "NA values in features which are related to garage also corresponds that house has no garage, so I have changed these NA values to None."
   ],
   "metadata": {}
  },
  {
   "cell_type": "code",
   "execution_count": 11,
   "source": [
    "garage_features = [\"GarageType\", \"GarageYrBlt\", \"GarageFinish\", \"GarageQual\", \"GarageCond\"]\r\n",
    "\r\n",
    "for feature in garage_features:\r\n",
    "    cleaned_data[feature] = cleaned_data[feature].fillna(\"None\")"
   ],
   "outputs": [],
   "metadata": {}
  },
  {
   "cell_type": "code",
   "execution_count": null,
   "source": [
    "msno.bar(cleaned_data, labels=True, fontsize=12);"
   ],
   "outputs": [],
   "metadata": {}
  },
  {
   "cell_type": "markdown",
   "source": [
    "# Feature engineering"
   ],
   "metadata": {}
  },
  {
   "cell_type": "markdown",
   "source": [
    "## Feature encoding"
   ],
   "metadata": {}
  },
  {
   "cell_type": "markdown",
   "source": [
    "### Mapping"
   ],
   "metadata": {}
  },
  {
   "cell_type": "markdown",
   "source": [
    "Some categorical features have clear order, therefore I have decided to map that values with numbers in sequence. "
   ],
   "metadata": {}
  },
  {
   "cell_type": "code",
   "execution_count": 13,
   "source": [
    "cleaned_encoded_data = cleaned_data.copy()"
   ],
   "outputs": [],
   "metadata": {}
  },
  {
   "cell_type": "code",
   "execution_count": 14,
   "source": [
    "quality_mapping = {\"None\": 0, \"Po\": 1, \"Fa\": 2, \"TA\": 3, \"Gd\": 4, \"Ex\": 5}\r\n",
    "quality_features = [\"ExterQual\", \"ExterCond\", \"BsmtQual\", \"BsmtCond\", \"KitchenQual\", \"FireplaceQu\", \"GarageQual\", \"GarageCond\", \"HeatingQC\"]\r\n",
    "\r\n",
    "for feature in quality_features:\r\n",
    "    cleaned_encoded_data[feature] = cleaned_encoded_data[feature].map(quality_mapping)"
   ],
   "outputs": [],
   "metadata": {}
  },
  {
   "cell_type": "code",
   "execution_count": 15,
   "source": [
    "basement_rating_mapping = {\"None\": 0, \"Unf\": 1, \"LwQ\": 2, \"Rec\": 3, \"BLQ\": 4, \"ALQ\": 5, \"GLQ\": 6}\r\n",
    "basement_rating_features = [\"BsmtFinType1\", \"BsmtFinType2\"]\r\n",
    "\r\n",
    "for feature in basement_rating_features:\r\n",
    "    cleaned_encoded_data[feature] = cleaned_encoded_data[feature].map(basement_rating_mapping)"
   ],
   "outputs": [],
   "metadata": {}
  },
  {
   "cell_type": "code",
   "execution_count": 16,
   "source": [
    "utilities_mapping = {\"ELO\": 1, \"NoSeWa\": 2, \"NoSewr\": 3, \"AllPub\": 4}\r\n",
    "cleaned_encoded_data[\"Utilities\"] = cleaned_encoded_data[\"Utilities\"].map(utilities_mapping)"
   ],
   "outputs": [],
   "metadata": {}
  },
  {
   "cell_type": "code",
   "execution_count": 17,
   "source": [
    "central_air_mapping = {\"N\": 0, \"Y\": 1}\r\n",
    "cleaned_encoded_data[\"CentralAir\"] = cleaned_encoded_data[\"CentralAir\"].map(central_air_mapping)"
   ],
   "outputs": [],
   "metadata": {}
  },
  {
   "cell_type": "code",
   "execution_count": 18,
   "source": [
    "garage_finish_mapping = {\"None\": 0, \"Unf\": 1, \"RFn\": 2, \"Fin\": 3}\r\n",
    "cleaned_encoded_data[\"GarageFinish\"] = cleaned_encoded_data[\"GarageFinish\"].map(garage_finish_mapping)"
   ],
   "outputs": [],
   "metadata": {}
  },
  {
   "cell_type": "code",
   "execution_count": 19,
   "source": [
    "cleaned_encoded_data[\"GarageYrBlt\"] = cleaned_encoded_data[\"GarageYrBlt\"].replace(\"None\", 0)"
   ],
   "outputs": [],
   "metadata": {}
  },
  {
   "cell_type": "code",
   "execution_count": 20,
   "source": [
    "cleaned_encoded_data[\"GarageAge\"] = cleaned_encoded_data[\"YrSold\"] - cleaned_encoded_data[\"GarageYrBlt\"].astype(\"int64\")"
   ],
   "outputs": [],
   "metadata": {}
  },
  {
   "cell_type": "markdown",
   "source": [
    "### One-hot encoding"
   ],
   "metadata": {}
  },
  {
   "cell_type": "code",
   "execution_count": 21,
   "source": [
    "categorical_features = []\r\n",
    "\r\n",
    "for column in cleaned_encoded_data:\r\n",
    "    if cleaned_encoded_data[column].dtypes == \"object\":\r\n",
    "        categorical_features.append(column)"
   ],
   "outputs": [],
   "metadata": {}
  },
  {
   "cell_type": "code",
   "execution_count": 22,
   "source": [
    "cleaned_oh_encoded_data = pd.get_dummies(cleaned_encoded_data, columns=categorical_features)"
   ],
   "outputs": [],
   "metadata": {}
  },
  {
   "cell_type": "markdown",
   "source": [
    "# Modelling"
   ],
   "metadata": {}
  },
  {
   "cell_type": "markdown",
   "source": [
    "Kaggle submissions are evaluated on Root-Mean-Squared-Error (RMSE) between the logarithm of the predicted value and the logarithm of the observed sales price, so I have to convert latter column to logarithmic scale."
   ],
   "metadata": {}
  },
  {
   "cell_type": "code",
   "execution_count": 27,
   "source": [
    "cleaned_oh_encoded_data[\"SalePrice\"] = np.log(cleaned_oh_encoded_data[\"SalePrice\"])"
   ],
   "outputs": [],
   "metadata": {}
  },
  {
   "cell_type": "code",
   "execution_count": 87,
   "source": [
    "target = \"SalePrice\"\r\n",
    "features = [column for column in cleaned_oh_encoded_data if column != target]\r\n",
    "\r\n",
    "X = cleaned_oh_encoded_data[features]\r\n",
    "y = cleaned_oh_encoded_data[target] \r\n"
   ],
   "outputs": [],
   "metadata": {}
  },
  {
   "cell_type": "markdown",
   "source": [
    "## Linear regression"
   ],
   "metadata": {}
  },
  {
   "cell_type": "code",
   "execution_count": 88,
   "source": [
    "linear_regression = LinearRegression()\r\n",
    "\r\n",
    "print(cross_val_score(linear_regression, X, y, scoring=\"neg_root_mean_squared_error\"))"
   ],
   "outputs": [
    {
     "output_type": "stream",
     "name": "stdout",
     "text": [
      "[-0.13109666 -0.16142097 -0.15985222 -0.11416716 -0.19385365]\n"
     ]
    }
   ],
   "metadata": {}
  }
 ],
 "metadata": {
  "interpreter": {
   "hash": "9c73145fe1f8ba769fdf9edcb512a81fe38bcab3cb253b8e7a65c7a64ff93c59"
  },
  "kernelspec": {
   "name": "python3",
   "display_name": "Python 3.8.10 64-bit ('base': conda)"
  },
  "language_info": {
   "codemirror_mode": {
    "name": "ipython",
    "version": 3
   },
   "file_extension": ".py",
   "mimetype": "text/x-python",
   "name": "python",
   "nbconvert_exporter": "python",
   "pygments_lexer": "ipython3",
   "version": "3.8.10"
  },
  "orig_nbformat": 4
 },
 "nbformat": 4,
 "nbformat_minor": 2
}