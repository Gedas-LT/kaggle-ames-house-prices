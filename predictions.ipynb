{
 "cells": [
  {
   "cell_type": "markdown",
   "source": [
    "# Description\r\n",
    "\r\n",
    "Ask a home buyer to describe their dream house, and they probably won't begin with the height of the basement ceiling or the proximity to an east-west railroad. But this dataset proves that much more influences price negotiations than the number of bedrooms or a white-picket fence.\r\n",
    "\r\n",
    "With 79 explanatory variables describing (almost) every aspect of residential homes in Ames, Iowa, this dataset from Kaggle competition challenges you to predict the final price of each home."
   ],
   "metadata": {}
  },
  {
   "cell_type": "markdown",
   "source": [
    "# Requirements\r\n",
    "\r\n",
    "- Train, validate (using a dedicated validation set) and submit a linear regression model.\r\n",
    "- Train, validate (using a dedicated validation set) and submit a random forest regressor model.\r\n",
    "- Achieve a score better than 0.14 on the public leaderboard."
   ],
   "metadata": {}
  },
  {
   "cell_type": "markdown",
   "source": [
    "# Evaluation criteria\r\n",
    "\r\n",
    "- Public leaderboard score\r\n",
    "- How simple is the model\r\n",
    "- Code quality"
   ],
   "metadata": {}
  },
  {
   "cell_type": "markdown",
   "source": [
    "# Data cleaning"
   ],
   "metadata": {}
  },
  {
   "cell_type": "code",
   "execution_count": 88,
   "source": [
    "import missingno as msno\r\n",
    "import numpy as np\r\n",
    "import pandas as pd\r\n",
    "pd.set_option(\"display.max_columns\", None)\r\n",
    "pd.set_option(\"display.max_rows\", 20)\r\n",
    "import seaborn as sns\r\n",
    "sns.set_theme()\r\n",
    "from sklearn.ensemble import RandomForestRegressor\r\n",
    "from sklearn.linear_model import LinearRegression\r\n",
    "from sklearn.metrics import mean_squared_error\r\n",
    "from sklearn.model_selection import cross_val_score, train_test_split"
   ],
   "outputs": [],
   "metadata": {}
  },
  {
   "cell_type": "code",
   "execution_count": 4,
   "source": [
    "train_data = pd.read_csv(\"data/train.csv\")\r\n",
    "test_data = pd.read_csv(\"data/test.csv\")"
   ],
   "outputs": [],
   "metadata": {}
  },
  {
   "cell_type": "code",
   "execution_count": null,
   "source": [
    "msno.bar(train_data, labels=True, fontsize=12);"
   ],
   "outputs": [],
   "metadata": {}
  },
  {
   "cell_type": "code",
   "execution_count": null,
   "source": [
    "msno.bar(test_data, labels=True, fontsize=12);"
   ],
   "outputs": [],
   "metadata": {}
  },
  {
   "cell_type": "markdown",
   "source": [
    "In the very beginning I have decided entirely drop Alley, PoolQC, Fence and MiscFeature features because majority of values are missing."
   ],
   "metadata": {}
  },
  {
   "cell_type": "code",
   "execution_count": 7,
   "source": [
    "features_to_drop = [\"Id\", \"Alley\", \"PoolQC\", \"Fence\", \"MiscFeature\"]\r\n",
    "cleaned_train_data = train_data.drop(columns=features_to_drop)\r\n",
    "cleaned_test_data = test_data.drop(columns=features_to_drop)"
   ],
   "outputs": [],
   "metadata": {}
  },
  {
   "cell_type": "markdown",
   "source": [
    "Assuming that majority of lot areas in one neighborhood are more or less similar, I have filled missing values in LotFrontage column by most frequent value of particular neighborhood. "
   ],
   "metadata": {}
  },
  {
   "cell_type": "code",
   "execution_count": 8,
   "source": [
    "fill_mode = lambda x: x.value_counts().index[0]\r\n",
    "\r\n",
    "cleaned_train_data[\"LotFrontage\"] = cleaned_train_data[\"LotFrontage\"].fillna(cleaned_train_data.groupby(\"Neighborhood\")[\"LotFrontage\"].transform(fill_mode))\r\n",
    "cleaned_test_data[\"LotFrontage\"] = cleaned_test_data[\"LotFrontage\"].fillna(cleaned_test_data.groupby(\"Neighborhood\")[\"LotFrontage\"].transform(fill_mode))"
   ],
   "outputs": [],
   "metadata": {}
  },
  {
   "cell_type": "code",
   "execution_count": 9,
   "source": [
    "print(\"Most frequent value in MasVnrType column:\", cleaned_train_data[\"MasVnrType\"].mode()[0])\r\n",
    "print(\"Most frequent value in MasVnrAre column:\", cleaned_train_data[\"MasVnrArea\"].mode()[0])"
   ],
   "outputs": [
    {
     "output_type": "stream",
     "name": "stdout",
     "text": [
      "Most frequent value in MasVnrType column: None\n",
      "Most frequent value in MasVnrAre column: 0.0\n"
     ]
    }
   ],
   "metadata": {}
  },
  {
   "cell_type": "code",
   "execution_count": 10,
   "source": [
    "print(\"Number of most frequent value in MasVnrType column:\", cleaned_train_data[cleaned_train_data[\"MasVnrType\"] == \"None\"].shape[0])\r\n",
    "print(\"Number of most frequent value in MasVnrAre column:\", cleaned_train_data[cleaned_train_data[\"MasVnrArea\"] == 0.0].shape[0])"
   ],
   "outputs": [
    {
     "output_type": "stream",
     "name": "stdout",
     "text": [
      "Number of most frequent value in MasVnrType column: 864\n",
      "Number of most frequent value in MasVnrAre column: 861\n"
     ]
    }
   ],
   "metadata": {}
  },
  {
   "cell_type": "markdown",
   "source": [
    "More than a half of values in both MasVnrType and MasVnrAre columns are None or 0.0 respectively. Also I made a technical assumption that masonry type depends on RoofStyle, RoofMatl and Exterior1st or vice versa. So the most frequent values of latter features, which also are values of coresponding rows with missing values in MasVnrType and MasVnrAre columns, are None and 0.0."
   ],
   "metadata": {}
  },
  {
   "cell_type": "code",
   "execution_count": 11,
   "source": [
    "cleaned_train_data[\"MasVnrType\"] = cleaned_train_data[\"MasVnrType\"].fillna(\"None\")\r\n",
    "cleaned_train_data[\"MasVnrArea\"] = cleaned_train_data[\"MasVnrArea\"].fillna(0.0)\r\n",
    "\r\n",
    "cleaned_test_data[\"MasVnrType\"] = cleaned_test_data[\"MasVnrType\"].fillna(\"None\")\r\n",
    "cleaned_test_data[\"MasVnrArea\"] = cleaned_test_data[\"MasVnrArea\"].fillna(0.0)"
   ],
   "outputs": [],
   "metadata": {}
  },
  {
   "cell_type": "markdown",
   "source": [
    "About 40 values are missing which are related to the features of basement and according to data description file this means that the house has no basement, so I have changed these NA values to None."
   ],
   "metadata": {}
  },
  {
   "cell_type": "code",
   "execution_count": 12,
   "source": [
    "basement_features = [\"BsmtQual\", \"BsmtCond\", \"BsmtExposure\", \"BsmtFinType1\", \"BsmtFinType2\"]\r\n",
    "\r\n",
    "for feature in basement_features:\r\n",
    "    cleaned_train_data[feature] = cleaned_train_data[feature].fillna(\"None\")\r\n",
    "    cleaned_test_data[feature] = cleaned_test_data[feature].fillna(\"None\")"
   ],
   "outputs": [],
   "metadata": {}
  },
  {
   "cell_type": "markdown",
   "source": [
    "NA value in the FireplaceQu column means that house has no fireplace so I have changed these NA values to None."
   ],
   "metadata": {}
  },
  {
   "cell_type": "code",
   "execution_count": 13,
   "source": [
    "cleaned_train_data[\"FireplaceQu\"] = cleaned_train_data[\"FireplaceQu\"].fillna(\"None\")\r\n",
    "cleaned_test_data[\"FireplaceQu\"] = cleaned_test_data[\"FireplaceQu\"].fillna(\"None\")"
   ],
   "outputs": [],
   "metadata": {}
  },
  {
   "cell_type": "markdown",
   "source": [
    "NA values in features which are related to garage also corresponds that house has no garage, so I have changed these NA values to None."
   ],
   "metadata": {}
  },
  {
   "cell_type": "code",
   "execution_count": 14,
   "source": [
    "garage_features = [\"GarageType\", \"GarageYrBlt\", \"GarageFinish\", \"GarageQual\", \"GarageCond\"]\r\n",
    "\r\n",
    "for feature in garage_features:\r\n",
    "    cleaned_train_data[feature] = cleaned_train_data[feature].fillna(\"None\")\r\n",
    "    cleaned_test_data[feature] = cleaned_test_data[feature].fillna(\"None\")"
   ],
   "outputs": [],
   "metadata": {}
  },
  {
   "cell_type": "code",
   "execution_count": null,
   "source": [
    "msno.bar(cleaned_train_data, labels=True, fontsize=12);"
   ],
   "outputs": [],
   "metadata": {}
  },
  {
   "cell_type": "markdown",
   "source": [
    "## Missing values of test set "
   ],
   "metadata": {}
  },
  {
   "cell_type": "code",
   "execution_count": null,
   "source": [
    "msno.bar(cleaned_test_data, labels=True, fontsize=12);"
   ],
   "outputs": [],
   "metadata": {}
  },
  {
   "cell_type": "markdown",
   "source": [
    "Some columns in test set are missing just one or two values, so I have simply filled these missing values with most frequent values in those columns."
   ],
   "metadata": {}
  },
  {
   "cell_type": "code",
   "execution_count": 17,
   "source": [
    "missing_test_features = [column for column in cleaned_test_data if cleaned_test_data[column].isna().any() == True]"
   ],
   "outputs": [],
   "metadata": {}
  },
  {
   "cell_type": "code",
   "execution_count": 18,
   "source": [
    "for feature in missing_test_features:\r\n",
    "    cleaned_test_data[feature] = cleaned_test_data[feature].fillna(cleaned_test_data[feature].value_counts().index[0])"
   ],
   "outputs": [],
   "metadata": {}
  },
  {
   "cell_type": "code",
   "execution_count": null,
   "source": [
    "msno.bar(cleaned_test_data, labels=True, fontsize=12);"
   ],
   "outputs": [],
   "metadata": {}
  },
  {
   "cell_type": "markdown",
   "source": [
    "# Feature engineering"
   ],
   "metadata": {}
  },
  {
   "cell_type": "markdown",
   "source": [
    "## Feature encoding"
   ],
   "metadata": {}
  },
  {
   "cell_type": "markdown",
   "source": [
    "### Mapping"
   ],
   "metadata": {}
  },
  {
   "cell_type": "markdown",
   "source": [
    "Some categorical features have clear order, therefore I have decided to map that values with numbers in sequence. "
   ],
   "metadata": {}
  },
  {
   "cell_type": "code",
   "execution_count": 20,
   "source": [
    "train_encoded_data = cleaned_train_data.copy()\r\n",
    "test_encoded_data = cleaned_test_data.copy()"
   ],
   "outputs": [],
   "metadata": {}
  },
  {
   "cell_type": "code",
   "execution_count": 21,
   "source": [
    "quality_mapping = {\"None\": 0, \"Po\": 1, \"Fa\": 2, \"TA\": 3, \"Gd\": 4, \"Ex\": 5}\r\n",
    "quality_features = [\"ExterQual\", \"ExterCond\", \"BsmtQual\", \"BsmtCond\", \"KitchenQual\", \"FireplaceQu\", \"GarageQual\", \"GarageCond\", \"HeatingQC\"]\r\n",
    "\r\n",
    "for feature in quality_features:\r\n",
    "    train_encoded_data[feature] = train_encoded_data[feature].map(quality_mapping)\r\n",
    "    test_encoded_data[feature] = test_encoded_data[feature].map(quality_mapping)"
   ],
   "outputs": [],
   "metadata": {}
  },
  {
   "cell_type": "code",
   "execution_count": 22,
   "source": [
    "basement_rating_mapping = {\"None\": 0, \"Unf\": 1, \"LwQ\": 2, \"Rec\": 3, \"BLQ\": 4, \"ALQ\": 5, \"GLQ\": 6}\r\n",
    "basement_rating_features = [\"BsmtFinType1\", \"BsmtFinType2\"]\r\n",
    "\r\n",
    "for feature in basement_rating_features:\r\n",
    "    train_encoded_data[feature] = train_encoded_data[feature].map(basement_rating_mapping)\r\n",
    "    test_encoded_data[feature] = test_encoded_data[feature].map(basement_rating_mapping)"
   ],
   "outputs": [],
   "metadata": {}
  },
  {
   "cell_type": "code",
   "execution_count": 23,
   "source": [
    "utilities_mapping = {\"ELO\": 1, \"NoSeWa\": 2, \"NoSewr\": 3, \"AllPub\": 4}\r\n",
    "train_encoded_data[\"Utilities\"] = train_encoded_data[\"Utilities\"].map(utilities_mapping)\r\n",
    "test_encoded_data[\"Utilities\"] = test_encoded_data[\"Utilities\"].map(utilities_mapping)"
   ],
   "outputs": [],
   "metadata": {}
  },
  {
   "cell_type": "code",
   "execution_count": 24,
   "source": [
    "central_air_mapping = {\"N\": 0, \"Y\": 1}\r\n",
    "train_encoded_data[\"CentralAir\"] = train_encoded_data[\"CentralAir\"].map(central_air_mapping)\r\n",
    "test_encoded_data[\"CentralAir\"] = test_encoded_data[\"CentralAir\"].map(central_air_mapping)"
   ],
   "outputs": [],
   "metadata": {}
  },
  {
   "cell_type": "code",
   "execution_count": 25,
   "source": [
    "garage_finish_mapping = {\"None\": 0, \"Unf\": 1, \"RFn\": 2, \"Fin\": 3}\r\n",
    "train_encoded_data[\"GarageFinish\"] = train_encoded_data[\"GarageFinish\"].map(garage_finish_mapping)\r\n",
    "test_encoded_data[\"GarageFinish\"] = test_encoded_data[\"GarageFinish\"].map(garage_finish_mapping)"
   ],
   "outputs": [],
   "metadata": {}
  },
  {
   "cell_type": "code",
   "execution_count": 26,
   "source": [
    "train_encoded_data[\"GarageYrBlt\"] = train_encoded_data[\"GarageYrBlt\"].replace(\"None\", 0)\r\n",
    "test_encoded_data[\"GarageYrBlt\"] = test_encoded_data[\"GarageYrBlt\"].replace(\"None\", 0)"
   ],
   "outputs": [],
   "metadata": {}
  },
  {
   "cell_type": "code",
   "execution_count": 27,
   "source": [
    "train_encoded_data[\"GarageAge\"] = train_encoded_data[\"YrSold\"] - train_encoded_data[\"GarageYrBlt\"].astype(\"int64\")\r\n",
    "test_encoded_data[\"GarageAge\"] = test_encoded_data[\"YrSold\"] - test_encoded_data[\"GarageYrBlt\"].astype(\"int64\")"
   ],
   "outputs": [],
   "metadata": {}
  },
  {
   "cell_type": "markdown",
   "source": [
    "### One-hot encoding"
   ],
   "metadata": {}
  },
  {
   "cell_type": "code",
   "execution_count": 42,
   "source": [
    "categorical_train_features = [column for column in train_encoded_data if train_encoded_data[column].dtypes == \"object\"]\r\n",
    "categorical_test_features = [column for column in test_encoded_data if test_encoded_data[column].dtypes == \"object\"]\r\n",
    "\r\n",
    "train_oh_encoded_data = pd.get_dummies(train_encoded_data, columns=categorical_train_features)\r\n",
    "test_oh_encoded_data = pd.get_dummies(test_encoded_data, columns=categorical_test_features)"
   ],
   "outputs": [],
   "metadata": {}
  },
  {
   "cell_type": "code",
   "execution_count": 43,
   "source": [
    "print(\"Train set columns:\", train_oh_encoded_data.shape[1])\r\n",
    "print(\"Test set columns:\", test_oh_encoded_data.shape[1])"
   ],
   "outputs": [
    {
     "output_type": "stream",
     "name": "stdout",
     "text": [
      "Train set columns: 233\n",
      "Test set columns: 218\n"
     ]
    }
   ],
   "metadata": {}
  },
  {
   "cell_type": "markdown",
   "source": [
    "# Modelling"
   ],
   "metadata": {}
  },
  {
   "cell_type": "markdown",
   "source": [
    "Kaggle submissions are evaluated on Root-Mean-Squared-Error (RMSE) between the logarithm of the predicted value and the logarithm of the observed sales price, so the corresponding column of train set used to evaluation shuold be in the logarithmic scale too."
   ],
   "metadata": {}
  },
  {
   "cell_type": "code",
   "execution_count": 44,
   "source": [
    "train_evaluation_data = train_oh_encoded_data.copy()\r\n",
    "train_evaluation_data[\"SalePrice\"] = np.log(train_evaluation_data[\"SalePrice\"])"
   ],
   "outputs": [],
   "metadata": {}
  },
  {
   "cell_type": "markdown",
   "source": [
    "Test set has fewer columns after one-hot encoding due to unequal number of unique values in categorical features. To tackle this problem I have used pandas align function.  "
   ],
   "metadata": {}
  },
  {
   "cell_type": "code",
   "execution_count": 67,
   "source": [
    "final_train_data, final_test_data = train_oh_encoded_data.align(test_oh_encoded_data, join='inner', axis=1)\r\n",
    "\r\n",
    "print(\"Final train set columns:\", final_train_data.shape[1])\r\n",
    "print(\"Final test set columns:\", final_test_data.shape[1])"
   ],
   "outputs": [
    {
     "output_type": "stream",
     "name": "stdout",
     "text": [
      "Final train set columns: 218\n",
      "Final test set columns: 218\n"
     ]
    }
   ],
   "metadata": {}
  },
  {
   "cell_type": "code",
   "execution_count": 68,
   "source": [
    "target = \"SalePrice\"\r\n",
    "features = [column for column in final_train_data]\r\n",
    "\r\n",
    "X = final_train_data[features]\r\n",
    "y = train_oh_encoded_data[target]\r\n",
    "y_eval = train_evaluation_data[target]"
   ],
   "outputs": [],
   "metadata": {}
  },
  {
   "cell_type": "code",
   "execution_count": 69,
   "source": [
    "X_train, X_test, y_train, y_test = train_test_split(X, y, test_size=0.2, random_state=42)"
   ],
   "outputs": [],
   "metadata": {}
  },
  {
   "cell_type": "markdown",
   "source": [
    "## Linear regression"
   ],
   "metadata": {}
  },
  {
   "cell_type": "code",
   "execution_count": 52,
   "source": [
    "linear_regression = LinearRegression()"
   ],
   "outputs": [],
   "metadata": {}
  },
  {
   "cell_type": "markdown",
   "source": [
    "### Linear regression with cross validation"
   ],
   "metadata": {}
  },
  {
   "cell_type": "code",
   "execution_count": 56,
   "source": [
    "# Evaluation\r\n",
    "linear_scores = cross_val_score(linear_regression, X, y_eval, scoring=\"neg_root_mean_squared_error\")\r\n",
    "print(\"Linear regression RMSE:\", linear_scores.mean())"
   ],
   "outputs": [
    {
     "output_type": "stream",
     "name": "stdout",
     "text": [
      "Linear regression RMSE: -0.16282682439940727\n"
     ]
    }
   ],
   "metadata": {}
  },
  {
   "cell_type": "code",
   "execution_count": 57,
   "source": [
    "linear_regression.fit(X, y)\r\n",
    "linear_predictions = linear_regression.predict(final_test_data)\r\n",
    "\r\n",
    "output = pd.DataFrame({\"Id\": test_data[\"Id\"], \"SalePrice\": linear_predictions})\r\n",
    "output.to_csv(\"submissions/baseline_linear_predictions.csv\", index=False)"
   ],
   "outputs": [],
   "metadata": {}
  },
  {
   "cell_type": "markdown",
   "source": [
    "## Random forest regressor"
   ],
   "metadata": {}
  },
  {
   "cell_type": "code",
   "execution_count": 58,
   "source": [
    "random_forest = RandomForestRegressor()"
   ],
   "outputs": [],
   "metadata": {}
  },
  {
   "cell_type": "markdown",
   "source": [
    "### Random forest with cross validation"
   ],
   "metadata": {}
  },
  {
   "cell_type": "code",
   "execution_count": 59,
   "source": [
    "# Evaluation\r\n",
    "random_forest_scores = cross_val_score(random_forest, X, y_eval, scoring=\"neg_root_mean_squared_error\")\r\n",
    "print(\"Random forest regressor RMSE:\", random_forest_scores.mean())"
   ],
   "outputs": [
    {
     "output_type": "stream",
     "name": "stdout",
     "text": [
      "Random forest regressor RMSE: -0.14265062290123232\n"
     ]
    }
   ],
   "metadata": {}
  },
  {
   "cell_type": "code",
   "execution_count": 61,
   "source": [
    "random_forest.fit(X, y)\r\n",
    "random_forest_predictions = random_forest.predict(final_test_data)\r\n",
    "\r\n",
    "output = pd.DataFrame({\"Id\": test_data[\"Id\"], \"SalePrice\": random_forest_predictions})\r\n",
    "output.to_csv(\"submissions/baseline_forest_predictions.csv\", index=False)"
   ],
   "outputs": [],
   "metadata": {}
  },
  {
   "cell_type": "markdown",
   "source": [
    "# Notes"
   ],
   "metadata": {}
  },
  {
   "cell_type": "markdown",
   "source": [
    "Baseline linear regression model score in notebook: 0.16283\r\n",
    "Baseline linear regression model score in Kaggle: 0.34524\r\n",
    "\r\n",
    "Baseline random forest regressor model score in notebook: 0.14265\r\n",
    "Baseline random forest regressor model score in Kaggle: 0.14420\r\n",
    "\r\n",
    "Why it is such a big difference of baseline linear regressions model score?"
   ],
   "metadata": {}
  },
  {
   "cell_type": "markdown",
   "source": [
    "# Fails"
   ],
   "metadata": {}
  },
  {
   "cell_type": "markdown",
   "source": [
    "### Things which didn't have any improvements to final score."
   ],
   "metadata": {}
  },
  {
   "cell_type": "markdown",
   "source": [
    "- Data shuffling - shuffling data before cross validation doesn't improve score.\r\n",
    "- train_test_split - score is slightly worse than with cross validation"
   ],
   "metadata": {}
  }
 ],
 "metadata": {
  "interpreter": {
   "hash": "9c73145fe1f8ba769fdf9edcb512a81fe38bcab3cb253b8e7a65c7a64ff93c59"
  },
  "kernelspec": {
   "name": "python3",
   "display_name": "Python 3.8.10 64-bit ('base': conda)"
  },
  "language_info": {
   "codemirror_mode": {
    "name": "ipython",
    "version": 3
   },
   "file_extension": ".py",
   "mimetype": "text/x-python",
   "name": "python",
   "nbconvert_exporter": "python",
   "pygments_lexer": "ipython3",
   "version": "3.8.10"
  },
  "orig_nbformat": 4
 },
 "nbformat": 4,
 "nbformat_minor": 2
}