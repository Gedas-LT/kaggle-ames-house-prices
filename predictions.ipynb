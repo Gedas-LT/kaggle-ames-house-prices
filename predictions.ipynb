{
 "cells": [
  {
   "cell_type": "markdown",
   "source": [
    "# Description\r\n",
    "\r\n",
    "Ask a home buyer to describe their dream house, and they probably won't begin with the height of the basement ceiling or the proximity to an east-west railroad. But this dataset proves that much more influences price negotiations than the number of bedrooms or a white-picket fence.\r\n",
    "\r\n",
    "With 79 explanatory variables describing (almost) every aspect of residential homes in Ames, Iowa, this dataset from Kaggle competition challenges you to predict the final price of each home."
   ],
   "metadata": {}
  },
  {
   "cell_type": "markdown",
   "source": [
    "# Requirements\r\n",
    "\r\n",
    "- Train, validate (using a dedicated validation set) and submit a linear regression model.\r\n",
    "- Train, validate (using a dedicated validation set) and submit a random forest regressor model.\r\n",
    "- Achieve a score better than 0.14 on the public leaderboard."
   ],
   "metadata": {}
  },
  {
   "cell_type": "markdown",
   "source": [
    "# Evaluation criteria\r\n",
    "\r\n",
    "- Public leaderboard score\r\n",
    "- How simple is the model\r\n",
    "- Code quality"
   ],
   "metadata": {}
  },
  {
   "cell_type": "markdown",
   "source": [
    "# Data cleaning"
   ],
   "metadata": {}
  },
  {
   "cell_type": "code",
   "execution_count": 95,
   "source": [
    "import eli5\r\n",
    "import matplotlib.pyplot as plt\r\n",
    "import missingno as msno\r\n",
    "import numpy as np\r\n",
    "import pandas as pd\r\n",
    "pd.set_option(\"display.max_columns\", None)\r\n",
    "import seaborn as sns\r\n",
    "sns.set_theme()\r\n",
    "from eli5.sklearn import PermutationImportance\r\n",
    "from sklearn.ensemble import RandomForestRegressor\r\n",
    "from sklearn.linear_model import LinearRegression, Ridge, Lasso\r\n",
    "from sklearn.model_selection import cross_val_score, train_test_split, GridSearchCV\r\n",
    "from sklearn.preprocessing import PolynomialFeatures\r\n",
    "\r\n",
    "from functions import unbalanced_features, feature_selector"
   ],
   "outputs": [],
   "metadata": {}
  },
  {
   "cell_type": "code",
   "execution_count": 6,
   "source": [
    "train_data = pd.read_csv(\"data/train.csv\")\r\n",
    "test_data = pd.read_csv(\"data/test.csv\")"
   ],
   "outputs": [],
   "metadata": {}
  },
  {
   "cell_type": "code",
   "execution_count": 7,
   "source": [
    "#msno.bar(train_data, labels=True, fontsize=12);"
   ],
   "outputs": [],
   "metadata": {}
  },
  {
   "cell_type": "code",
   "execution_count": 8,
   "source": [
    "#msno.bar(test_data, labels=True, fontsize=12);"
   ],
   "outputs": [],
   "metadata": {}
  },
  {
   "cell_type": "markdown",
   "source": [
    "In the very beginning I have decided entirely drop Alley, PoolQC, Fence and MiscFeature features because majority of values are missing."
   ],
   "metadata": {}
  },
  {
   "cell_type": "code",
   "execution_count": 9,
   "source": [
    "features_to_drop = [\"Id\", \"Alley\", \"PoolArea\", \"PoolQC\", \"Fence\", \"MiscFeature\"]\r\n",
    "cleaned_train_data = train_data.drop(columns=features_to_drop)\r\n",
    "cleaned_test_data = test_data.drop(columns=features_to_drop)"
   ],
   "outputs": [],
   "metadata": {}
  },
  {
   "cell_type": "markdown",
   "source": [
    "Assuming that majority of lot areas in one neighborhood are more or less similar, I have filled missing values in LotFrontage column by most frequent value of particular neighborhood. "
   ],
   "metadata": {}
  },
  {
   "cell_type": "code",
   "execution_count": 10,
   "source": [
    "fill_mode = lambda x: x.value_counts().index[0]\r\n",
    "\r\n",
    "cleaned_train_data[\"LotFrontage\"] = cleaned_train_data[\"LotFrontage\"].fillna(cleaned_train_data.groupby(\"Neighborhood\")[\"LotFrontage\"].transform(fill_mode))\r\n",
    "cleaned_test_data[\"LotFrontage\"] = cleaned_test_data[\"LotFrontage\"].fillna(cleaned_test_data.groupby(\"Neighborhood\")[\"LotFrontage\"].transform(fill_mode))"
   ],
   "outputs": [],
   "metadata": {}
  },
  {
   "cell_type": "code",
   "execution_count": 11,
   "source": [
    "print(\"Most frequent value in MasVnrType column:\", cleaned_train_data[\"MasVnrType\"].mode()[0])\r\n",
    "print(\"Most frequent value in MasVnrAre column:\", cleaned_train_data[\"MasVnrArea\"].mode()[0])"
   ],
   "outputs": [
    {
     "output_type": "stream",
     "name": "stdout",
     "text": [
      "Most frequent value in MasVnrType column: None\n",
      "Most frequent value in MasVnrAre column: 0.0\n"
     ]
    }
   ],
   "metadata": {}
  },
  {
   "cell_type": "code",
   "execution_count": 12,
   "source": [
    "print(\"Number of most frequent value in MasVnrType column:\", cleaned_train_data[cleaned_train_data[\"MasVnrType\"] == \"None\"].shape[0])\r\n",
    "print(\"Number of most frequent value in MasVnrAre column:\", cleaned_train_data[cleaned_train_data[\"MasVnrArea\"] == 0.0].shape[0])"
   ],
   "outputs": [
    {
     "output_type": "stream",
     "name": "stdout",
     "text": [
      "Number of most frequent value in MasVnrType column: 864\n",
      "Number of most frequent value in MasVnrAre column: 861\n"
     ]
    }
   ],
   "metadata": {}
  },
  {
   "cell_type": "markdown",
   "source": [
    "More than a half of values in both MasVnrType and MasVnrAre columns are None or 0.0 respectively. Also I made a technical assumption that masonry type depends on RoofStyle, RoofMatl and Exterior1st or vice versa. So the most frequent values of latter features, which also are values of coresponding rows with missing values in MasVnrType and MasVnrAre columns, are None and 0.0."
   ],
   "metadata": {}
  },
  {
   "cell_type": "code",
   "execution_count": 13,
   "source": [
    "cleaned_train_data[\"MasVnrType\"] = cleaned_train_data[\"MasVnrType\"].fillna(\"None\")\r\n",
    "cleaned_train_data[\"MasVnrArea\"] = cleaned_train_data[\"MasVnrArea\"].fillna(0.0)\r\n",
    "\r\n",
    "cleaned_test_data[\"MasVnrType\"] = cleaned_test_data[\"MasVnrType\"].fillna(\"None\")\r\n",
    "cleaned_test_data[\"MasVnrArea\"] = cleaned_test_data[\"MasVnrArea\"].fillna(0.0)"
   ],
   "outputs": [],
   "metadata": {}
  },
  {
   "cell_type": "markdown",
   "source": [
    "About 40 values are missing which are related to the features of basement and according to data description file this means that the house has no basement, so I have changed these NA values to None."
   ],
   "metadata": {}
  },
  {
   "cell_type": "code",
   "execution_count": 14,
   "source": [
    "basement_features = [\"BsmtQual\", \"BsmtCond\", \"BsmtExposure\", \"BsmtFinType1\", \"BsmtFinType2\"]\r\n",
    "\r\n",
    "for feature in basement_features:\r\n",
    "    cleaned_train_data[feature] = cleaned_train_data[feature].fillna(\"None\")\r\n",
    "    cleaned_test_data[feature] = cleaned_test_data[feature].fillna(\"None\")"
   ],
   "outputs": [],
   "metadata": {}
  },
  {
   "cell_type": "markdown",
   "source": [
    "Electrical feature's column is missing just one value, so I have replaced it with most frequent value."
   ],
   "metadata": {}
  },
  {
   "cell_type": "code",
   "execution_count": 15,
   "source": [
    "cleaned_train_data[\"Electrical\"] = cleaned_train_data[\"Electrical\"].fillna(cleaned_train_data[\"Electrical\"].value_counts().index[0])"
   ],
   "outputs": [],
   "metadata": {}
  },
  {
   "cell_type": "markdown",
   "source": [
    "NA value in the FireplaceQu column means that house has no fireplace, so I have changed these NA values to None."
   ],
   "metadata": {}
  },
  {
   "cell_type": "code",
   "execution_count": 16,
   "source": [
    "cleaned_train_data[\"FireplaceQu\"] = cleaned_train_data[\"FireplaceQu\"].fillna(\"None\")\r\n",
    "cleaned_test_data[\"FireplaceQu\"] = cleaned_test_data[\"FireplaceQu\"].fillna(\"None\")"
   ],
   "outputs": [],
   "metadata": {}
  },
  {
   "cell_type": "markdown",
   "source": [
    "NA values in features which are related to garage also corresponds that house has no garage, so I have changed these NA values to None."
   ],
   "metadata": {}
  },
  {
   "cell_type": "code",
   "execution_count": 17,
   "source": [
    "garage_features = [\"GarageType\", \"GarageYrBlt\", \"GarageFinish\", \"GarageQual\", \"GarageCond\"]\r\n",
    "\r\n",
    "for feature in garage_features:\r\n",
    "    cleaned_train_data[feature] = cleaned_train_data[feature].fillna(\"None\")\r\n",
    "    cleaned_test_data[feature] = cleaned_test_data[feature].fillna(\"None\")"
   ],
   "outputs": [],
   "metadata": {}
  },
  {
   "cell_type": "markdown",
   "source": [
    "## Unbalanced features"
   ],
   "metadata": {}
  },
  {
   "cell_type": "code",
   "execution_count": 18,
   "source": [
    "frequent_train_values = unbalanced_features(cleaned_train_data)"
   ],
   "outputs": [],
   "metadata": {}
  },
  {
   "cell_type": "code",
   "execution_count": 19,
   "source": [
    "frequent_train_values.head()"
   ],
   "outputs": [
    {
     "output_type": "execute_result",
     "data": {
      "text/html": [
       "<div>\n",
       "<style scoped>\n",
       "    .dataframe tbody tr th:only-of-type {\n",
       "        vertical-align: middle;\n",
       "    }\n",
       "\n",
       "    .dataframe tbody tr th {\n",
       "        vertical-align: top;\n",
       "    }\n",
       "\n",
       "    .dataframe thead th {\n",
       "        text-align: right;\n",
       "    }\n",
       "</style>\n",
       "<table border=\"1\" class=\"dataframe\">\n",
       "  <thead>\n",
       "    <tr style=\"text-align: right;\">\n",
       "      <th></th>\n",
       "      <th>Feature Name</th>\n",
       "      <th>QTY of most freq. value</th>\n",
       "      <th>% of Total Values</th>\n",
       "    </tr>\n",
       "  </thead>\n",
       "  <tbody>\n",
       "    <tr>\n",
       "      <th>7</th>\n",
       "      <td>Utilities</td>\n",
       "      <td>1459</td>\n",
       "      <td>99.931507</td>\n",
       "    </tr>\n",
       "    <tr>\n",
       "      <th>4</th>\n",
       "      <td>Street</td>\n",
       "      <td>1454</td>\n",
       "      <td>99.589041</td>\n",
       "    </tr>\n",
       "    <tr>\n",
       "      <th>12</th>\n",
       "      <td>Condition2</td>\n",
       "      <td>1445</td>\n",
       "      <td>98.972603</td>\n",
       "    </tr>\n",
       "    <tr>\n",
       "      <th>67</th>\n",
       "      <td>3SsnPorch</td>\n",
       "      <td>1436</td>\n",
       "      <td>98.356164</td>\n",
       "    </tr>\n",
       "    <tr>\n",
       "      <th>43</th>\n",
       "      <td>LowQualFinSF</td>\n",
       "      <td>1434</td>\n",
       "      <td>98.219178</td>\n",
       "    </tr>\n",
       "  </tbody>\n",
       "</table>\n",
       "</div>"
      ],
      "text/plain": [
       "    Feature Name  QTY of most freq. value  % of Total Values\n",
       "7      Utilities                     1459          99.931507\n",
       "4         Street                     1454          99.589041\n",
       "12    Condition2                     1445          98.972603\n",
       "67     3SsnPorch                     1436          98.356164\n",
       "43  LowQualFinSF                     1434          98.219178"
      ]
     },
     "metadata": {},
     "execution_count": 19
    }
   ],
   "metadata": {}
  },
  {
   "cell_type": "markdown",
   "source": [
    "Some features have values which amounts to more than 95 percentage of total values. Such homogeneity is useless for the models so it is better to drop those columns."
   ],
   "metadata": {}
  },
  {
   "cell_type": "code",
   "execution_count": 20,
   "source": [
    "frequent_train_features = frequent_train_values[frequent_train_values[\"% of Total Values\"] > 95][\"Feature Name\"].to_list()\r\n",
    "\r\n",
    "cleaned_train_data = cleaned_train_data.drop(columns=frequent_train_features)\r\n",
    "cleaned_test_data = cleaned_test_data.drop(columns=frequent_train_features)"
   ],
   "outputs": [],
   "metadata": {}
  },
  {
   "cell_type": "code",
   "execution_count": 21,
   "source": [
    "#msno.bar(cleaned_train_data, labels=True, fontsize=12);"
   ],
   "outputs": [],
   "metadata": {}
  },
  {
   "cell_type": "markdown",
   "source": [
    "## Missing values of test set "
   ],
   "metadata": {}
  },
  {
   "cell_type": "code",
   "execution_count": 22,
   "source": [
    "#msno.bar(cleaned_test_data, labels=True, fontsize=12);"
   ],
   "outputs": [],
   "metadata": {}
  },
  {
   "cell_type": "markdown",
   "source": [
    "Some columns in test set are missing just one or two values, so I have simply filled these missing values with most frequent values in those columns."
   ],
   "metadata": {}
  },
  {
   "cell_type": "code",
   "execution_count": 23,
   "source": [
    "missing_test_features = [column for column in cleaned_test_data if cleaned_test_data[column].isna().any() == True]"
   ],
   "outputs": [],
   "metadata": {}
  },
  {
   "cell_type": "code",
   "execution_count": 24,
   "source": [
    "for feature in missing_test_features:\r\n",
    "    cleaned_test_data[feature] = cleaned_test_data[feature].fillna(cleaned_test_data[feature].value_counts().index[0])"
   ],
   "outputs": [],
   "metadata": {}
  },
  {
   "cell_type": "code",
   "execution_count": 25,
   "source": [
    "#msno.bar(cleaned_test_data, labels=True, fontsize=12);"
   ],
   "outputs": [],
   "metadata": {}
  },
  {
   "cell_type": "markdown",
   "source": [
    "# Exploratory data analysis"
   ],
   "metadata": {}
  },
  {
   "cell_type": "code",
   "execution_count": 26,
   "source": [
    "sns.displot(data=cleaned_train_data, x=\"SalePrice\");"
   ],
   "outputs": [
    {
     "output_type": "display_data",
     "data": {
      "image/png": "[encoded data removed]",
      "text/plain": [
       "<Figure size 360x360 with 1 Axes>"
      ]
     },
     "metadata": {}
    }
   ],
   "metadata": {}
  },
  {
   "cell_type": "code",
   "execution_count": 27,
   "source": [
    "fig, axes = plt.subplots(ncols=3, figsize=(20,5))\r\n",
    "sns.scatterplot(ax=axes[0], data=cleaned_train_data, x=\"GrLivArea\", y=\"SalePrice\")\r\n",
    "sns.scatterplot(ax=axes[1], data=cleaned_train_data, x=\"LotArea\", y=\"SalePrice\")\r\n",
    "sns.scatterplot(ax=axes[2], data=cleaned_train_data, x=\"LotArea\", y=\"GrLivArea\");"
   ],
   "outputs": [
    {
     "output_type": "display_data",
     "data": {
      "image/png": "[encoded data removed]",
      "text/plain": [
       "<Figure size 1440x360 with 3 Axes>"
      ]
     },
     "metadata": {}
    }
   ],
   "metadata": {}
  },
  {
   "cell_type": "markdown",
   "source": [
    "In GrLivArea vs. SalePrice graph are two not logic values where price is very low compared to GrLivArea value. Also in LotArea vs. SalePrice graph are obvious outliers above 100000 LotArea values. So I have decided to remove aforementioned values and after submission linear regression score was almost twice better but random forest score was slightly worse, but it is worth to leave this change due to improvement on linear regression model."
   ],
   "metadata": {}
  },
  {
   "cell_type": "code",
   "execution_count": 28,
   "source": [
    "cleaned_train_data.drop(cleaned_train_data[(cleaned_train_data[\"GrLivArea\"] > 4000) & (cleaned_train_data[\"SalePrice\"] < 200000)].index, inplace=True)"
   ],
   "outputs": [],
   "metadata": {}
  },
  {
   "cell_type": "code",
   "execution_count": 29,
   "source": [
    "cleaned_train_data.drop(cleaned_train_data[cleaned_train_data[\"LotArea\"] > 100000].index, inplace=True)"
   ],
   "outputs": [],
   "metadata": {}
  },
  {
   "cell_type": "code",
   "execution_count": 30,
   "source": [
    "cleaned_train_data = cleaned_train_data.reset_index().drop(columns=\"index\")"
   ],
   "outputs": [],
   "metadata": {}
  },
  {
   "cell_type": "code",
   "execution_count": 31,
   "source": [
    "fig, axes = plt.subplots(ncols=2, figsize=(15,5))\r\n",
    "sns.boxplot(ax=axes[0], x=cleaned_train_data[\"LotArea\"])\r\n",
    "sns.boxplot(ax=axes[1], x=cleaned_train_data[\"GrLivArea\"]);"
   ],
   "outputs": [
    {
     "output_type": "display_data",
     "data": {
      "image/png": "[encoded data removed]",
      "text/plain": [
       "<Figure size 1080x360 with 2 Axes>"
      ]
     },
     "metadata": {}
    }
   ],
   "metadata": {}
  },
  {
   "cell_type": "code",
   "execution_count": 32,
   "source": [
    "sns.catplot(data=cleaned_train_data, x=\"SalePrice\", y=\"Neighborhood\")\r\n",
    "plt.xticks(rotation=45);"
   ],
   "outputs": [
    {
     "output_type": "display_data",
     "data": {
      "image/png": "[encoded data removed]",
      "text/plain": [
       "<Figure size 360x360 with 1 Axes>"
      ]
     },
     "metadata": {}
    }
   ],
   "metadata": {}
  },
  {
   "cell_type": "code",
   "execution_count": 33,
   "source": [
    "sns.relplot(y=\"SalePrice\", x=\"MoSold\", data=cleaned_train_data);"
   ],
   "outputs": [
    {
     "output_type": "display_data",
     "data": {
      "image/png": "[encoded data removed]",
      "text/plain": [
       "<Figure size 360x360 with 1 Axes>"
      ]
     },
     "metadata": {}
    }
   ],
   "metadata": {}
  },
  {
   "cell_type": "markdown",
   "source": [
    "# Feature engineering"
   ],
   "metadata": {}
  },
  {
   "cell_type": "markdown",
   "source": [
    "## Feature encoding"
   ],
   "metadata": {}
  },
  {
   "cell_type": "markdown",
   "source": [
    "### Mapping"
   ],
   "metadata": {}
  },
  {
   "cell_type": "markdown",
   "source": [
    "Some categorical features have clear order, therefore I have decided to map that values with numbers in sequence. "
   ],
   "metadata": {}
  },
  {
   "cell_type": "code",
   "execution_count": 34,
   "source": [
    "train_encoded_data = cleaned_train_data.copy()\r\n",
    "test_encoded_data = cleaned_test_data.copy()"
   ],
   "outputs": [],
   "metadata": {}
  },
  {
   "cell_type": "code",
   "execution_count": 35,
   "source": [
    "train_unbalanced_table = unbalanced_features(train_encoded_data)\r\n",
    "frequent_train_features_over_75 = train_unbalanced_table[(train_unbalanced_table[\"% of Total Values\"] > 75) & (train_unbalanced_table[\"% of Total Values\"] < 95)][\"Feature Name\"].to_list()\r\n",
    "\r\n",
    "print(len(frequent_train_features_over_75))"
   ],
   "outputs": [
    {
     "output_type": "stream",
     "name": "stdout",
     "text": [
      "21\n"
     ]
    }
   ],
   "metadata": {}
  },
  {
   "cell_type": "code",
   "execution_count": 36,
   "source": [
    "fig, axes = plt.subplots(5, 4, figsize=(25, 25))\r\n",
    "fig.suptitle(\"Distribution of variables\", y=0.9, fontsize=17)\r\n",
    "\r\n",
    "for feature, ax in zip(frequent_train_features_over_75, axes.flatten()):\r\n",
    "    sns.histplot(ax=ax, data=train_encoded_data, x=feature)"
   ],
   "outputs": [
    {
     "output_type": "display_data",
     "data": {
      "image/png": "[encoded data removed]",
      "text/plain": [
       "<Figure size 1800x1800 with 20 Axes>"
      ]
     },
     "metadata": {}
    }
   ],
   "metadata": {}
  },
  {
   "cell_type": "markdown",
   "source": [
    "Features that worked:\r\n",
    "- Functional\r\n",
    "- Electrical\r\n",
    "- LandContour\r\n",
    "- Condition1\r\n",
    "- Exterior1st\r\n",
    "- Exterior2nd\r\n",
    "- LotShape\r\n",
    "- SaleType\r\n",
    "\r\n",
    "Features that didn't work:\r\n",
    "- LandSlope\r\n",
    "- BsmtHalfBath\r\n",
    "- Convert ScreenPorch feature to binary Y/N format\r\n",
    "- MSZoning"
   ],
   "metadata": {}
  },
  {
   "cell_type": "code",
   "execution_count": 37,
   "source": [
    "combined_encoded = [train_encoded_data, test_encoded_data]\r\n",
    "\r\n",
    "for dataset in combined_encoded:\r\n",
    "    dataset[\"Functional\"] = dataset[\"Functional\"].replace([\"Min1\", \"Min2\"], \"Min\")\r\n",
    "    dataset[\"Functional\"] = dataset[\"Functional\"].replace([\"Maj1\", \"Maj2\"], \"Maj\")"
   ],
   "outputs": [],
   "metadata": {}
  },
  {
   "cell_type": "code",
   "execution_count": 38,
   "source": [
    "combined_encoded = [train_encoded_data, test_encoded_data]\r\n",
    "\r\n",
    "for dataset in combined_encoded:\r\n",
    "    dataset[\"Electrical\"] = dataset[\"Electrical\"].replace([\"FuseA\", \"FuseF\", \"FuseP\"], \"Fuse\")"
   ],
   "outputs": [],
   "metadata": {}
  },
  {
   "cell_type": "code",
   "execution_count": 39,
   "source": [
    "combined_encoded = [train_encoded_data, test_encoded_data]\r\n",
    "\r\n",
    "for dataset in combined_encoded:\r\n",
    "    dataset[\"LandContour\"] = dataset[\"LandContour\"].replace(\"Lvl\", \"Flat\")\r\n",
    "    dataset[\"LandContour\"] = dataset[\"LandContour\"].replace([\"Bnk\", \"HLS\", \"Low\"], \"NotFlat\")"
   ],
   "outputs": [],
   "metadata": {}
  },
  {
   "cell_type": "code",
   "execution_count": 40,
   "source": [
    "combined_encoded = [train_encoded_data, test_encoded_data]\r\n",
    "\r\n",
    "for dataset in combined_encoded:\r\n",
    "    dataset[\"Condition1\"] = dataset[\"Condition1\"].replace([\"RRAn\", \"RRAe\", \"RRNn\", \"RRNe\"], \"RR\")\r\n",
    "    dataset[\"Condition1\"] = dataset[\"Condition1\"].replace([\"PosN\", \"PosA\"], \"Pos\")\r\n",
    "    dataset[\"Condition1\"] = dataset[\"Condition1\"].replace([\"Feedr\", \"Artery\"], \"Street\")"
   ],
   "outputs": [],
   "metadata": {}
  },
  {
   "cell_type": "code",
   "execution_count": 41,
   "source": [
    "combined_encoded = [train_encoded_data, test_encoded_data]\r\n",
    "\r\n",
    "for dataset in combined_encoded:\r\n",
    "    dataset[\"Exterior1st\"] = dataset[\"Exterior1st\"].replace([\"VinylSd\", \"MetalSd\"], \"Sd\")\r\n",
    "    dataset[\"Exterior1st\"] = dataset[\"Exterior1st\"].replace([\"WdShing\", \"AsbShng\", \"AsphShn\"], \"Pos\")\r\n",
    "    dataset[\"Exterior1st\"] = dataset[\"Exterior1st\"].replace([\"CemntBd\", \"HdBoard\"], \"Board\")\r\n",
    "    dataset[\"Exterior1st\"] = dataset[\"Exterior1st\"].replace([\"BrkComm\", \"BrkFace\"], \"Brick\")"
   ],
   "outputs": [],
   "metadata": {}
  },
  {
   "cell_type": "code",
   "execution_count": 42,
   "source": [
    "combined_encoded = [train_encoded_data, test_encoded_data]\r\n",
    "\r\n",
    "for dataset in combined_encoded:\r\n",
    "    dataset[\"Exterior2nd\"] = dataset[\"Exterior2nd\"].replace([\"VinylSd\", \"MetalSd\", \"Wd Sdng\"], \"Sd\")\r\n",
    "    dataset[\"Exterior2nd\"] = dataset[\"Exterior2nd\"].replace([\"Wd Shing\", \"AsbShng\", \"AsphShn\"], \"Pos\")\r\n",
    "    dataset[\"Exterior2nd\"] = dataset[\"Exterior2nd\"].replace([\"CmentBd\", \"HdBoard\"], \"Board\")\r\n",
    "    dataset[\"Exterior2nd\"] = dataset[\"Exterior2nd\"].replace([\"BrkComm\", \"BrkFace\"], \"Brick\")"
   ],
   "outputs": [],
   "metadata": {}
  },
  {
   "cell_type": "code",
   "execution_count": 43,
   "source": [
    "combined_encoded = [train_encoded_data, test_encoded_data]\r\n",
    "\r\n",
    "for dataset in combined_encoded:\r\n",
    "    dataset[\"LotShape\"] = dataset[\"LotShape\"].replace([\"IR1\", \"IR2\", \"IR3\"], \"IR\")"
   ],
   "outputs": [],
   "metadata": {}
  },
  {
   "cell_type": "code",
   "execution_count": 44,
   "source": [
    "combined_encoded = [train_encoded_data, test_encoded_data]\r\n",
    "\r\n",
    "for dataset in combined_encoded:\r\n",
    "    dataset[\"SaleType\"] = dataset[\"SaleType\"].replace([\"CWD\", \"VWD\"], \"WD\")\r\n",
    "    dataset[\"SaleType\"] = dataset[\"SaleType\"].replace([\"ConLw\", \"ConLD\", \"ConLI\"], \"Con\")"
   ],
   "outputs": [],
   "metadata": {}
  },
  {
   "cell_type": "markdown",
   "source": [
    "### Garage feature"
   ],
   "metadata": {}
  },
  {
   "cell_type": "code",
   "execution_count": 45,
   "source": [
    "quality_mapping = {\"None\": 0, \"Po\": 1, \"Fa\": 2, \"TA\": 3, \"Gd\": 4, \"Ex\": 5}\r\n",
    "quality_features = [\"ExterQual\", \"ExterCond\", \"BsmtQual\", \"BsmtCond\", \"KitchenQual\", \"FireplaceQu\", \"GarageQual\", \"GarageCond\", \"HeatingQC\"]\r\n",
    "\r\n",
    "for feature in quality_features:\r\n",
    "    train_encoded_data[feature] = train_encoded_data[feature].map(quality_mapping)\r\n",
    "    test_encoded_data[feature] = test_encoded_data[feature].map(quality_mapping)"
   ],
   "outputs": [],
   "metadata": {}
  },
  {
   "cell_type": "code",
   "execution_count": 46,
   "source": [
    "basement_rating_mapping = {\"None\": 0, \"Unf\": 1, \"LwQ\": 2, \"Rec\": 3, \"BLQ\": 4, \"ALQ\": 5, \"GLQ\": 6}\r\n",
    "basement_rating_features = [\"BsmtFinType1\", \"BsmtFinType2\"]\r\n",
    "\r\n",
    "for feature in basement_rating_features:\r\n",
    "    train_encoded_data[feature] = train_encoded_data[feature].map(basement_rating_mapping)\r\n",
    "    test_encoded_data[feature] = test_encoded_data[feature].map(basement_rating_mapping)"
   ],
   "outputs": [],
   "metadata": {}
  },
  {
   "cell_type": "code",
   "execution_count": 47,
   "source": [
    "central_air_mapping = {\"N\": 0, \"Y\": 1}\r\n",
    "train_encoded_data[\"CentralAir\"] = train_encoded_data[\"CentralAir\"].map(central_air_mapping)\r\n",
    "test_encoded_data[\"CentralAir\"] = test_encoded_data[\"CentralAir\"].map(central_air_mapping)"
   ],
   "outputs": [],
   "metadata": {}
  },
  {
   "cell_type": "code",
   "execution_count": 48,
   "source": [
    "garage_finish_mapping = {\"None\": 0, \"Unf\": 1, \"RFn\": 2, \"Fin\": 3}\r\n",
    "train_encoded_data[\"GarageFinish\"] = train_encoded_data[\"GarageFinish\"].map(garage_finish_mapping)\r\n",
    "test_encoded_data[\"GarageFinish\"] = test_encoded_data[\"GarageFinish\"].map(garage_finish_mapping)"
   ],
   "outputs": [],
   "metadata": {}
  },
  {
   "cell_type": "code",
   "execution_count": 49,
   "source": [
    "ordinal_features = [\"SalePrice\", \"GarageFinish\", \"ExterQual\", \"ExterCond\", \"BsmtQual\", \"BsmtCond\", \"KitchenQual\", \"FireplaceQu\", \"GarageQual\", \"GarageCond\", \"HeatingQC\",\r\n",
    "                    \"BsmtFinType1\", \"BsmtFinType2\", \"CentralAir\"]\r\n",
    "\r\n",
    "ordinal_data = train_encoded_data[ordinal_features].copy()"
   ],
   "outputs": [],
   "metadata": {}
  },
  {
   "cell_type": "markdown",
   "source": [
    "After poor results of trying to improve score, I have decided closely to look at mapped features. As I thought not all features which were related to quality correlated with price, that is to say better is not equal higher price, therefore I have to unmap those features. Also I have noticed that GarageQual is highly correlating with GarageCond, so I can delete one of those."
   ],
   "metadata": {}
  },
  {
   "cell_type": "code",
   "execution_count": 50,
   "source": [
    "corr = ordinal_data.corr()\r\n",
    "\r\n",
    "mask = np.triu(np.ones_like(corr, dtype=bool))\r\n",
    "f, ax = plt.subplots(figsize=(9, 7))\r\n",
    "sns.heatmap(corr, mask=mask, linewidths=.5);"
   ],
   "outputs": [
    {
     "output_type": "display_data",
     "data": {
      "image/png": "[encoded data removed]",
      "text/plain": [
       "<Figure size 648x504 with 2 Axes>"
      ]
     },
     "metadata": {}
    }
   ],
   "metadata": {}
  },
  {
   "cell_type": "code",
   "execution_count": 51,
   "source": [
    "quality_unmapping = {0: \"None\", 1: \"Po\", 2: \"Fa\", 3: \"TA\", 4: \"Gd\", 5: \"Ex\"}\r\n",
    "\r\n",
    "train_encoded_data[\"ExterCond\"] = train_encoded_data[\"ExterCond\"].map(quality_unmapping)\r\n",
    "test_encoded_data[\"ExterCond\"] = test_encoded_data[\"ExterCond\"].map(quality_unmapping)"
   ],
   "outputs": [],
   "metadata": {}
  },
  {
   "cell_type": "code",
   "execution_count": 52,
   "source": [
    "basement_rating_unmapping = {0: \"None\", 1: \"Unf\", 2: \"LwQ\", 3: \"Rec\", 4: \"BLQ\", 5: \"ALQ\", 6: \"GLQ\"}\r\n",
    "\r\n",
    "train_encoded_data[\"BsmtFinType2\"] = train_encoded_data[\"BsmtFinType2\"].map(basement_rating_unmapping)\r\n",
    "test_encoded_data[\"BsmtFinType2\"] = test_encoded_data[\"BsmtFinType2\"].map(basement_rating_unmapping)"
   ],
   "outputs": [],
   "metadata": {}
  },
  {
   "cell_type": "code",
   "execution_count": 53,
   "source": [
    "train_encoded_data = train_encoded_data.drop(columns=\"GarageQual\")\r\n",
    "test_encoded_data = test_encoded_data.drop(columns=\"GarageQual\")"
   ],
   "outputs": [],
   "metadata": {}
  },
  {
   "cell_type": "code",
   "execution_count": 54,
   "source": [
    "train_encoded_data[\"GarageYrBlt\"] = train_encoded_data[\"GarageYrBlt\"].replace(\"None\", 0)\r\n",
    "test_encoded_data[\"GarageYrBlt\"] = test_encoded_data[\"GarageYrBlt\"].replace(\"None\", 0)"
   ],
   "outputs": [],
   "metadata": {}
  },
  {
   "cell_type": "markdown",
   "source": [
    "The feature GarageYrBlt itself is not so usefull for modelling because it shouldn't be treated like mere number and it's better to use duration metric."
   ],
   "metadata": {}
  },
  {
   "cell_type": "code",
   "execution_count": 55,
   "source": [
    "train_encoded_data[\"GarageAge\"] = train_encoded_data[\"YrSold\"] - train_encoded_data[\"GarageYrBlt\"].astype(\"int64\")\r\n",
    "test_encoded_data[\"GarageAge\"] = test_encoded_data[\"YrSold\"] - test_encoded_data[\"GarageYrBlt\"].astype(\"int64\")\r\n",
    "\r\n",
    "train_encoded_data = train_encoded_data.drop(columns=\"GarageYrBlt\")\r\n",
    "test_encoded_data = test_encoded_data.drop(columns=\"GarageYrBlt\")"
   ],
   "outputs": [],
   "metadata": {}
  },
  {
   "cell_type": "code",
   "execution_count": 56,
   "source": [
    "train_encoded_data[\"YearAge\"] = train_encoded_data[\"YrSold\"] - train_encoded_data[\"YearBuilt\"].astype(\"int64\")\r\n",
    "test_encoded_data[\"YearAge\"] = test_encoded_data[\"YrSold\"] - test_encoded_data[\"YearBuilt\"].astype(\"int64\")\r\n",
    "\r\n",
    "train_encoded_data = train_encoded_data.drop(columns=\"YearBuilt\")\r\n",
    "test_encoded_data = test_encoded_data.drop(columns=\"YearBuilt\")"
   ],
   "outputs": [],
   "metadata": {}
  },
  {
   "cell_type": "code",
   "execution_count": 57,
   "source": [
    "train_encoded_data = train_encoded_data.drop(columns=\"MoSold\")\r\n",
    "test_encoded_data = test_encoded_data.drop(columns=\"MoSold\")"
   ],
   "outputs": [],
   "metadata": {}
  },
  {
   "cell_type": "code",
   "execution_count": 58,
   "source": [
    "train_encoded_data[\"OverallQualandCond\"] = train_encoded_data[\"OverallQual\"] + train_encoded_data[\"OverallCond\"]\r\n",
    "test_encoded_data[\"OverallQualandCond\"] = test_encoded_data[\"OverallQual\"] + test_encoded_data[\"OverallCond\"]"
   ],
   "outputs": [],
   "metadata": {}
  },
  {
   "cell_type": "code",
   "execution_count": 59,
   "source": [
    "house_area_features = [\"TotalBsmtSF\", \"GrLivArea\", \"GarageArea\", \"WoodDeckSF\", \"OpenPorchSF\", \"EnclosedPorch\", \"ScreenPorch\"]\r\n",
    "combined_encoded = [train_encoded_data, test_encoded_data]\r\n",
    "\r\n",
    "for dataset in combined_encoded:\r\n",
    "    dataset[\"TotalHouseArea\"] = 0\r\n",
    "    for feature in house_area_features:\r\n",
    "        dataset[\"TotalHouseArea\"] += dataset[feature]\r\n"
   ],
   "outputs": [],
   "metadata": {}
  },
  {
   "cell_type": "code",
   "execution_count": 60,
   "source": [
    "train_encoded_data[\"AreaQuality\"] = train_encoded_data[\"TotalHouseArea\"] * train_encoded_data[\"OverallQual\"]\r\n",
    "test_encoded_data[\"AreaQuality\"] = test_encoded_data[\"TotalHouseArea\"] * test_encoded_data[\"OverallQual\"]"
   ],
   "outputs": [],
   "metadata": {}
  },
  {
   "cell_type": "code",
   "execution_count": 61,
   "source": [
    "train_encoded_data[\"AreaAge\"] = train_encoded_data[\"TotalHouseArea\"] * train_encoded_data[\"YearAge\"]\r\n",
    "test_encoded_data[\"AreaAge\"] = test_encoded_data[\"TotalHouseArea\"] * test_encoded_data[\"YearAge\"]"
   ],
   "outputs": [],
   "metadata": {}
  },
  {
   "cell_type": "code",
   "execution_count": 62,
   "source": [
    "sqrt_features = [\"GrLivArea\", \"TotalBsmtSF\", \"LotArea\", \"1stFlrSF\", \"2ndFlrSF\", \"MasVnrArea\", \"TotalHouseArea\"]\r\n",
    "combined_encoded = [train_encoded_data, test_encoded_data]\r\n",
    "\r\n",
    "for dataset in combined_encoded:\r\n",
    "    for feature in sqrt_features:\r\n",
    "        dataset[f\"{feature}_Sqrt\"] = np.sqrt(dataset[feature])"
   ],
   "outputs": [],
   "metadata": {}
  },
  {
   "cell_type": "markdown",
   "source": [
    "## Polynomial features"
   ],
   "metadata": {}
  },
  {
   "cell_type": "code",
   "execution_count": 63,
   "source": [
    "train_numerical_features = [column for column in train_encoded_data if (train_encoded_data[column].dtypes == \"int64\") or (train_encoded_data[column].dtypes == \"int64\")]\r\n",
    "test_numerical_features = [column for column in test_encoded_data if (test_encoded_data[column].dtypes == \"int64\") or (test_encoded_data[column].dtypes == \"int64\")]\r\n",
    "\r\n",
    "not_polynomial_features = [\"SalePrice\", \"AreaQuality\", \"AreaAge\"]\r\n",
    "\r\n",
    "for feature in not_polynomial_features:\r\n",
    "    train_numerical_features.remove(feature)"
   ],
   "outputs": [],
   "metadata": {}
  },
  {
   "cell_type": "code",
   "execution_count": 64,
   "source": [
    "train_polynomial = PolynomialFeatures(2, include_bias=False)\r\n",
    "test_polynomial = PolynomialFeatures(2, include_bias=False)"
   ],
   "outputs": [],
   "metadata": {}
  },
  {
   "cell_type": "code",
   "execution_count": 65,
   "source": [
    "train_polynomial_array = train_polynomial.fit_transform(train_encoded_data[train_numerical_features])\r\n",
    "test_polynomial_array = test_polynomial.fit_transform(test_encoded_data[test_numerical_features])\r\n",
    "\r\n",
    "train_polynomial_data = pd.DataFrame(train_polynomial_array, columns=train_polynomial.get_feature_names(train_numerical_features))\r\n",
    "test_polynomial_data = pd.DataFrame(test_polynomial_array, columns=test_polynomial.get_feature_names(test_numerical_features))"
   ],
   "outputs": [],
   "metadata": {}
  },
  {
   "cell_type": "code",
   "execution_count": 66,
   "source": [
    "train_features = [column for column in train_encoded_data]\r\n",
    "test_features = [column for column in test_encoded_data]\r\n",
    "\r\n",
    "train_polynomial_data = train_polynomial_data.drop(columns=train_features, errors=\"ignore\")\r\n",
    "test_polynomial_data = test_polynomial_data.drop(columns=test_features, errors=\"ignore\")"
   ],
   "outputs": [],
   "metadata": {}
  },
  {
   "cell_type": "code",
   "execution_count": 67,
   "source": [
    "train_encoded_polynomial_data = train_encoded_data.join(train_polynomial_data)\r\n",
    "test_encoded_polynomial_data = test_encoded_data.join(test_polynomial_data)"
   ],
   "outputs": [],
   "metadata": {}
  },
  {
   "cell_type": "markdown",
   "source": [
    "### One-hot encoding"
   ],
   "metadata": {}
  },
  {
   "cell_type": "code",
   "execution_count": 68,
   "source": [
    "categorical_train_features = [column for column in train_encoded_data if train_encoded_data[column].dtypes == \"object\"]\r\n",
    "categorical_test_features = [column for column in test_encoded_data if test_encoded_data[column].dtypes == \"object\"]\r\n",
    "\r\n",
    "train_oh_encoded_data = pd.get_dummies(train_encoded_data, columns=categorical_train_features)\r\n",
    "test_oh_encoded_data = pd.get_dummies(test_encoded_data, columns=categorical_test_features)"
   ],
   "outputs": [],
   "metadata": {}
  },
  {
   "cell_type": "code",
   "execution_count": 69,
   "source": [
    "print(\"Train set columns:\", train_oh_encoded_data.shape[1])\r\n",
    "print(\"Test set columns:\", test_oh_encoded_data.shape[1])"
   ],
   "outputs": [
    {
     "output_type": "stream",
     "name": "stdout",
     "text": [
      "Train set columns: 195\n",
      "Test set columns: 189\n"
     ]
    }
   ],
   "metadata": {}
  },
  {
   "cell_type": "markdown",
   "source": [
    "### One-hot ecoding with polynomial features"
   ],
   "metadata": {}
  },
  {
   "cell_type": "code",
   "execution_count": 70,
   "source": [
    "train_oh_encoded_polynomial_data = pd.get_dummies(train_encoded_polynomial_data, columns=categorical_train_features)\r\n",
    "test_oh_encoded_polynomial_data = pd.get_dummies(test_encoded_polynomial_data, columns=categorical_test_features)"
   ],
   "outputs": [],
   "metadata": {}
  },
  {
   "cell_type": "code",
   "execution_count": 71,
   "source": [
    "print(\"Columns of train set with polynomial features after one-hot encoding:\", train_oh_encoded_polynomial_data.shape[1])\r\n",
    "print(\"Columns of train set with polynomial features after one-hot encoding:\", test_oh_encoded_polynomial_data.shape[1])"
   ],
   "outputs": [
    {
     "output_type": "stream",
     "name": "stdout",
     "text": [
      "Columns of train set with polynomial features after one-hot encoding: 1015\n",
      "Columns of train set with polynomial features after one-hot encoding: 685\n"
     ]
    }
   ],
   "metadata": {}
  },
  {
   "cell_type": "markdown",
   "source": [
    "# Modelling"
   ],
   "metadata": {}
  },
  {
   "cell_type": "markdown",
   "source": [
    "## Standard models"
   ],
   "metadata": {}
  },
  {
   "cell_type": "markdown",
   "source": [
    "Kaggle submissions are evaluated on Root-Mean-Squared-Error (RMSE) between the logarithm of the predicted value and the logarithm of the observed sales price, so the corresponding column of train set used to evaluation shuold be in the logarithmic scale too."
   ],
   "metadata": {}
  },
  {
   "cell_type": "code",
   "execution_count": 72,
   "source": [
    "# Create sets for cross validation.\r\n",
    "train_evaluation_data = train_oh_encoded_data.copy()\r\n",
    "train_evaluation_data[\"SalePrice\"] = np.log(train_evaluation_data[\"SalePrice\"])"
   ],
   "outputs": [],
   "metadata": {}
  },
  {
   "cell_type": "markdown",
   "source": [
    "Test set has fewer columns after one-hot encoding due to unequal number of unique values in categorical features. To tackle this problem I have used pandas align function.  "
   ],
   "metadata": {}
  },
  {
   "cell_type": "code",
   "execution_count": 73,
   "source": [
    "final_train_data, final_test_data = train_oh_encoded_data.align(test_oh_encoded_data, join='inner', axis=1)\r\n",
    "\r\n",
    "print(\"Final train set columns:\", final_train_data.shape[1])\r\n",
    "print(\"Final test set columns:\", final_test_data.shape[1])"
   ],
   "outputs": [
    {
     "output_type": "stream",
     "name": "stdout",
     "text": [
      "Final train set columns: 189\n",
      "Final test set columns: 189\n"
     ]
    }
   ],
   "metadata": {}
  },
  {
   "cell_type": "code",
   "execution_count": 74,
   "source": [
    "target = \"SalePrice\"\r\n",
    "final_features = [column for column in final_train_data]\r\n",
    "\r\n",
    "X_eval = train_evaluation_data[final_features]\r\n",
    "y_eval = train_evaluation_data[target]\r\n",
    "\r\n",
    "X_train = final_train_data[final_features]\r\n",
    "y_train = train_oh_encoded_data[target]"
   ],
   "outputs": [],
   "metadata": {}
  },
  {
   "cell_type": "code",
   "execution_count": 75,
   "source": [
    "train_X, val_X, train_y, val_y = train_test_split(X_eval, y_eval, random_state=1)"
   ],
   "outputs": [],
   "metadata": {}
  },
  {
   "cell_type": "markdown",
   "source": [
    "### Linear regression"
   ],
   "metadata": {}
  },
  {
   "cell_type": "code",
   "execution_count": 76,
   "source": [
    "linear_regression = LinearRegression()"
   ],
   "outputs": [],
   "metadata": {}
  },
  {
   "cell_type": "code",
   "execution_count": 77,
   "source": [
    "lin_reg_model = linear_regression.fit(train_X, train_y)\r\n",
    "\r\n",
    "lin_reg_perm = PermutationImportance(lin_reg_model, random_state=1).fit(val_X, val_y)\r\n",
    "lin_reg_eli5 = eli5.explain_weights_df(lin_reg_perm, feature_names=val_X.columns.tolist())\r\n",
    "eli5.show_weights(lin_reg_perm, feature_names=val_X.columns.tolist(), top=10)"
   ],
   "outputs": [
    {
     "output_type": "execute_result",
     "data": {
      "text/html": [
       "\n",
       "    <style>\n",
       "    table.eli5-weights tr:hover {\n",
       "        filter: brightness(85%);\n",
       "    }\n",
       "</style>\n",
       "\n",
       "\n",
       "\n",
       "    \n",
       "\n",
       "    \n",
       "\n",
       "    \n",
       "\n",
       "    \n",
       "\n",
       "    \n",
       "\n",
       "    \n",
       "\n",
       "\n",
       "    \n",
       "\n",
       "    \n",
       "\n",
       "    \n",
       "\n",
       "    \n",
       "\n",
       "    \n",
       "\n",
       "    \n",
       "\n",
       "\n",
       "    \n",
       "\n",
       "    \n",
       "\n",
       "    \n",
       "\n",
       "    \n",
       "\n",
       "    \n",
       "        <table class=\"eli5-weights eli5-feature-importances\" style=\"border-collapse: collapse; border: none; margin-top: 0em; table-layout: auto;\">\n",
       "    <thead>\n",
       "    <tr style=\"border: none;\">\n",
       "        <th style=\"padding: 0 1em 0 0.5em; text-align: right; border: none;\">Weight</th>\n",
       "        <th style=\"padding: 0 0.5em 0 0.5em; text-align: left; border: none;\">Feature</th>\n",
       "    </tr>\n",
       "    </thead>\n",
       "    <tbody>\n",
       "    \n",
       "        <tr style=\"background-color: hsl(120, 100.00%, 80.00%); border: none;\">\n",
       "            <td style=\"padding: 0 1em 0 0.5em; text-align: right; border: none;\">\n",
       "                0.4052\n",
       "                \n",
       "                    &plusmn; 0.0445\n",
       "                \n",
       "            </td>\n",
       "            <td style=\"padding: 0 0.5em 0 0.5em; text-align: left; border: none;\">\n",
       "                AreaQuality\n",
       "            </td>\n",
       "        </tr>\n",
       "    \n",
       "        <tr style=\"background-color: hsl(120, 100.00%, 81.55%); border: none;\">\n",
       "            <td style=\"padding: 0 1em 0 0.5em; text-align: right; border: none;\">\n",
       "                0.3610\n",
       "                \n",
       "                    &plusmn; 0.0296\n",
       "                \n",
       "            </td>\n",
       "            <td style=\"padding: 0 0.5em 0 0.5em; text-align: left; border: none;\">\n",
       "                TotalHouseArea\n",
       "            </td>\n",
       "        </tr>\n",
       "    \n",
       "        <tr style=\"background-color: hsl(120, 100.00%, 83.22%); border: none;\">\n",
       "            <td style=\"padding: 0 1em 0 0.5em; text-align: right; border: none;\">\n",
       "                0.3154\n",
       "                \n",
       "                    &plusmn; 0.0364\n",
       "                \n",
       "            </td>\n",
       "            <td style=\"padding: 0 0.5em 0 0.5em; text-align: left; border: none;\">\n",
       "                TotalHouseArea_Sqrt\n",
       "            </td>\n",
       "        </tr>\n",
       "    \n",
       "        <tr style=\"background-color: hsl(120, 100.00%, 92.07%); border: none;\">\n",
       "            <td style=\"padding: 0 1em 0 0.5em; text-align: right; border: none;\">\n",
       "                0.1081\n",
       "                \n",
       "                    &plusmn; 0.0075\n",
       "                \n",
       "            </td>\n",
       "            <td style=\"padding: 0 0.5em 0 0.5em; text-align: left; border: none;\">\n",
       "                GrLivArea_Sqrt\n",
       "            </td>\n",
       "        </tr>\n",
       "    \n",
       "        <tr style=\"background-color: hsl(120, 100.00%, 93.84%); border: none;\">\n",
       "            <td style=\"padding: 0 1em 0 0.5em; text-align: right; border: none;\">\n",
       "                0.0754\n",
       "                \n",
       "                    &plusmn; 0.0096\n",
       "                \n",
       "            </td>\n",
       "            <td style=\"padding: 0 0.5em 0 0.5em; text-align: left; border: none;\">\n",
       "                GarageType_None\n",
       "            </td>\n",
       "        </tr>\n",
       "    \n",
       "        <tr style=\"background-color: hsl(120, 100.00%, 94.03%); border: none;\">\n",
       "            <td style=\"padding: 0 1em 0 0.5em; text-align: right; border: none;\">\n",
       "                0.0721\n",
       "                \n",
       "                    &plusmn; 0.0109\n",
       "                \n",
       "            </td>\n",
       "            <td style=\"padding: 0 0.5em 0 0.5em; text-align: left; border: none;\">\n",
       "                1stFlrSF_Sqrt\n",
       "            </td>\n",
       "        </tr>\n",
       "    \n",
       "        <tr style=\"background-color: hsl(120, 100.00%, 94.43%); border: none;\">\n",
       "            <td style=\"padding: 0 1em 0 0.5em; text-align: right; border: none;\">\n",
       "                0.0652\n",
       "                \n",
       "                    &plusmn; 0.0098\n",
       "                \n",
       "            </td>\n",
       "            <td style=\"padding: 0 0.5em 0 0.5em; text-align: left; border: none;\">\n",
       "                GarageAge\n",
       "            </td>\n",
       "        </tr>\n",
       "    \n",
       "        <tr style=\"background-color: hsl(120, 100.00%, 94.71%); border: none;\">\n",
       "            <td style=\"padding: 0 1em 0 0.5em; text-align: right; border: none;\">\n",
       "                0.0606\n",
       "                \n",
       "                    &plusmn; 0.0067\n",
       "                \n",
       "            </td>\n",
       "            <td style=\"padding: 0 0.5em 0 0.5em; text-align: left; border: none;\">\n",
       "                Exterior2nd_Sd\n",
       "            </td>\n",
       "        </tr>\n",
       "    \n",
       "        <tr style=\"background-color: hsl(120, 100.00%, 94.76%); border: none;\">\n",
       "            <td style=\"padding: 0 1em 0 0.5em; text-align: right; border: none;\">\n",
       "                0.0598\n",
       "                \n",
       "                    &plusmn; 0.0143\n",
       "                \n",
       "            </td>\n",
       "            <td style=\"padding: 0 0.5em 0 0.5em; text-align: left; border: none;\">\n",
       "                YearAge\n",
       "            </td>\n",
       "        </tr>\n",
       "    \n",
       "        <tr style=\"background-color: hsl(120, 100.00%, 95.65%); border: none;\">\n",
       "            <td style=\"padding: 0 1em 0 0.5em; text-align: right; border: none;\">\n",
       "                0.0458\n",
       "                \n",
       "                    &plusmn; 0.0075\n",
       "                \n",
       "            </td>\n",
       "            <td style=\"padding: 0 0.5em 0 0.5em; text-align: left; border: none;\">\n",
       "                GrLivArea\n",
       "            </td>\n",
       "        </tr>\n",
       "    \n",
       "    \n",
       "        \n",
       "            <tr style=\"background-color: hsl(120, 100.00%, 95.65%); border: none;\">\n",
       "                <td colspan=\"2\" style=\"padding: 0 0.5em 0 0.5em; text-align: center; border: none; white-space: nowrap;\">\n",
       "                    <i>&hellip; 179 more &hellip;</i>\n",
       "                </td>\n",
       "            </tr>\n",
       "        \n",
       "    \n",
       "    </tbody>\n",
       "</table>\n",
       "    \n",
       "\n",
       "    \n",
       "\n",
       "\n",
       "    \n",
       "\n",
       "    \n",
       "\n",
       "    \n",
       "\n",
       "    \n",
       "\n",
       "    \n",
       "\n",
       "    \n",
       "\n",
       "\n",
       "\n"
      ],
      "text/plain": [
       "<IPython.core.display.HTML object>"
      ]
     },
     "metadata": {},
     "execution_count": 77
    }
   ],
   "metadata": {}
  },
  {
   "cell_type": "code",
   "execution_count": 78,
   "source": [
    "# Evaluation\r\n",
    "lin_reg_scores = cross_val_score(linear_regression, X_eval, y_eval, scoring=\"neg_root_mean_squared_error\")\r\n",
    "print(\"Linear regression RMSE:\", lin_reg_scores.mean())"
   ],
   "outputs": [
    {
     "output_type": "stream",
     "name": "stdout",
     "text": [
      "Linear regression RMSE: -0.11238586999031594\n"
     ]
    }
   ],
   "metadata": {}
  },
  {
   "cell_type": "code",
   "execution_count": 79,
   "source": [
    "lin_reg_selected_features = feature_selector(lin_reg_eli5, 0.11239, linear_regression, train_evaluation_data, \"SalePrice\")"
   ],
   "outputs": [
    {
     "output_type": "stream",
     "name": "stdout",
     "text": [
      "The score was improved by 0.00599\n",
      "The best score: 0.1064\n"
     ]
    }
   ],
   "metadata": {}
  },
  {
   "cell_type": "code",
   "execution_count": 80,
   "source": [
    "X_train_selected = final_train_data[lin_reg_selected_features]\r\n",
    "final_test_selected_data = final_test_data[lin_reg_selected_features]\r\n",
    "\r\n",
    "linear_regression.fit(X_train_selected, y_train)\r\n",
    "linear_predictions = linear_regression.predict(final_test_selected_data)\r\n",
    "\r\n",
    "output = pd.DataFrame({\"Id\": test_data[\"Id\"], \"SalePrice\": linear_predictions})\r\n",
    "output.to_csv(\"submissions/linear_predictions.csv\", index=False)"
   ],
   "outputs": [],
   "metadata": {}
  },
  {
   "cell_type": "markdown",
   "source": [
    "### Ridge regression"
   ],
   "metadata": {}
  },
  {
   "cell_type": "code",
   "execution_count": 81,
   "source": [
    "ridge_regression = Ridge(alpha=10)"
   ],
   "outputs": [],
   "metadata": {}
  },
  {
   "cell_type": "code",
   "execution_count": 82,
   "source": [
    "ridge_reg_model = ridge_regression.fit(train_X, train_y)\r\n",
    "\r\n",
    "ridge_reg_perm = PermutationImportance(ridge_reg_model, random_state=1).fit(val_X, val_y)\r\n",
    "ridge_reg_eli5 = eli5.explain_weights_df(ridge_reg_perm, feature_names=val_X.columns.tolist())\r\n",
    "eli5.show_weights(ridge_reg_perm, feature_names = val_X.columns.tolist(), top=10)"
   ],
   "outputs": [
    {
     "output_type": "execute_result",
     "data": {
      "text/html": [
       "\n",
       "    <style>\n",
       "    table.eli5-weights tr:hover {\n",
       "        filter: brightness(85%);\n",
       "    }\n",
       "</style>\n",
       "\n",
       "\n",
       "\n",
       "    \n",
       "\n",
       "    \n",
       "\n",
       "    \n",
       "\n",
       "    \n",
       "\n",
       "    \n",
       "\n",
       "    \n",
       "\n",
       "\n",
       "    \n",
       "\n",
       "    \n",
       "\n",
       "    \n",
       "\n",
       "    \n",
       "\n",
       "    \n",
       "\n",
       "    \n",
       "\n",
       "\n",
       "    \n",
       "\n",
       "    \n",
       "\n",
       "    \n",
       "\n",
       "    \n",
       "\n",
       "    \n",
       "        <table class=\"eli5-weights eli5-feature-importances\" style=\"border-collapse: collapse; border: none; margin-top: 0em; table-layout: auto;\">\n",
       "    <thead>\n",
       "    <tr style=\"border: none;\">\n",
       "        <th style=\"padding: 0 1em 0 0.5em; text-align: right; border: none;\">Weight</th>\n",
       "        <th style=\"padding: 0 0.5em 0 0.5em; text-align: left; border: none;\">Feature</th>\n",
       "    </tr>\n",
       "    </thead>\n",
       "    <tbody>\n",
       "    \n",
       "        <tr style=\"background-color: hsl(120, 100.00%, 80.00%); border: none;\">\n",
       "            <td style=\"padding: 0 1em 0 0.5em; text-align: right; border: none;\">\n",
       "                0.3225\n",
       "                \n",
       "                    &plusmn; 0.0348\n",
       "                \n",
       "            </td>\n",
       "            <td style=\"padding: 0 0.5em 0 0.5em; text-align: left; border: none;\">\n",
       "                AreaQuality\n",
       "            </td>\n",
       "        </tr>\n",
       "    \n",
       "        <tr style=\"background-color: hsl(120, 100.00%, 82.55%); border: none;\">\n",
       "            <td style=\"padding: 0 1em 0 0.5em; text-align: right; border: none;\">\n",
       "                0.2654\n",
       "                \n",
       "                    &plusmn; 0.0221\n",
       "                \n",
       "            </td>\n",
       "            <td style=\"padding: 0 0.5em 0 0.5em; text-align: left; border: none;\">\n",
       "                TotalHouseArea\n",
       "            </td>\n",
       "        </tr>\n",
       "    \n",
       "        <tr style=\"background-color: hsl(120, 100.00%, 83.96%); border: none;\">\n",
       "            <td style=\"padding: 0 1em 0 0.5em; text-align: right; border: none;\">\n",
       "                0.2352\n",
       "                \n",
       "                    &plusmn; 0.0257\n",
       "                \n",
       "            </td>\n",
       "            <td style=\"padding: 0 0.5em 0 0.5em; text-align: left; border: none;\">\n",
       "                TotalHouseArea_Sqrt\n",
       "            </td>\n",
       "        </tr>\n",
       "    \n",
       "        <tr style=\"background-color: hsl(120, 100.00%, 88.63%); border: none;\">\n",
       "            <td style=\"padding: 0 1em 0 0.5em; text-align: right; border: none;\">\n",
       "                0.1440\n",
       "                \n",
       "                    &plusmn; 0.0101\n",
       "                \n",
       "            </td>\n",
       "            <td style=\"padding: 0 0.5em 0 0.5em; text-align: left; border: none;\">\n",
       "                GrLivArea_Sqrt\n",
       "            </td>\n",
       "        </tr>\n",
       "    \n",
       "        <tr style=\"background-color: hsl(120, 100.00%, 89.13%); border: none;\">\n",
       "            <td style=\"padding: 0 1em 0 0.5em; text-align: right; border: none;\">\n",
       "                0.1349\n",
       "                \n",
       "                    &plusmn; 0.0133\n",
       "                \n",
       "            </td>\n",
       "            <td style=\"padding: 0 0.5em 0 0.5em; text-align: left; border: none;\">\n",
       "                GrLivArea\n",
       "            </td>\n",
       "        </tr>\n",
       "    \n",
       "        <tr style=\"background-color: hsl(120, 100.00%, 90.48%); border: none;\">\n",
       "            <td style=\"padding: 0 1em 0 0.5em; text-align: right; border: none;\">\n",
       "                0.1117\n",
       "                \n",
       "                    &plusmn; 0.0144\n",
       "                \n",
       "            </td>\n",
       "            <td style=\"padding: 0 0.5em 0 0.5em; text-align: left; border: none;\">\n",
       "                1stFlrSF_Sqrt\n",
       "            </td>\n",
       "        </tr>\n",
       "    \n",
       "        <tr style=\"background-color: hsl(120, 100.00%, 92.33%); border: none;\">\n",
       "            <td style=\"padding: 0 1em 0 0.5em; text-align: right; border: none;\">\n",
       "                0.0820\n",
       "                \n",
       "                    &plusmn; 0.0170\n",
       "                \n",
       "            </td>\n",
       "            <td style=\"padding: 0 0.5em 0 0.5em; text-align: left; border: none;\">\n",
       "                YearAge\n",
       "            </td>\n",
       "        </tr>\n",
       "    \n",
       "        <tr style=\"background-color: hsl(120, 100.00%, 93.40%); border: none;\">\n",
       "            <td style=\"padding: 0 1em 0 0.5em; text-align: right; border: none;\">\n",
       "                0.0662\n",
       "                \n",
       "                    &plusmn; 0.0082\n",
       "                \n",
       "            </td>\n",
       "            <td style=\"padding: 0 0.5em 0 0.5em; text-align: left; border: none;\">\n",
       "                2ndFlrSF\n",
       "            </td>\n",
       "        </tr>\n",
       "    \n",
       "        <tr style=\"background-color: hsl(120, 100.00%, 96.00%); border: none;\">\n",
       "            <td style=\"padding: 0 1em 0 0.5em; text-align: right; border: none;\">\n",
       "                0.0324\n",
       "                \n",
       "                    &plusmn; 0.0083\n",
       "                \n",
       "            </td>\n",
       "            <td style=\"padding: 0 0.5em 0 0.5em; text-align: left; border: none;\">\n",
       "                LotArea_Sqrt\n",
       "            </td>\n",
       "        </tr>\n",
       "    \n",
       "        <tr style=\"background-color: hsl(120, 100.00%, 96.35%); border: none;\">\n",
       "            <td style=\"padding: 0 1em 0 0.5em; text-align: right; border: none;\">\n",
       "                0.0284\n",
       "                \n",
       "                    &plusmn; 0.0056\n",
       "                \n",
       "            </td>\n",
       "            <td style=\"padding: 0 0.5em 0 0.5em; text-align: left; border: none;\">\n",
       "                1stFlrSF\n",
       "            </td>\n",
       "        </tr>\n",
       "    \n",
       "    \n",
       "        \n",
       "            <tr style=\"background-color: hsl(120, 100.00%, 96.35%); border: none;\">\n",
       "                <td colspan=\"2\" style=\"padding: 0 0.5em 0 0.5em; text-align: center; border: none; white-space: nowrap;\">\n",
       "                    <i>&hellip; 179 more &hellip;</i>\n",
       "                </td>\n",
       "            </tr>\n",
       "        \n",
       "    \n",
       "    </tbody>\n",
       "</table>\n",
       "    \n",
       "\n",
       "    \n",
       "\n",
       "\n",
       "    \n",
       "\n",
       "    \n",
       "\n",
       "    \n",
       "\n",
       "    \n",
       "\n",
       "    \n",
       "\n",
       "    \n",
       "\n",
       "\n",
       "\n"
      ],
      "text/plain": [
       "<IPython.core.display.HTML object>"
      ]
     },
     "metadata": {},
     "execution_count": 82
    }
   ],
   "metadata": {}
  },
  {
   "cell_type": "code",
   "execution_count": 83,
   "source": [
    "# Evaluation\r\n",
    "ridge_reg_scores = cross_val_score(ridge_regression, X_eval, y_eval, scoring=\"neg_root_mean_squared_error\")\r\n",
    "print(\"Ridge regression RMSE:\", ridge_reg_scores.mean())"
   ],
   "outputs": [
    {
     "output_type": "stream",
     "name": "stdout",
     "text": [
      "Ridge regression RMSE: -0.10891959781005504\n"
     ]
    }
   ],
   "metadata": {}
  },
  {
   "cell_type": "code",
   "execution_count": 84,
   "source": [
    "ridge_regression.fit(X_train, y_train)\r\n",
    "ridge_predictions = ridge_regression.predict(final_test_data)\r\n",
    "\r\n",
    "output = pd.DataFrame({\"Id\": test_data[\"Id\"], \"SalePrice\": ridge_predictions})\r\n",
    "output.to_csv(\"submissions/ridge_predictions.csv\", index=False)"
   ],
   "outputs": [],
   "metadata": {}
  },
  {
   "cell_type": "code",
   "execution_count": 85,
   "source": [
    "ridge_selected_features = feature_selector(ridge_reg_eli5, 0.1089, ridge_regression, train_evaluation_data, \"SalePrice\")"
   ],
   "outputs": [
    {
     "output_type": "stream",
     "name": "stdout",
     "text": [
      "The score was improved by 0.00345\n",
      "The best score: 0.10545\n"
     ]
    }
   ],
   "metadata": {}
  },
  {
   "cell_type": "code",
   "execution_count": 86,
   "source": [
    "X_train_selected = final_train_data[ridge_selected_features]\r\n",
    "final_test_selected_data = final_test_data[ridge_selected_features]\r\n",
    "\r\n",
    "ridge_regression.fit(X_train_selected, y_train)\r\n",
    "ridge_predictions = ridge_regression.predict(final_test_selected_data)\r\n",
    "\r\n",
    "output = pd.DataFrame({\"Id\": test_data[\"Id\"], \"SalePrice\": ridge_predictions})\r\n",
    "output.to_csv(\"submissions/ridge_predictions.csv\", index=False)"
   ],
   "outputs": [],
   "metadata": {}
  },
  {
   "cell_type": "markdown",
   "source": [
    "The cross validation score after feature selection is better but Kaggle score after submission is slightly worse."
   ],
   "metadata": {}
  },
  {
   "cell_type": "markdown",
   "source": [
    "### Lasso regression"
   ],
   "metadata": {}
  },
  {
   "cell_type": "code",
   "execution_count": 87,
   "source": [
    "lasso_regression = Lasso(alpha=0.1, max_iter=2000)"
   ],
   "outputs": [],
   "metadata": {}
  },
  {
   "cell_type": "code",
   "execution_count": 88,
   "source": [
    "lasso_reg_model = lasso_regression.fit(train_X, train_y)\r\n",
    "\r\n",
    "lasso_reg_perm = PermutationImportance(lasso_reg_model, random_state=1).fit(val_X, val_y)\r\n",
    "lasso_reg_eli5 = eli5.explain_weights_df(lasso_reg_perm, feature_names=val_X.columns.tolist())\r\n",
    "eli5.show_weights(lasso_reg_perm, feature_names = val_X.columns.tolist(), top=10)"
   ],
   "outputs": [
    {
     "output_type": "execute_result",
     "data": {
      "text/html": [
       "\n",
       "    <style>\n",
       "    table.eli5-weights tr:hover {\n",
       "        filter: brightness(85%);\n",
       "    }\n",
       "</style>\n",
       "\n",
       "\n",
       "\n",
       "    \n",
       "\n",
       "    \n",
       "\n",
       "    \n",
       "\n",
       "    \n",
       "\n",
       "    \n",
       "\n",
       "    \n",
       "\n",
       "\n",
       "    \n",
       "\n",
       "    \n",
       "\n",
       "    \n",
       "\n",
       "    \n",
       "\n",
       "    \n",
       "\n",
       "    \n",
       "\n",
       "\n",
       "    \n",
       "\n",
       "    \n",
       "\n",
       "    \n",
       "\n",
       "    \n",
       "\n",
       "    \n",
       "        <table class=\"eli5-weights eli5-feature-importances\" style=\"border-collapse: collapse; border: none; margin-top: 0em; table-layout: auto;\">\n",
       "    <thead>\n",
       "    <tr style=\"border: none;\">\n",
       "        <th style=\"padding: 0 1em 0 0.5em; text-align: right; border: none;\">Weight</th>\n",
       "        <th style=\"padding: 0 0.5em 0 0.5em; text-align: left; border: none;\">Feature</th>\n",
       "    </tr>\n",
       "    </thead>\n",
       "    <tbody>\n",
       "    \n",
       "        <tr style=\"background-color: hsl(120, 100.00%, 80.00%); border: none;\">\n",
       "            <td style=\"padding: 0 1em 0 0.5em; text-align: right; border: none;\">\n",
       "                0.6092\n",
       "                \n",
       "                    &plusmn; 0.0689\n",
       "                \n",
       "            </td>\n",
       "            <td style=\"padding: 0 0.5em 0 0.5em; text-align: left; border: none;\">\n",
       "                AreaQuality\n",
       "            </td>\n",
       "        </tr>\n",
       "    \n",
       "        <tr style=\"background-color: hsl(120, 100.00%, 96.19%); border: none;\">\n",
       "            <td style=\"padding: 0 1em 0 0.5em; text-align: right; border: none;\">\n",
       "                0.0569\n",
       "                \n",
       "                    &plusmn; 0.0122\n",
       "                \n",
       "            </td>\n",
       "            <td style=\"padding: 0 0.5em 0 0.5em; text-align: left; border: none;\">\n",
       "                YearAge\n",
       "            </td>\n",
       "        </tr>\n",
       "    \n",
       "        <tr style=\"background-color: hsl(120, 100.00%, 97.26%); border: none;\">\n",
       "            <td style=\"padding: 0 1em 0 0.5em; text-align: right; border: none;\">\n",
       "                0.0357\n",
       "                \n",
       "                    &plusmn; 0.0095\n",
       "                \n",
       "            </td>\n",
       "            <td style=\"padding: 0 0.5em 0 0.5em; text-align: left; border: none;\">\n",
       "                YearRemodAdd\n",
       "            </td>\n",
       "        </tr>\n",
       "    \n",
       "        <tr style=\"background-color: hsl(120, 100.00%, 97.27%); border: none;\">\n",
       "            <td style=\"padding: 0 1em 0 0.5em; text-align: right; border: none;\">\n",
       "                0.0353\n",
       "                \n",
       "                    &plusmn; 0.0102\n",
       "                \n",
       "            </td>\n",
       "            <td style=\"padding: 0 0.5em 0 0.5em; text-align: left; border: none;\">\n",
       "                2ndFlrSF\n",
       "            </td>\n",
       "        </tr>\n",
       "    \n",
       "        <tr style=\"background-color: hsl(120, 100.00%, 98.50%); border: none;\">\n",
       "            <td style=\"padding: 0 1em 0 0.5em; text-align: right; border: none;\">\n",
       "                0.0151\n",
       "                \n",
       "                    &plusmn; 0.0050\n",
       "                \n",
       "            </td>\n",
       "            <td style=\"padding: 0 0.5em 0 0.5em; text-align: left; border: none;\">\n",
       "                BsmtFinSF1\n",
       "            </td>\n",
       "        </tr>\n",
       "    \n",
       "        <tr style=\"background-color: hsl(120, 100.00%, 98.65%); border: none;\">\n",
       "            <td style=\"padding: 0 1em 0 0.5em; text-align: right; border: none;\">\n",
       "                0.0130\n",
       "                \n",
       "                    &plusmn; 0.0073\n",
       "                \n",
       "            </td>\n",
       "            <td style=\"padding: 0 0.5em 0 0.5em; text-align: left; border: none;\">\n",
       "                GarageAge\n",
       "            </td>\n",
       "        </tr>\n",
       "    \n",
       "        <tr style=\"background-color: hsl(120, 100.00%, 98.84%); border: none;\">\n",
       "            <td style=\"padding: 0 1em 0 0.5em; text-align: right; border: none;\">\n",
       "                0.0105\n",
       "                \n",
       "                    &plusmn; 0.0027\n",
       "                \n",
       "            </td>\n",
       "            <td style=\"padding: 0 0.5em 0 0.5em; text-align: left; border: none;\">\n",
       "                LotArea\n",
       "            </td>\n",
       "        </tr>\n",
       "    \n",
       "        <tr style=\"background-color: hsl(120, 100.00%, 98.89%); border: none;\">\n",
       "            <td style=\"padding: 0 1em 0 0.5em; text-align: right; border: none;\">\n",
       "                0.0099\n",
       "                \n",
       "                    &plusmn; 0.0051\n",
       "                \n",
       "            </td>\n",
       "            <td style=\"padding: 0 0.5em 0 0.5em; text-align: left; border: none;\">\n",
       "                1stFlrSF\n",
       "            </td>\n",
       "        </tr>\n",
       "    \n",
       "        <tr style=\"background-color: hsl(120, 100.00%, 99.53%); border: none;\">\n",
       "            <td style=\"padding: 0 1em 0 0.5em; text-align: right; border: none;\">\n",
       "                0.0028\n",
       "                \n",
       "                    &plusmn; 0.0020\n",
       "                \n",
       "            </td>\n",
       "            <td style=\"padding: 0 0.5em 0 0.5em; text-align: left; border: none;\">\n",
       "                GrLivArea\n",
       "            </td>\n",
       "        </tr>\n",
       "    \n",
       "        <tr style=\"background-color: hsl(120, 100.00%, 99.61%); border: none;\">\n",
       "            <td style=\"padding: 0 1em 0 0.5em; text-align: right; border: none;\">\n",
       "                0.0022\n",
       "                \n",
       "                    &plusmn; 0.0012\n",
       "                \n",
       "            </td>\n",
       "            <td style=\"padding: 0 0.5em 0 0.5em; text-align: left; border: none;\">\n",
       "                ScreenPorch\n",
       "            </td>\n",
       "        </tr>\n",
       "    \n",
       "    \n",
       "        \n",
       "            <tr style=\"background-color: hsl(120, 100.00%, 99.61%); border: none;\">\n",
       "                <td colspan=\"2\" style=\"padding: 0 0.5em 0 0.5em; text-align: center; border: none; white-space: nowrap;\">\n",
       "                    <i>&hellip; 179 more &hellip;</i>\n",
       "                </td>\n",
       "            </tr>\n",
       "        \n",
       "    \n",
       "    </tbody>\n",
       "</table>\n",
       "    \n",
       "\n",
       "    \n",
       "\n",
       "\n",
       "    \n",
       "\n",
       "    \n",
       "\n",
       "    \n",
       "\n",
       "    \n",
       "\n",
       "    \n",
       "\n",
       "    \n",
       "\n",
       "\n",
       "\n"
      ],
      "text/plain": [
       "<IPython.core.display.HTML object>"
      ]
     },
     "metadata": {},
     "execution_count": 88
    }
   ],
   "metadata": {}
  },
  {
   "cell_type": "code",
   "execution_count": 89,
   "source": [
    "# Evaluation\r\n",
    "lasso_reg_scores = cross_val_score(lasso_regression, X_eval, y_eval, scoring=\"neg_root_mean_squared_error\")\r\n",
    "print(\"Lasso regression RMSE:\", lasso_reg_scores.mean())"
   ],
   "outputs": [
    {
     "output_type": "stream",
     "name": "stdout",
     "text": [
      "Lasso regression RMSE: -0.14167519448278365\n"
     ]
    }
   ],
   "metadata": {}
  },
  {
   "cell_type": "code",
   "execution_count": 90,
   "source": [
    "lasso_regression.fit(X_train, y_train)\r\n",
    "lasso_predictions = lasso_regression.predict(final_test_data)\r\n",
    "\r\n",
    "output = pd.DataFrame({\"Id\": test_data[\"Id\"], \"SalePrice\": lasso_predictions})\r\n",
    "output.to_csv(\"submissions/lasso_predictions.csv\", index=False)"
   ],
   "outputs": [
    {
     "output_type": "stream",
     "name": "stderr",
     "text": [
      "C:\\Users\\Gediminas\\anaconda3\\lib\\site-packages\\sklearn\\linear_model\\_coordinate_descent.py:530: ConvergenceWarning: Objective did not converge. You might want to increase the number of iterations. Duality gap: 251035721394.20215, tolerance: 914345994.8568735\n",
      "  model = cd_fast.enet_coordinate_descent(\n"
     ]
    }
   ],
   "metadata": {}
  },
  {
   "cell_type": "code",
   "execution_count": 91,
   "source": [
    "lasso_selected_features = feature_selector(lasso_reg_eli5, 0.14167, lasso_regression, train_evaluation_data, \"SalePrice\")"
   ],
   "outputs": [
    {
     "output_type": "stream",
     "name": "stdout",
     "text": [
      "The score was improved by 0.00047\n",
      "The best score: 0.1412\n"
     ]
    }
   ],
   "metadata": {}
  },
  {
   "cell_type": "markdown",
   "source": [
    "### Random forest regressor"
   ],
   "metadata": {}
  },
  {
   "cell_type": "code",
   "execution_count": 102,
   "source": [
    "random_forest = RandomForestRegressor(random_state=42)"
   ],
   "outputs": [],
   "metadata": {}
  },
  {
   "cell_type": "code",
   "execution_count": 103,
   "source": [
    "param_grid = {'bootstrap': [True, False],\r\n",
    "              \"max_depth\": [5, 10, 20, 30, 40, 50, None],\r\n",
    "              \"max_features\": [\"auto\", \"sqrt\"],\r\n",
    "              \"min_samples_leaf\": [1, 2, 4],\r\n",
    "              \"min_samples_split\": [2, 5, 10],\r\n",
    "              \"n_estimators\": [200, 400, 600, 800, 1000]}"
   ],
   "outputs": [],
   "metadata": {}
  },
  {
   "cell_type": "code",
   "execution_count": null,
   "source": [
    "grid_search = GridSearchCV(estimator=random_forest, param_grid=param_grid, scoring=\"neg_root_mean_squared_error\")\r\n",
    "grid_search.fit(X_eval, X_eval, y_eval)"
   ],
   "outputs": [],
   "metadata": {}
  },
  {
   "cell_type": "code",
   "execution_count": 93,
   "source": [
    "forest_model = random_forest.fit(train_X, train_y)\r\n",
    "\r\n",
    "forest_perm = PermutationImportance(forest_model, random_state=1).fit(val_X, val_y)\r\n",
    "forest_eli5 = eli5.explain_weights_df(forest_perm, feature_names=val_X.columns.tolist())\r\n",
    "eli5.show_weights(forest_perm, feature_names = val_X.columns.tolist(), top=10)"
   ],
   "outputs": [
    {
     "output_type": "execute_result",
     "data": {
      "text/html": [
       "\n",
       "    <style>\n",
       "    table.eli5-weights tr:hover {\n",
       "        filter: brightness(85%);\n",
       "    }\n",
       "</style>\n",
       "\n",
       "\n",
       "\n",
       "    \n",
       "\n",
       "    \n",
       "\n",
       "    \n",
       "\n",
       "    \n",
       "\n",
       "    \n",
       "\n",
       "    \n",
       "\n",
       "\n",
       "    \n",
       "\n",
       "    \n",
       "\n",
       "    \n",
       "\n",
       "    \n",
       "\n",
       "    \n",
       "\n",
       "    \n",
       "\n",
       "\n",
       "    \n",
       "\n",
       "    \n",
       "\n",
       "    \n",
       "\n",
       "    \n",
       "\n",
       "    \n",
       "        <table class=\"eli5-weights eli5-feature-importances\" style=\"border-collapse: collapse; border: none; margin-top: 0em; table-layout: auto;\">\n",
       "    <thead>\n",
       "    <tr style=\"border: none;\">\n",
       "        <th style=\"padding: 0 1em 0 0.5em; text-align: right; border: none;\">Weight</th>\n",
       "        <th style=\"padding: 0 0.5em 0 0.5em; text-align: left; border: none;\">Feature</th>\n",
       "    </tr>\n",
       "    </thead>\n",
       "    <tbody>\n",
       "    \n",
       "        <tr style=\"background-color: hsl(120, 100.00%, 80.00%); border: none;\">\n",
       "            <td style=\"padding: 0 1em 0 0.5em; text-align: right; border: none;\">\n",
       "                1.2772\n",
       "                \n",
       "                    &plusmn; 0.1166\n",
       "                \n",
       "            </td>\n",
       "            <td style=\"padding: 0 0.5em 0 0.5em; text-align: left; border: none;\">\n",
       "                AreaQuality\n",
       "            </td>\n",
       "        </tr>\n",
       "    \n",
       "        <tr style=\"background-color: hsl(120, 100.00%, 99.51%); border: none;\">\n",
       "            <td style=\"padding: 0 1em 0 0.5em; text-align: right; border: none;\">\n",
       "                0.0064\n",
       "                \n",
       "                    &plusmn; 0.0018\n",
       "                \n",
       "            </td>\n",
       "            <td style=\"padding: 0 0.5em 0 0.5em; text-align: left; border: none;\">\n",
       "                YearRemodAdd\n",
       "            </td>\n",
       "        </tr>\n",
       "    \n",
       "        <tr style=\"background-color: hsl(120, 100.00%, 99.57%); border: none;\">\n",
       "            <td style=\"padding: 0 1em 0 0.5em; text-align: right; border: none;\">\n",
       "                0.0053\n",
       "                \n",
       "                    &plusmn; 0.0013\n",
       "                \n",
       "            </td>\n",
       "            <td style=\"padding: 0 0.5em 0 0.5em; text-align: left; border: none;\">\n",
       "                OverallCond\n",
       "            </td>\n",
       "        </tr>\n",
       "    \n",
       "        <tr style=\"background-color: hsl(120, 100.00%, 99.59%); border: none;\">\n",
       "            <td style=\"padding: 0 1em 0 0.5em; text-align: right; border: none;\">\n",
       "                0.0049\n",
       "                \n",
       "                    &plusmn; 0.0008\n",
       "                \n",
       "            </td>\n",
       "            <td style=\"padding: 0 0.5em 0 0.5em; text-align: left; border: none;\">\n",
       "                YearAge\n",
       "            </td>\n",
       "        </tr>\n",
       "    \n",
       "        <tr style=\"background-color: hsl(120, 100.00%, 99.64%); border: none;\">\n",
       "            <td style=\"padding: 0 1em 0 0.5em; text-align: right; border: none;\">\n",
       "                0.0041\n",
       "                \n",
       "                    &plusmn; 0.0011\n",
       "                \n",
       "            </td>\n",
       "            <td style=\"padding: 0 0.5em 0 0.5em; text-align: left; border: none;\">\n",
       "                CentralAir\n",
       "            </td>\n",
       "        </tr>\n",
       "    \n",
       "        <tr style=\"background-color: hsl(120, 100.00%, 99.65%); border: none;\">\n",
       "            <td style=\"padding: 0 1em 0 0.5em; text-align: right; border: none;\">\n",
       "                0.0039\n",
       "                \n",
       "                    &plusmn; 0.0015\n",
       "                \n",
       "            </td>\n",
       "            <td style=\"padding: 0 0.5em 0 0.5em; text-align: left; border: none;\">\n",
       "                BsmtUnfSF\n",
       "            </td>\n",
       "        </tr>\n",
       "    \n",
       "        <tr style=\"background-color: hsl(120, 100.00%, 99.65%); border: none;\">\n",
       "            <td style=\"padding: 0 1em 0 0.5em; text-align: right; border: none;\">\n",
       "                0.0039\n",
       "                \n",
       "                    &plusmn; 0.0010\n",
       "                \n",
       "            </td>\n",
       "            <td style=\"padding: 0 0.5em 0 0.5em; text-align: left; border: none;\">\n",
       "                MSZoning_C (all)\n",
       "            </td>\n",
       "        </tr>\n",
       "    \n",
       "        <tr style=\"background-color: hsl(120, 100.00%, 99.69%); border: none;\">\n",
       "            <td style=\"padding: 0 1em 0 0.5em; text-align: right; border: none;\">\n",
       "                0.0033\n",
       "                \n",
       "                    &plusmn; 0.0017\n",
       "                \n",
       "            </td>\n",
       "            <td style=\"padding: 0 0.5em 0 0.5em; text-align: left; border: none;\">\n",
       "                GarageFinish\n",
       "            </td>\n",
       "        </tr>\n",
       "    \n",
       "        <tr style=\"background-color: hsl(120, 100.00%, 99.71%); border: none;\">\n",
       "            <td style=\"padding: 0 1em 0 0.5em; text-align: right; border: none;\">\n",
       "                0.0031\n",
       "                \n",
       "                    &plusmn; 0.0027\n",
       "                \n",
       "            </td>\n",
       "            <td style=\"padding: 0 0.5em 0 0.5em; text-align: left; border: none;\">\n",
       "                BsmtFinSF1\n",
       "            </td>\n",
       "        </tr>\n",
       "    \n",
       "        <tr style=\"background-color: hsl(120, 100.00%, 99.77%); border: none;\">\n",
       "            <td style=\"padding: 0 1em 0 0.5em; text-align: right; border: none;\">\n",
       "                0.0022\n",
       "                \n",
       "                    &plusmn; 0.0011\n",
       "                \n",
       "            </td>\n",
       "            <td style=\"padding: 0 0.5em 0 0.5em; text-align: left; border: none;\">\n",
       "                OverallQualandCond\n",
       "            </td>\n",
       "        </tr>\n",
       "    \n",
       "    \n",
       "        \n",
       "            <tr style=\"background-color: hsl(120, 100.00%, 99.77%); border: none;\">\n",
       "                <td colspan=\"2\" style=\"padding: 0 0.5em 0 0.5em; text-align: center; border: none; white-space: nowrap;\">\n",
       "                    <i>&hellip; 179 more &hellip;</i>\n",
       "                </td>\n",
       "            </tr>\n",
       "        \n",
       "    \n",
       "    </tbody>\n",
       "</table>\n",
       "    \n",
       "\n",
       "    \n",
       "\n",
       "\n",
       "    \n",
       "\n",
       "    \n",
       "\n",
       "    \n",
       "\n",
       "    \n",
       "\n",
       "    \n",
       "\n",
       "    \n",
       "\n",
       "\n",
       "\n"
      ],
      "text/plain": [
       "<IPython.core.display.HTML object>"
      ]
     },
     "metadata": {},
     "execution_count": 93
    }
   ],
   "metadata": {}
  },
  {
   "cell_type": "code",
   "execution_count": 105,
   "source": [
    "# Evaluation\r\n",
    "random_forest_scores = cross_val_score(random_forest, X_eval, y_eval, scoring=\"neg_root_mean_squared_error\")\r\n",
    "print(\"Random forest regressor RMSE:\", random_forest_scores.mean())"
   ],
   "outputs": [
    {
     "output_type": "stream",
     "name": "stdout",
     "text": [
      "Random forest regressor RMSE: -0.12988154747687836\n"
     ]
    }
   ],
   "metadata": {}
  },
  {
   "cell_type": "code",
   "execution_count": 106,
   "source": [
    "random_forest.fit(X_train, y_train)\r\n",
    "random_forest_predictions = random_forest.predict(final_test_data)\r\n",
    "\r\n",
    "output = pd.DataFrame({\"Id\": test_data[\"Id\"], \"SalePrice\": random_forest_predictions})\r\n",
    "output.to_csv(\"submissions/random_forest_predictions.csv\", index=False)"
   ],
   "outputs": [],
   "metadata": {}
  },
  {
   "cell_type": "code",
   "execution_count": 131,
   "source": [
    "forest_selected_features = feature_selector(forest_eli5, 0.12886, random_forest, train_evaluation_data, \"SalePrice\")"
   ],
   "outputs": [
    {
     "output_type": "stream",
     "name": "stdout",
     "text": [
      "The score was improved by 0.00107\n",
      "The best score: 0.12779\n"
     ]
    }
   ],
   "metadata": {}
  },
  {
   "cell_type": "code",
   "execution_count": 132,
   "source": [
    "X_train_selected = final_train_data[forest_selected_features]\r\n",
    "final_test_selected_data = final_test_data[forest_selected_features]\r\n",
    "\r\n",
    "random_forest.fit(X_train_selected, y_train)\r\n",
    "forest_predictions = random_forest.predict(final_test_selected_data)\r\n",
    "\r\n",
    "output = pd.DataFrame({\"Id\": test_data[\"Id\"], \"SalePrice\": forest_predictions})\r\n",
    "output.to_csv(\"submissions/forest_predictions.csv\", index=False)"
   ],
   "outputs": [],
   "metadata": {}
  },
  {
   "cell_type": "markdown",
   "source": [
    "## Models with polynomial features"
   ],
   "metadata": {}
  },
  {
   "cell_type": "code",
   "execution_count": 108,
   "source": [
    "# Create sets for cross validation.\r\n",
    "train_poly_eval_data = train_oh_encoded_polynomial_data.copy()\r\n",
    "train_poly_eval_data[\"SalePrice\"] = np.log(train_poly_eval_data[\"SalePrice\"])"
   ],
   "outputs": [],
   "metadata": {}
  },
  {
   "cell_type": "code",
   "execution_count": 109,
   "source": [
    "final_train_poly_data, final_test_poly_data = train_oh_encoded_polynomial_data.align(test_oh_encoded_polynomial_data, join='inner', axis=1)\r\n",
    "\r\n",
    "print(\"Columns of final train set with polynomial features:\", final_train_poly_data.shape[1])\r\n",
    "print(\"Columns of final test set with polynomial features:\", final_test_poly_data.shape[1])"
   ],
   "outputs": [
    {
     "output_type": "stream",
     "name": "stdout",
     "text": [
      "Columns of final train set with polynomial features: 685\n",
      "Columns of final test set with polynomial features: 685\n"
     ]
    }
   ],
   "metadata": {}
  },
  {
   "cell_type": "code",
   "execution_count": 110,
   "source": [
    "target = \"SalePrice\"\r\n",
    "final_poly_features = [column for column in final_train_poly_data]\r\n",
    "\r\n",
    "X_poly_eval = train_poly_eval_data[final_poly_features]\r\n",
    "y_poly_eval = train_poly_eval_data[target]\r\n",
    "\r\n",
    "X_poly_train = final_train_poly_data[final_poly_features]\r\n",
    "y_poly_train = train_oh_encoded_polynomial_data[target]"
   ],
   "outputs": [],
   "metadata": {}
  },
  {
   "cell_type": "code",
   "execution_count": 111,
   "source": [
    "train_poly_X, val_poly_X, train_poly_y, val_poly_y = train_test_split(X_poly_eval, y_poly_eval, random_state=1)"
   ],
   "outputs": [],
   "metadata": {}
  },
  {
   "cell_type": "markdown",
   "source": [
    "### Linear regression"
   ],
   "metadata": {}
  },
  {
   "cell_type": "code",
   "execution_count": 112,
   "source": [
    "lin_reg_poly = LinearRegression(normalize=True)"
   ],
   "outputs": [],
   "metadata": {}
  },
  {
   "cell_type": "code",
   "execution_count": 113,
   "source": [
    "lin_reg_poly_model = lin_reg_poly.fit(train_poly_X, train_poly_y)\r\n",
    "\r\n",
    "lin_reg_poly_perm = PermutationImportance(lin_reg_poly_model, random_state=1).fit(val_poly_X, val_poly_y)\r\n",
    "lin_reg_poly_eli5 = eli5.explain_weights_df(lin_reg_poly_perm, feature_names=val_poly_X.columns.tolist())\r\n",
    "eli5.show_weights(lin_reg_poly_perm, feature_names=val_poly_X.columns.tolist(), top=10)"
   ],
   "outputs": [
    {
     "output_type": "execute_result",
     "data": {
      "text/html": [
       "\n",
       "    <style>\n",
       "    table.eli5-weights tr:hover {\n",
       "        filter: brightness(85%);\n",
       "    }\n",
       "</style>\n",
       "\n",
       "\n",
       "\n",
       "    \n",
       "\n",
       "    \n",
       "\n",
       "    \n",
       "\n",
       "    \n",
       "\n",
       "    \n",
       "\n",
       "    \n",
       "\n",
       "\n",
       "    \n",
       "\n",
       "    \n",
       "\n",
       "    \n",
       "\n",
       "    \n",
       "\n",
       "    \n",
       "\n",
       "    \n",
       "\n",
       "\n",
       "    \n",
       "\n",
       "    \n",
       "\n",
       "    \n",
       "\n",
       "    \n",
       "\n",
       "    \n",
       "        <table class=\"eli5-weights eli5-feature-importances\" style=\"border-collapse: collapse; border: none; margin-top: 0em; table-layout: auto;\">\n",
       "    <thead>\n",
       "    <tr style=\"border: none;\">\n",
       "        <th style=\"padding: 0 1em 0 0.5em; text-align: right; border: none;\">Weight</th>\n",
       "        <th style=\"padding: 0 0.5em 0 0.5em; text-align: left; border: none;\">Feature</th>\n",
       "    </tr>\n",
       "    </thead>\n",
       "    <tbody>\n",
       "    \n",
       "        <tr style=\"background-color: hsl(120, 100.00%, 80.00%); border: none;\">\n",
       "            <td style=\"padding: 0 1em 0 0.5em; text-align: right; border: none;\">\n",
       "                142635.5553\n",
       "                \n",
       "                    &plusmn; 16505.3901\n",
       "                \n",
       "            </td>\n",
       "            <td style=\"padding: 0 0.5em 0 0.5em; text-align: left; border: none;\">\n",
       "                GarageAge\n",
       "            </td>\n",
       "        </tr>\n",
       "    \n",
       "        <tr style=\"background-color: hsl(120, 100.00%, 81.72%); border: none;\">\n",
       "            <td style=\"padding: 0 1em 0 0.5em; text-align: right; border: none;\">\n",
       "                125419.2099\n",
       "                \n",
       "                    &plusmn; 18162.3017\n",
       "                \n",
       "            </td>\n",
       "            <td style=\"padding: 0 0.5em 0 0.5em; text-align: left; border: none;\">\n",
       "                YrSold GarageAge\n",
       "            </td>\n",
       "        </tr>\n",
       "    \n",
       "        <tr style=\"background-color: hsl(120, 100.00%, 95.07%); border: none;\">\n",
       "            <td style=\"padding: 0 1em 0 0.5em; text-align: right; border: none;\">\n",
       "                19274.3302\n",
       "                \n",
       "                    &plusmn; 1636.0085\n",
       "                \n",
       "            </td>\n",
       "            <td style=\"padding: 0 0.5em 0 0.5em; text-align: left; border: none;\">\n",
       "                GarageAge^2\n",
       "            </td>\n",
       "        </tr>\n",
       "    \n",
       "        <tr style=\"background-color: hsl(120, 100.00%, 95.59%); border: none;\">\n",
       "            <td style=\"padding: 0 1em 0 0.5em; text-align: right; border: none;\">\n",
       "                16448.8595\n",
       "                \n",
       "                    &plusmn; 1189.1568\n",
       "                \n",
       "            </td>\n",
       "            <td style=\"padding: 0 0.5em 0 0.5em; text-align: left; border: none;\">\n",
       "                GarageType_None\n",
       "            </td>\n",
       "        </tr>\n",
       "    \n",
       "        <tr style=\"background-color: hsl(120, 100.00%, 96.19%); border: none;\">\n",
       "            <td style=\"padding: 0 1em 0 0.5em; text-align: right; border: none;\">\n",
       "                13339.9736\n",
       "                \n",
       "                    &plusmn; 972.5838\n",
       "                \n",
       "            </td>\n",
       "            <td style=\"padding: 0 0.5em 0 0.5em; text-align: left; border: none;\">\n",
       "                GarageCond\n",
       "            </td>\n",
       "        </tr>\n",
       "    \n",
       "        <tr style=\"background-color: hsl(120, 100.00%, 97.14%); border: none;\">\n",
       "            <td style=\"padding: 0 1em 0 0.5em; text-align: right; border: none;\">\n",
       "                8855.1163\n",
       "                \n",
       "                    &plusmn; 471.7984\n",
       "                \n",
       "            </td>\n",
       "            <td style=\"padding: 0 0.5em 0 0.5em; text-align: left; border: none;\">\n",
       "                GarageCond YrSold\n",
       "            </td>\n",
       "        </tr>\n",
       "    \n",
       "        <tr style=\"background-color: hsl(120, 100.00%, 97.54%); border: none;\">\n",
       "            <td style=\"padding: 0 1em 0 0.5em; text-align: right; border: none;\">\n",
       "                7146.6136\n",
       "                \n",
       "                    &plusmn; 870.4557\n",
       "                \n",
       "            </td>\n",
       "            <td style=\"padding: 0 0.5em 0 0.5em; text-align: left; border: none;\">\n",
       "                GrLivArea YrSold\n",
       "            </td>\n",
       "        </tr>\n",
       "    \n",
       "        <tr style=\"background-color: hsl(120, 100.00%, 97.62%); border: none;\">\n",
       "            <td style=\"padding: 0 1em 0 0.5em; text-align: right; border: none;\">\n",
       "                6819.6419\n",
       "                \n",
       "                    &plusmn; 691.7867\n",
       "                \n",
       "            </td>\n",
       "            <td style=\"padding: 0 0.5em 0 0.5em; text-align: left; border: none;\">\n",
       "                FullBath\n",
       "            </td>\n",
       "        </tr>\n",
       "    \n",
       "        <tr style=\"background-color: hsl(120, 100.00%, 97.84%); border: none;\">\n",
       "            <td style=\"padding: 0 1em 0 0.5em; text-align: right; border: none;\">\n",
       "                5945.6657\n",
       "                \n",
       "                    &plusmn; 363.5553\n",
       "                \n",
       "            </td>\n",
       "            <td style=\"padding: 0 0.5em 0 0.5em; text-align: left; border: none;\">\n",
       "                FullBath YrSold\n",
       "            </td>\n",
       "        </tr>\n",
       "    \n",
       "        <tr style=\"background-color: hsl(120, 100.00%, 97.84%); border: none;\">\n",
       "            <td style=\"padding: 0 1em 0 0.5em; text-align: right; border: none;\">\n",
       "                5929.2874\n",
       "                \n",
       "                    &plusmn; 588.6585\n",
       "                \n",
       "            </td>\n",
       "            <td style=\"padding: 0 0.5em 0 0.5em; text-align: left; border: none;\">\n",
       "                ExterQual YrSold\n",
       "            </td>\n",
       "        </tr>\n",
       "    \n",
       "    \n",
       "        \n",
       "            <tr style=\"background-color: hsl(120, 100.00%, 97.84%); border: none;\">\n",
       "                <td colspan=\"2\" style=\"padding: 0 0.5em 0 0.5em; text-align: center; border: none; white-space: nowrap;\">\n",
       "                    <i>&hellip; 675 more &hellip;</i>\n",
       "                </td>\n",
       "            </tr>\n",
       "        \n",
       "    \n",
       "    </tbody>\n",
       "</table>\n",
       "    \n",
       "\n",
       "    \n",
       "\n",
       "\n",
       "    \n",
       "\n",
       "    \n",
       "\n",
       "    \n",
       "\n",
       "    \n",
       "\n",
       "    \n",
       "\n",
       "    \n",
       "\n",
       "\n",
       "\n"
      ],
      "text/plain": [
       "<IPython.core.display.HTML object>"
      ]
     },
     "metadata": {},
     "execution_count": 113
    }
   ],
   "metadata": {}
  },
  {
   "cell_type": "code",
   "execution_count": 114,
   "source": [
    "\r\n",
    "# Evaluation\r\n",
    "lin_reg_poly_scores = cross_val_score(lin_reg_poly, X_poly_eval, y_poly_eval, scoring=\"neg_root_mean_squared_error\")\r\n",
    "print(\"RMSE of linear regression with polynomial features:\", lin_reg_poly_scores.mean())"
   ],
   "outputs": [
    {
     "output_type": "stream",
     "name": "stdout",
     "text": [
      "RMSE of linear regression with polynomial features: -0.37291061513671736\n"
     ]
    }
   ],
   "metadata": {}
  },
  {
   "cell_type": "code",
   "execution_count": 119,
   "source": [
    "lin_reg_selected_poly_features = feature_selector(lin_reg_poly_eli5, 0.37291, lin_reg_poly, train_poly_eval_data, \"SalePrice\", divider=10000)"
   ],
   "outputs": [
    {
     "output_type": "stream",
     "name": "stdout",
     "text": [
      "The score was improved by 0.10601\n",
      "The best score: 0.2669\n"
     ]
    }
   ],
   "metadata": {}
  },
  {
   "cell_type": "markdown",
   "source": [
    "### Ridge regression"
   ],
   "metadata": {}
  },
  {
   "cell_type": "code",
   "execution_count": 120,
   "source": [
    "ridge_reg_poly = Ridge(alpha=0.3, normalize=True)"
   ],
   "outputs": [],
   "metadata": {}
  },
  {
   "cell_type": "markdown",
   "source": [
    "Significant improve to cross validation score was after normalizing the data but Kaggle score still differs a lot."
   ],
   "metadata": {}
  },
  {
   "cell_type": "code",
   "execution_count": 121,
   "source": [
    "ridge_reg_poly_model = ridge_reg_poly.fit(train_poly_X, train_poly_y)\r\n",
    "\r\n",
    "ridge_reg_poly_perm = PermutationImportance(ridge_reg_poly_model, random_state=1).fit(val_poly_X, val_poly_y)\r\n",
    "ridge_poly_eli5 = eli5.explain_weights_df(ridge_reg_poly_perm, feature_names=val_poly_X.columns.tolist())\r\n",
    "eli5.show_weights(ridge_reg_poly_perm, feature_names = val_poly_X.columns.tolist(), top=10)"
   ],
   "outputs": [
    {
     "output_type": "execute_result",
     "data": {
      "text/html": [
       "\n",
       "    <style>\n",
       "    table.eli5-weights tr:hover {\n",
       "        filter: brightness(85%);\n",
       "    }\n",
       "</style>\n",
       "\n",
       "\n",
       "\n",
       "    \n",
       "\n",
       "    \n",
       "\n",
       "    \n",
       "\n",
       "    \n",
       "\n",
       "    \n",
       "\n",
       "    \n",
       "\n",
       "\n",
       "    \n",
       "\n",
       "    \n",
       "\n",
       "    \n",
       "\n",
       "    \n",
       "\n",
       "    \n",
       "\n",
       "    \n",
       "\n",
       "\n",
       "    \n",
       "\n",
       "    \n",
       "\n",
       "    \n",
       "\n",
       "    \n",
       "\n",
       "    \n",
       "        <table class=\"eli5-weights eli5-feature-importances\" style=\"border-collapse: collapse; border: none; margin-top: 0em; table-layout: auto;\">\n",
       "    <thead>\n",
       "    <tr style=\"border: none;\">\n",
       "        <th style=\"padding: 0 1em 0 0.5em; text-align: right; border: none;\">Weight</th>\n",
       "        <th style=\"padding: 0 0.5em 0 0.5em; text-align: left; border: none;\">Feature</th>\n",
       "    </tr>\n",
       "    </thead>\n",
       "    <tbody>\n",
       "    \n",
       "        <tr style=\"background-color: hsl(120, 100.00%, 80.00%); border: none;\">\n",
       "            <td style=\"padding: 0 1em 0 0.5em; text-align: right; border: none;\">\n",
       "                0.0052\n",
       "                \n",
       "                    &plusmn; 0.0012\n",
       "                \n",
       "            </td>\n",
       "            <td style=\"padding: 0 0.5em 0 0.5em; text-align: left; border: none;\">\n",
       "                MSZoning_C (all)\n",
       "            </td>\n",
       "        </tr>\n",
       "    \n",
       "        <tr style=\"background-color: hsl(120, 100.00%, 80.17%); border: none;\">\n",
       "            <td style=\"padding: 0 1em 0 0.5em; text-align: right; border: none;\">\n",
       "                0.0051\n",
       "                \n",
       "                    &plusmn; 0.0020\n",
       "                \n",
       "            </td>\n",
       "            <td style=\"padding: 0 0.5em 0 0.5em; text-align: left; border: none;\">\n",
       "                Neighborhood_Crawfor\n",
       "            </td>\n",
       "        </tr>\n",
       "    \n",
       "        <tr style=\"background-color: hsl(120, 100.00%, 86.36%); border: none;\">\n",
       "            <td style=\"padding: 0 1em 0 0.5em; text-align: right; border: none;\">\n",
       "                0.0030\n",
       "                \n",
       "                    &plusmn; 0.0014\n",
       "                \n",
       "            </td>\n",
       "            <td style=\"padding: 0 0.5em 0 0.5em; text-align: left; border: none;\">\n",
       "                BsmtFinSF1\n",
       "            </td>\n",
       "        </tr>\n",
       "    \n",
       "        <tr style=\"background-color: hsl(120, 100.00%, 89.19%); border: none;\">\n",
       "            <td style=\"padding: 0 1em 0 0.5em; text-align: right; border: none;\">\n",
       "                0.0022\n",
       "                \n",
       "                    &plusmn; 0.0012\n",
       "                \n",
       "            </td>\n",
       "            <td style=\"padding: 0 0.5em 0 0.5em; text-align: left; border: none;\">\n",
       "                Neighborhood_StoneBr\n",
       "            </td>\n",
       "        </tr>\n",
       "    \n",
       "        <tr style=\"background-color: hsl(120, 100.00%, 89.24%); border: none;\">\n",
       "            <td style=\"padding: 0 1em 0 0.5em; text-align: right; border: none;\">\n",
       "                0.0021\n",
       "                \n",
       "                    &plusmn; 0.0020\n",
       "                \n",
       "            </td>\n",
       "            <td style=\"padding: 0 0.5em 0 0.5em; text-align: left; border: none;\">\n",
       "                Functional_Maj\n",
       "            </td>\n",
       "        </tr>\n",
       "    \n",
       "        <tr style=\"background-color: hsl(120, 100.00%, 89.91%); border: none;\">\n",
       "            <td style=\"padding: 0 1em 0 0.5em; text-align: right; border: none;\">\n",
       "                0.0020\n",
       "                \n",
       "                    &plusmn; 0.0009\n",
       "                \n",
       "            </td>\n",
       "            <td style=\"padding: 0 0.5em 0 0.5em; text-align: left; border: none;\">\n",
       "                GarageCars\n",
       "            </td>\n",
       "        </tr>\n",
       "    \n",
       "        <tr style=\"background-color: hsl(120, 100.00%, 90.34%); border: none;\">\n",
       "            <td style=\"padding: 0 1em 0 0.5em; text-align: right; border: none;\">\n",
       "                0.0018\n",
       "                \n",
       "                    &plusmn; 0.0011\n",
       "                \n",
       "            </td>\n",
       "            <td style=\"padding: 0 0.5em 0 0.5em; text-align: left; border: none;\">\n",
       "                Exterior1st_Brick\n",
       "            </td>\n",
       "        </tr>\n",
       "    \n",
       "        <tr style=\"background-color: hsl(120, 100.00%, 91.24%); border: none;\">\n",
       "            <td style=\"padding: 0 1em 0 0.5em; text-align: right; border: none;\">\n",
       "                0.0016\n",
       "                \n",
       "                    &plusmn; 0.0012\n",
       "                \n",
       "            </td>\n",
       "            <td style=\"padding: 0 0.5em 0 0.5em; text-align: left; border: none;\">\n",
       "                TotalBsmtSF\n",
       "            </td>\n",
       "        </tr>\n",
       "    \n",
       "        <tr style=\"background-color: hsl(120, 100.00%, 91.70%); border: none;\">\n",
       "            <td style=\"padding: 0 1em 0 0.5em; text-align: right; border: none;\">\n",
       "                0.0015\n",
       "                \n",
       "                    &plusmn; 0.0012\n",
       "                \n",
       "            </td>\n",
       "            <td style=\"padding: 0 0.5em 0 0.5em; text-align: left; border: none;\">\n",
       "                TotalHouseArea_Sqrt\n",
       "            </td>\n",
       "        </tr>\n",
       "    \n",
       "        <tr style=\"background-color: hsl(120, 100.00%, 92.00%); border: none;\">\n",
       "            <td style=\"padding: 0 1em 0 0.5em; text-align: right; border: none;\">\n",
       "                0.0014\n",
       "                \n",
       "                    &plusmn; 0.0004\n",
       "                \n",
       "            </td>\n",
       "            <td style=\"padding: 0 0.5em 0 0.5em; text-align: left; border: none;\">\n",
       "                Neighborhood_Edwards\n",
       "            </td>\n",
       "        </tr>\n",
       "    \n",
       "    \n",
       "        \n",
       "            <tr style=\"background-color: hsl(120, 100.00%, 92.00%); border: none;\">\n",
       "                <td colspan=\"2\" style=\"padding: 0 0.5em 0 0.5em; text-align: center; border: none; white-space: nowrap;\">\n",
       "                    <i>&hellip; 675 more &hellip;</i>\n",
       "                </td>\n",
       "            </tr>\n",
       "        \n",
       "    \n",
       "    </tbody>\n",
       "</table>\n",
       "    \n",
       "\n",
       "    \n",
       "\n",
       "\n",
       "    \n",
       "\n",
       "    \n",
       "\n",
       "    \n",
       "\n",
       "    \n",
       "\n",
       "    \n",
       "\n",
       "    \n",
       "\n",
       "\n",
       "\n"
      ],
      "text/plain": [
       "<IPython.core.display.HTML object>"
      ]
     },
     "metadata": {},
     "execution_count": 121
    }
   ],
   "metadata": {}
  },
  {
   "cell_type": "code",
   "execution_count": 122,
   "source": [
    "# Evaluation\r\n",
    "ridge_reg_poly_scores = cross_val_score(ridge_reg_poly, X_poly_eval, y_poly_eval, scoring=\"neg_root_mean_squared_error\")\r\n",
    "print(\"RMSE of Ridge regression with polynomial features:\", ridge_reg_poly_scores.mean())"
   ],
   "outputs": [
    {
     "output_type": "stream",
     "name": "stdout",
     "text": [
      "RMSE of Ridge regression with polynomial features: -0.11077917120363634\n"
     ]
    }
   ],
   "metadata": {}
  },
  {
   "cell_type": "code",
   "execution_count": null,
   "source": [
    "ridge_reg_poly.fit(X_poly_train, y_poly_train)\r\n",
    "ridge_reg_poly_predictions = ridge_reg_poly.predict(final_test_poly_data)\r\n",
    "\r\n",
    "output = pd.DataFrame({\"Id\": test_data[\"Id\"], \"SalePrice\": ridge_reg_poly_predictions})\r\n",
    "output.to_csv(\"submissions/ridge_polynomial_predictions.csv\", index=False)"
   ],
   "outputs": [],
   "metadata": {}
  },
  {
   "cell_type": "code",
   "execution_count": 125,
   "source": [
    "ridge_selected_poly_features = feature_selector(ridge_poly_eli5, 0.11078, ridge_reg_poly, train_poly_eval_data, \"SalePrice\", divider=100000)"
   ],
   "outputs": [
    {
     "output_type": "stream",
     "name": "stdout",
     "text": [
      "The score was improved by 0.0022\n",
      "The best score: 0.10858\n"
     ]
    }
   ],
   "metadata": {}
  },
  {
   "cell_type": "code",
   "execution_count": 130,
   "source": [
    "X_train_selected_poly = final_train_poly_data[ridge_selected_poly_features]\r\n",
    "final_test_selected_data = final_test_poly_data[ridge_selected_poly_features]\r\n",
    "\r\n",
    "ridge_reg_poly.fit(X_train_selected_poly, y_train)\r\n",
    "ridge_poly_selected_predictions = ridge_reg_poly.predict(final_test_selected_data)\r\n",
    "\r\n",
    "output = pd.DataFrame({\"Id\": test_data[\"Id\"], \"SalePrice\": ridge_poly_selected_predictions})\r\n",
    "output.to_csv(\"submissions/ridge_poly_predictions.csv\", index=False)"
   ],
   "outputs": [],
   "metadata": {}
  },
  {
   "cell_type": "markdown",
   "source": [
    "### Lasso regression"
   ],
   "metadata": {}
  },
  {
   "cell_type": "code",
   "execution_count": 133,
   "source": [
    "lasso_reg_poly = Lasso(alpha=6)"
   ],
   "outputs": [],
   "metadata": {}
  },
  {
   "cell_type": "code",
   "execution_count": 134,
   "source": [
    "lasso_reg_poly_model = lasso_reg_poly.fit(train_poly_X, train_poly_y)\r\n",
    "\r\n",
    "lasso_reg_poly_perm = PermutationImportance(lasso_reg_poly_model, random_state=1).fit(val_poly_X, val_poly_y)\r\n",
    "lasso_poly_eli5 = eli5.explain_weights_df(lasso_reg_poly_perm, feature_names=val_poly_X.columns.tolist())\r\n",
    "eli5.show_weights(lasso_reg_poly_perm, feature_names = val_poly_X.columns.tolist(), top=10)"
   ],
   "outputs": [
    {
     "output_type": "stream",
     "name": "stderr",
     "text": [
      "C:\\Users\\Gediminas\\anaconda3\\lib\\site-packages\\sklearn\\linear_model\\_coordinate_descent.py:530: ConvergenceWarning: Objective did not converge. You might want to increase the number of iterations. Duality gap: 7.437760713235029, tolerance: 0.01749952005813236\n",
      "  model = cd_fast.enet_coordinate_descent(\n"
     ]
    },
    {
     "output_type": "execute_result",
     "data": {
      "text/html": [
       "\n",
       "    <style>\n",
       "    table.eli5-weights tr:hover {\n",
       "        filter: brightness(85%);\n",
       "    }\n",
       "</style>\n",
       "\n",
       "\n",
       "\n",
       "    \n",
       "\n",
       "    \n",
       "\n",
       "    \n",
       "\n",
       "    \n",
       "\n",
       "    \n",
       "\n",
       "    \n",
       "\n",
       "\n",
       "    \n",
       "\n",
       "    \n",
       "\n",
       "    \n",
       "\n",
       "    \n",
       "\n",
       "    \n",
       "\n",
       "    \n",
       "\n",
       "\n",
       "    \n",
       "\n",
       "    \n",
       "\n",
       "    \n",
       "\n",
       "    \n",
       "\n",
       "    \n",
       "        <table class=\"eli5-weights eli5-feature-importances\" style=\"border-collapse: collapse; border: none; margin-top: 0em; table-layout: auto;\">\n",
       "    <thead>\n",
       "    <tr style=\"border: none;\">\n",
       "        <th style=\"padding: 0 1em 0 0.5em; text-align: right; border: none;\">Weight</th>\n",
       "        <th style=\"padding: 0 0.5em 0 0.5em; text-align: left; border: none;\">Feature</th>\n",
       "    </tr>\n",
       "    </thead>\n",
       "    <tbody>\n",
       "    \n",
       "        <tr style=\"background-color: hsl(120, 100.00%, 80.00%); border: none;\">\n",
       "            <td style=\"padding: 0 1em 0 0.5em; text-align: right; border: none;\">\n",
       "                0.3809\n",
       "                \n",
       "                    &plusmn; 0.0282\n",
       "                \n",
       "            </td>\n",
       "            <td style=\"padding: 0 0.5em 0 0.5em; text-align: left; border: none;\">\n",
       "                AreaQuality\n",
       "            </td>\n",
       "        </tr>\n",
       "    \n",
       "        <tr style=\"background-color: hsl(120, 100.00%, 86.37%); border: none;\">\n",
       "            <td style=\"padding: 0 1em 0 0.5em; text-align: right; border: none;\">\n",
       "                0.2201\n",
       "                \n",
       "                    &plusmn; 0.0185\n",
       "                \n",
       "            </td>\n",
       "            <td style=\"padding: 0 0.5em 0 0.5em; text-align: left; border: none;\">\n",
       "                YearRemodAdd 2ndFlrSF\n",
       "            </td>\n",
       "        </tr>\n",
       "    \n",
       "        <tr style=\"background-color: hsl(120, 100.00%, 91.12%); border: none;\">\n",
       "            <td style=\"padding: 0 1em 0 0.5em; text-align: right; border: none;\">\n",
       "                0.1194\n",
       "                \n",
       "                    &plusmn; 0.0101\n",
       "                \n",
       "            </td>\n",
       "            <td style=\"padding: 0 0.5em 0 0.5em; text-align: left; border: none;\">\n",
       "                1stFlrSF^2\n",
       "            </td>\n",
       "        </tr>\n",
       "    \n",
       "        <tr style=\"background-color: hsl(120, 100.00%, 91.33%); border: none;\">\n",
       "            <td style=\"padding: 0 1em 0 0.5em; text-align: right; border: none;\">\n",
       "                0.1155\n",
       "                \n",
       "                    &plusmn; 0.0241\n",
       "                \n",
       "            </td>\n",
       "            <td style=\"padding: 0 0.5em 0 0.5em; text-align: left; border: none;\">\n",
       "                YearRemodAdd YearAge\n",
       "            </td>\n",
       "        </tr>\n",
       "    \n",
       "        <tr style=\"background-color: hsl(120, 100.00%, 91.38%); border: none;\">\n",
       "            <td style=\"padding: 0 1em 0 0.5em; text-align: right; border: none;\">\n",
       "                0.1145\n",
       "                \n",
       "                    &plusmn; 0.0195\n",
       "                \n",
       "            </td>\n",
       "            <td style=\"padding: 0 0.5em 0 0.5em; text-align: left; border: none;\">\n",
       "                1stFlrSF GarageAge\n",
       "            </td>\n",
       "        </tr>\n",
       "    \n",
       "        <tr style=\"background-color: hsl(120, 100.00%, 93.56%); border: none;\">\n",
       "            <td style=\"padding: 0 1em 0 0.5em; text-align: right; border: none;\">\n",
       "                0.0754\n",
       "                \n",
       "                    &plusmn; 0.0101\n",
       "                \n",
       "            </td>\n",
       "            <td style=\"padding: 0 0.5em 0 0.5em; text-align: left; border: none;\">\n",
       "                LotArea GrLivArea\n",
       "            </td>\n",
       "        </tr>\n",
       "    \n",
       "        <tr style=\"background-color: hsl(120, 100.00%, 94.07%); border: none;\">\n",
       "            <td style=\"padding: 0 1em 0 0.5em; text-align: right; border: none;\">\n",
       "                0.0671\n",
       "                \n",
       "                    &plusmn; 0.0220\n",
       "                \n",
       "            </td>\n",
       "            <td style=\"padding: 0 0.5em 0 0.5em; text-align: left; border: none;\">\n",
       "                1stFlrSF YrSold\n",
       "            </td>\n",
       "        </tr>\n",
       "    \n",
       "        <tr style=\"background-color: hsl(120, 100.00%, 94.11%); border: none;\">\n",
       "            <td style=\"padding: 0 1em 0 0.5em; text-align: right; border: none;\">\n",
       "                0.0664\n",
       "                \n",
       "                    &plusmn; 0.0150\n",
       "                \n",
       "            </td>\n",
       "            <td style=\"padding: 0 0.5em 0 0.5em; text-align: left; border: none;\">\n",
       "                YearRemodAdd 1stFlrSF\n",
       "            </td>\n",
       "        </tr>\n",
       "    \n",
       "        <tr style=\"background-color: hsl(120, 100.00%, 96.27%); border: none;\">\n",
       "            <td style=\"padding: 0 1em 0 0.5em; text-align: right; border: none;\">\n",
       "                0.0346\n",
       "                \n",
       "                    &plusmn; 0.0130\n",
       "                \n",
       "            </td>\n",
       "            <td style=\"padding: 0 0.5em 0 0.5em; text-align: left; border: none;\">\n",
       "                LotArea YearRemodAdd\n",
       "            </td>\n",
       "        </tr>\n",
       "    \n",
       "        <tr style=\"background-color: hsl(120, 100.00%, 96.37%); border: none;\">\n",
       "            <td style=\"padding: 0 1em 0 0.5em; text-align: right; border: none;\">\n",
       "                0.0333\n",
       "                \n",
       "                    &plusmn; 0.0134\n",
       "                \n",
       "            </td>\n",
       "            <td style=\"padding: 0 0.5em 0 0.5em; text-align: left; border: none;\">\n",
       "                2ndFlrSF YrSold\n",
       "            </td>\n",
       "        </tr>\n",
       "    \n",
       "    \n",
       "        \n",
       "            <tr style=\"background-color: hsl(120, 100.00%, 96.37%); border: none;\">\n",
       "                <td colspan=\"2\" style=\"padding: 0 0.5em 0 0.5em; text-align: center; border: none; white-space: nowrap;\">\n",
       "                    <i>&hellip; 675 more &hellip;</i>\n",
       "                </td>\n",
       "            </tr>\n",
       "        \n",
       "    \n",
       "    </tbody>\n",
       "</table>\n",
       "    \n",
       "\n",
       "    \n",
       "\n",
       "\n",
       "    \n",
       "\n",
       "    \n",
       "\n",
       "    \n",
       "\n",
       "    \n",
       "\n",
       "    \n",
       "\n",
       "    \n",
       "\n",
       "\n",
       "\n"
      ],
      "text/plain": [
       "<IPython.core.display.HTML object>"
      ]
     },
     "metadata": {},
     "execution_count": 134
    }
   ],
   "metadata": {}
  },
  {
   "cell_type": "code",
   "execution_count": null,
   "source": [
    "# Evaluation\r\n",
    "lasso_reg_poly_scores = cross_val_score(lasso_reg_poly, X_poly_eval, y_poly_eval, scoring=\"neg_root_mean_squared_error\")"
   ],
   "outputs": [],
   "metadata": {}
  },
  {
   "cell_type": "code",
   "execution_count": 136,
   "source": [
    "print(\"RMSE of Lasso regression with polynomial features:\", lasso_reg_poly_scores.mean())"
   ],
   "outputs": [
    {
     "output_type": "stream",
     "name": "stdout",
     "text": [
      "RMSE of Lasso regression with polynomial features: -0.1328038807671686\n"
     ]
    }
   ],
   "metadata": {}
  },
  {
   "cell_type": "code",
   "execution_count": null,
   "source": [
    "lasso_selected_poly_features = feature_selector(lasso_poly_eli5, 0.13280, lasso_reg_poly, train_poly_eval_data, \"SalePrice\")"
   ],
   "outputs": [],
   "metadata": {}
  },
  {
   "cell_type": "code",
   "execution_count": 146,
   "source": [
    "X_train_selected_poly = final_train_poly_data[lasso_selected_poly_features]\r\n",
    "final_test_selected_data = final_test_poly_data[lasso_selected_poly_features]\r\n",
    "\r\n",
    "lasso_reg_poly.fit(X_train_selected_poly, y_train)\r\n",
    "lasso_poly_selected_predictions = lasso_reg_poly.predict(final_test_selected_data)\r\n",
    "\r\n",
    "output = pd.DataFrame({\"Id\": test_data[\"Id\"], \"SalePrice\": lasso_poly_selected_predictions})\r\n",
    "output.to_csv(\"submissions/lasso_poly_predictions.csv\", index=False)"
   ],
   "outputs": [
    {
     "output_type": "stream",
     "name": "stderr",
     "text": [
      "C:\\Users\\Gediminas\\anaconda3\\lib\\site-packages\\sklearn\\linear_model\\_coordinate_descent.py:530: ConvergenceWarning: Objective did not converge. You might want to increase the number of iterations. Duality gap: 383602183704.3955, tolerance: 914345994.8568735\n",
      "  model = cd_fast.enet_coordinate_descent(\n"
     ]
    }
   ],
   "metadata": {}
  },
  {
   "cell_type": "markdown",
   "source": [
    "### Random forest regressor"
   ],
   "metadata": {}
  },
  {
   "cell_type": "code",
   "execution_count": 140,
   "source": [
    "random_forest_poly = RandomForestRegressor(n_estimators=300)"
   ],
   "outputs": [],
   "metadata": {}
  },
  {
   "cell_type": "code",
   "execution_count": 141,
   "source": [
    "random_forest_poly_model = random_forest_poly.fit(train_poly_X, train_poly_y)\r\n",
    "\r\n",
    "random_forest_poly_perm = PermutationImportance(random_forest_poly_model, random_state=1).fit(val_poly_X, val_poly_y)\r\n",
    "random_forest_poly_eli5 = eli5.explain_weights_df(random_forest_poly_perm, feature_names=val_poly_X.columns.tolist())\r\n",
    "eli5.show_weights(random_forest_poly_perm, feature_names = val_poly_X.columns.tolist(), top=10)"
   ],
   "outputs": [
    {
     "output_type": "execute_result",
     "data": {
      "text/html": [
       "\n",
       "    <style>\n",
       "    table.eli5-weights tr:hover {\n",
       "        filter: brightness(85%);\n",
       "    }\n",
       "</style>\n",
       "\n",
       "\n",
       "\n",
       "    \n",
       "\n",
       "    \n",
       "\n",
       "    \n",
       "\n",
       "    \n",
       "\n",
       "    \n",
       "\n",
       "    \n",
       "\n",
       "\n",
       "    \n",
       "\n",
       "    \n",
       "\n",
       "    \n",
       "\n",
       "    \n",
       "\n",
       "    \n",
       "\n",
       "    \n",
       "\n",
       "\n",
       "    \n",
       "\n",
       "    \n",
       "\n",
       "    \n",
       "\n",
       "    \n",
       "\n",
       "    \n",
       "        <table class=\"eli5-weights eli5-feature-importances\" style=\"border-collapse: collapse; border: none; margin-top: 0em; table-layout: auto;\">\n",
       "    <thead>\n",
       "    <tr style=\"border: none;\">\n",
       "        <th style=\"padding: 0 1em 0 0.5em; text-align: right; border: none;\">Weight</th>\n",
       "        <th style=\"padding: 0 0.5em 0 0.5em; text-align: left; border: none;\">Feature</th>\n",
       "    </tr>\n",
       "    </thead>\n",
       "    <tbody>\n",
       "    \n",
       "        <tr style=\"background-color: hsl(120, 100.00%, 80.00%); border: none;\">\n",
       "            <td style=\"padding: 0 1em 0 0.5em; text-align: right; border: none;\">\n",
       "                0.9655\n",
       "                \n",
       "                    &plusmn; 0.0743\n",
       "                \n",
       "            </td>\n",
       "            <td style=\"padding: 0 0.5em 0 0.5em; text-align: left; border: none;\">\n",
       "                AreaQuality\n",
       "            </td>\n",
       "        </tr>\n",
       "    \n",
       "        <tr style=\"background-color: hsl(120, 100.00%, 99.47%); border: none;\">\n",
       "            <td style=\"padding: 0 1em 0 0.5em; text-align: right; border: none;\">\n",
       "                0.0055\n",
       "                \n",
       "                    &plusmn; 0.0021\n",
       "                \n",
       "            </td>\n",
       "            <td style=\"padding: 0 0.5em 0 0.5em; text-align: left; border: none;\">\n",
       "                OverallCond YearRemodAdd\n",
       "            </td>\n",
       "        </tr>\n",
       "    \n",
       "        <tr style=\"background-color: hsl(120, 100.00%, 99.60%); border: none;\">\n",
       "            <td style=\"padding: 0 1em 0 0.5em; text-align: right; border: none;\">\n",
       "                0.0037\n",
       "                \n",
       "                    &plusmn; 0.0019\n",
       "                \n",
       "            </td>\n",
       "            <td style=\"padding: 0 0.5em 0 0.5em; text-align: left; border: none;\">\n",
       "                1stFlrSF OverallQualandCond\n",
       "            </td>\n",
       "        </tr>\n",
       "    \n",
       "        <tr style=\"background-color: hsl(120, 100.00%, 99.80%); border: none;\">\n",
       "            <td style=\"padding: 0 1em 0 0.5em; text-align: right; border: none;\">\n",
       "                0.0014\n",
       "                \n",
       "                    &plusmn; 0.0020\n",
       "                \n",
       "            </td>\n",
       "            <td style=\"padding: 0 0.5em 0 0.5em; text-align: left; border: none;\">\n",
       "                LotArea BsmtFinType1\n",
       "            </td>\n",
       "        </tr>\n",
       "    \n",
       "        <tr style=\"background-color: hsl(120, 100.00%, 99.80%); border: none;\">\n",
       "            <td style=\"padding: 0 1em 0 0.5em; text-align: right; border: none;\">\n",
       "                0.0013\n",
       "                \n",
       "                    &plusmn; 0.0022\n",
       "                \n",
       "            </td>\n",
       "            <td style=\"padding: 0 0.5em 0 0.5em; text-align: left; border: none;\">\n",
       "                LotArea GarageFinish\n",
       "            </td>\n",
       "        </tr>\n",
       "    \n",
       "        <tr style=\"background-color: hsl(120, 100.00%, 99.83%); border: none;\">\n",
       "            <td style=\"padding: 0 1em 0 0.5em; text-align: right; border: none;\">\n",
       "                0.0011\n",
       "                \n",
       "                    &plusmn; 0.0011\n",
       "                \n",
       "            </td>\n",
       "            <td style=\"padding: 0 0.5em 0 0.5em; text-align: left; border: none;\">\n",
       "                OverallQual 1stFlrSF\n",
       "            </td>\n",
       "        </tr>\n",
       "    \n",
       "        <tr style=\"background-color: hsl(120, 100.00%, 99.83%); border: none;\">\n",
       "            <td style=\"padding: 0 1em 0 0.5em; text-align: right; border: none;\">\n",
       "                0.0011\n",
       "                \n",
       "                    &plusmn; 0.0009\n",
       "                \n",
       "            </td>\n",
       "            <td style=\"padding: 0 0.5em 0 0.5em; text-align: left; border: none;\">\n",
       "                LotArea CentralAir\n",
       "            </td>\n",
       "        </tr>\n",
       "    \n",
       "        <tr style=\"background-color: hsl(120, 100.00%, 99.83%); border: none;\">\n",
       "            <td style=\"padding: 0 1em 0 0.5em; text-align: right; border: none;\">\n",
       "                0.0010\n",
       "                \n",
       "                    &plusmn; 0.0003\n",
       "                \n",
       "            </td>\n",
       "            <td style=\"padding: 0 0.5em 0 0.5em; text-align: left; border: none;\">\n",
       "                BsmtFinSF1\n",
       "            </td>\n",
       "        </tr>\n",
       "    \n",
       "        <tr style=\"background-color: hsl(120, 100.00%, 99.84%); border: none;\">\n",
       "            <td style=\"padding: 0 1em 0 0.5em; text-align: right; border: none;\">\n",
       "                0.0010\n",
       "                \n",
       "                    &plusmn; 0.0020\n",
       "                \n",
       "            </td>\n",
       "            <td style=\"padding: 0 0.5em 0 0.5em; text-align: left; border: none;\">\n",
       "                GrLivArea KitchenQual\n",
       "            </td>\n",
       "        </tr>\n",
       "    \n",
       "        <tr style=\"background-color: hsl(120, 100.00%, 99.84%); border: none;\">\n",
       "            <td style=\"padding: 0 1em 0 0.5em; text-align: right; border: none;\">\n",
       "                0.0010\n",
       "                \n",
       "                    &plusmn; 0.0008\n",
       "                \n",
       "            </td>\n",
       "            <td style=\"padding: 0 0.5em 0 0.5em; text-align: left; border: none;\">\n",
       "                GrLivArea Fireplaces\n",
       "            </td>\n",
       "        </tr>\n",
       "    \n",
       "    \n",
       "        \n",
       "            <tr style=\"background-color: hsl(120, 100.00%, 99.84%); border: none;\">\n",
       "                <td colspan=\"2\" style=\"padding: 0 0.5em 0 0.5em; text-align: center; border: none; white-space: nowrap;\">\n",
       "                    <i>&hellip; 675 more &hellip;</i>\n",
       "                </td>\n",
       "            </tr>\n",
       "        \n",
       "    \n",
       "    </tbody>\n",
       "</table>\n",
       "    \n",
       "\n",
       "    \n",
       "\n",
       "\n",
       "    \n",
       "\n",
       "    \n",
       "\n",
       "    \n",
       "\n",
       "    \n",
       "\n",
       "    \n",
       "\n",
       "    \n",
       "\n",
       "\n",
       "\n"
      ],
      "text/plain": [
       "<IPython.core.display.HTML object>"
      ]
     },
     "metadata": {},
     "execution_count": 141
    }
   ],
   "metadata": {}
  },
  {
   "cell_type": "code",
   "execution_count": 142,
   "source": [
    "# Evaluation\r\n",
    "random_forest_poly_scores = cross_val_score(random_forest_poly, X_poly_eval, y_poly_eval, scoring=\"neg_root_mean_squared_error\")\r\n",
    "print(\"RMSE of Random forest with polynomial features:\", random_forest_poly_scores.mean())"
   ],
   "outputs": [
    {
     "output_type": "stream",
     "name": "stdout",
     "text": [
      "RMSE of Random forest with polynomial features: -0.12668300634346782\n"
     ]
    }
   ],
   "metadata": {}
  },
  {
   "cell_type": "code",
   "execution_count": null,
   "source": [
    "random_forest_poly.fit(X_poly_train, y_poly_train)\r\n",
    "random_forest_poly_predictions = random_forest_poly.predict(final_test_poly_data)\r\n",
    "\r\n",
    "output = pd.DataFrame({\"Id\": test_data[\"Id\"], \"SalePrice\": random_forest_poly_predictions})\r\n",
    "output.to_csv(\"submissions/random_forest_polynomial_predictions.csv\", index=False)"
   ],
   "outputs": [],
   "metadata": {}
  },
  {
   "cell_type": "code",
   "execution_count": 143,
   "source": [
    "forest_selected_poly_features = feature_selector(random_forest_poly_eli5, 0.12668, random_forest_poly, train_poly_eval_data, \"SalePrice\")"
   ],
   "outputs": [
    {
     "output_type": "stream",
     "name": "stdout",
     "text": [
      "The score was improved by 0.00196\n",
      "The best score: 0.12472\n"
     ]
    }
   ],
   "metadata": {}
  },
  {
   "cell_type": "code",
   "execution_count": 145,
   "source": [
    "X_train_selected_poly = final_train_poly_data[forest_selected_poly_features]\r\n",
    "final_test_selected_data = final_test_poly_data[forest_selected_poly_features]\r\n",
    "\r\n",
    "random_forest_poly.fit(X_train_selected_poly, y_train)\r\n",
    "forest_poly_selected_predictions = random_forest_poly.predict(final_test_selected_data)\r\n",
    "\r\n",
    "output = pd.DataFrame({\"Id\": test_data[\"Id\"], \"SalePrice\": forest_poly_selected_predictions})\r\n",
    "output.to_csv(\"submissions/forest_poly_predictions.csv\", index=False)"
   ],
   "outputs": [],
   "metadata": {}
  },
  {
   "cell_type": "markdown",
   "source": [
    "# Notes"
   ],
   "metadata": {}
  },
  {
   "cell_type": "markdown",
   "source": [
    "## Table of scores"
   ],
   "metadata": {}
  },
  {
   "cell_type": "code",
   "execution_count": 194,
   "source": [
    "lin_reg_score = 0.1064\r\n",
    "ridge_score = 0.1055\r\n",
    "lasso_score = 0.14166\r\n",
    "forest_score = 0.12886\r\n",
    "\r\n",
    "poly_lin_reg_score = 0.3694\r\n",
    "poly_ridge_score = 0.10858\r\n",
    "poly_lasso_score = 0.12714\r\n",
    "poly_forest_score = 0.12472\r\n",
    "\r\n",
    "kaggle_lin_reg_score = 0.15491\r\n",
    "kaggle_ridge_score = 0.14247\r\n",
    "kaggle_lasso_score = 0.16597\r\n",
    "kaggle_forest_score = 0.13848\r\n",
    "\r\n",
    "\r\n",
    "kaggle_poly_lin_reg_score = None\r\n",
    "kaggle_poly_ridge_score = 0.13614\r\n",
    "kaggle_lasso_score = 0.14667\r\n",
    "kaggle_poly_forest_score = 0.13646\r\n",
    "\r\n",
    "\r\n",
    "\r\n",
    "scores_table = pd.DataFrame({\"Score\": [lin_reg_score, ridge_score, lasso_score, forest_score],\r\n",
    "                             \"Poly Score\": [poly_lin_reg_score, poly_ridge_score, poly_lasso_score, poly_forest_score],\r\n",
    "                             \"Kaggle Score\": [kaggle_lin_reg_score, kaggle_ridge_score, kaggle_lasso_score, kaggle_forest_score],\r\n",
    "                             \"Kaggle Poly Score\": [kaggle_poly_lin_reg_score, kaggle_poly_ridge_score, kaggle_lasso_score, kaggle_poly_forest_score]}).set_axis(\r\n",
    "                                 [\"Linear regression\", \"Ridge regression\", \"Lasso regression\", \"Random forest regressor\"], axis=\"index\"\r\n",
    "                             )"
   ],
   "outputs": [],
   "metadata": {}
  },
  {
   "cell_type": "code",
   "execution_count": 195,
   "source": [
    "scores_table"
   ],
   "outputs": [
    {
     "output_type": "execute_result",
     "data": {
      "text/html": [
       "<div>\n",
       "<style scoped>\n",
       "    .dataframe tbody tr th:only-of-type {\n",
       "        vertical-align: middle;\n",
       "    }\n",
       "\n",
       "    .dataframe tbody tr th {\n",
       "        vertical-align: top;\n",
       "    }\n",
       "\n",
       "    .dataframe thead th {\n",
       "        text-align: right;\n",
       "    }\n",
       "</style>\n",
       "<table border=\"1\" class=\"dataframe\">\n",
       "  <thead>\n",
       "    <tr style=\"text-align: right;\">\n",
       "      <th></th>\n",
       "      <th>Score</th>\n",
       "      <th>Poly Score</th>\n",
       "      <th>Kaggle Score</th>\n",
       "      <th>Kaggle Poly Score</th>\n",
       "    </tr>\n",
       "  </thead>\n",
       "  <tbody>\n",
       "    <tr>\n",
       "      <th>Linear regression</th>\n",
       "      <td>0.10640</td>\n",
       "      <td>0.3694</td>\n",
       "      <td>0.15491</td>\n",
       "      <td>NaN</td>\n",
       "    </tr>\n",
       "    <tr>\n",
       "      <th>Ridge regression</th>\n",
       "      <td>0.10890</td>\n",
       "      <td>0.1108</td>\n",
       "      <td>0.14182</td>\n",
       "      <td>0.44928</td>\n",
       "    </tr>\n",
       "    <tr>\n",
       "      <th>Lasso regression</th>\n",
       "      <td>0.14166</td>\n",
       "      <td>0.1328</td>\n",
       "      <td>NaN</td>\n",
       "      <td>NaN</td>\n",
       "    </tr>\n",
       "    <tr>\n",
       "      <th>Random forest regressor</th>\n",
       "      <td>0.12670</td>\n",
       "      <td>0.1251</td>\n",
       "      <td>0.13945</td>\n",
       "      <td>0.13769</td>\n",
       "    </tr>\n",
       "  </tbody>\n",
       "</table>\n",
       "</div>"
      ],
      "text/plain": [
       "                           Score  Poly Score  Kaggle Score  Kaggle Poly Score\n",
       "Linear regression        0.10640      0.3694       0.15491                NaN\n",
       "Ridge regression         0.10890      0.1108       0.14182            0.44928\n",
       "Lasso regression         0.14166      0.1328           NaN                NaN\n",
       "Random forest regressor  0.12670      0.1251       0.13945            0.13769"
      ]
     },
     "metadata": {},
     "execution_count": 195
    }
   ],
   "metadata": {}
  },
  {
   "cell_type": "markdown",
   "source": [
    "# Fails"
   ],
   "metadata": {}
  },
  {
   "cell_type": "markdown",
   "source": [
    "### Things which didn't have any improvements to final score."
   ],
   "metadata": {}
  },
  {
   "cell_type": "markdown",
   "source": [
    "- Data shuffling - shuffling data before cross validation doesn't improve score.\r\n",
    "- train_test_split - score is slightly worse than with cross validation.\r\n",
    "- Dealing with outliers - simply removing outliers had better impact for linear regression score and slightly worse result for random forest score.\r\n",
    "- Both scaling and normalizing had very poor results for score."
   ],
   "metadata": {}
  }
 ],
 "metadata": {
  "interpreter": {
   "hash": "9c73145fe1f8ba769fdf9edcb512a81fe38bcab3cb253b8e7a65c7a64ff93c59"
  },
  "kernelspec": {
   "name": "python3",
   "display_name": "Python 3.8.10 64-bit ('base': conda)"
  },
  "language_info": {
   "codemirror_mode": {
    "name": "ipython",
    "version": 3
   },
   "file_extension": ".py",
   "mimetype": "text/x-python",
   "name": "python",
   "nbconvert_exporter": "python",
   "pygments_lexer": "ipython3",
   "version": "3.8.10"
  },
  "orig_nbformat": 4
 },
 "nbformat": 4,
 "nbformat_minor": 2
}